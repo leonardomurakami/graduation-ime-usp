{
  "cells": [
    {
      "cell_type": "code",
      "execution_count": 1,
      "metadata": {
        "id": "lUdYLRYNZ4xR"
      },
      "outputs": [],
      "source": [
        "# Feito por\n",
        "# Leonardo Heidi Almeida Murakami, 11260186\n",
        "# Vítor Neri Roque, 12558099"
      ]
    },
    {
      "cell_type": "code",
      "execution_count": 2,
      "metadata": {
        "id": "8uliFrLHKuEe"
      },
      "outputs": [],
      "source": [
        "import matplotlib.pyplot as plt\n",
        "import numpy as np\n",
        "import pandas as pd\n",
        "import plotly.express as px"
      ]
    },
    {
      "cell_type": "code",
      "execution_count": 3,
      "metadata": {
        "id": "qJmrhVxV2Kxo"
      },
      "outputs": [],
      "source": [
        "df = pd.read_csv(\"https://raw.githubusercontent.com/wcota/covid19br/master/cases-brazil-states.csv\")"
      ]
    },
    {
      "cell_type": "code",
      "execution_count": 4,
      "metadata": {
        "id": "EDo7GRLwHGY_"
      },
      "outputs": [],
      "source": [
        "#CONSTANTS\n",
        "STATE = 'PA' #@param {type:\"string\"}\n",
        "FIRST_PEAK_DAY_CUT =  130#@param {type: \"integer\"}\n",
        "HYPEROPT_EPOCHS = 210000 #@param {type:\"slider\", min:10000, max:20000000, step:200000}\n",
        "MOVING_AVERAGE_INTERVAL = 7 #@param {type: \"integer\"}"
      ]
    },
    {
      "cell_type": "markdown",
      "metadata": {
        "id": "Dgj74-QuK0ya"
      },
      "source": [
        "# Data Pre-processing\n",
        "Filter data by state, since we only want data from Pará"
      ]
    },
    {
      "cell_type": "code",
      "execution_count": 5,
      "metadata": {
        "id": "4ixPLsPGLCVt"
      },
      "outputs": [],
      "source": [
        "df_pa = df.query(f\"state == '{STATE}'\").reset_index(drop=True).fillna(0)\n",
        "pop = (df_pa['totalCases'].iat[-1]*1e5/(df_pa['totalCases_per_100k_inhabitants'].iat[-1]))\n"
      ]
    },
    {
      "cell_type": "code",
      "execution_count": 6,
      "metadata": {
        "id": "Y7VXIGyPMZmD"
      },
      "outputs": [],
      "source": [
        "df_pa['date'] = pd.to_datetime(df_pa['date'])\n",
        "rolling_df_pa = df_pa.copy()\n",
        "rolling_df_pa.index = rolling_df_pa['date']\n",
        "\n",
        "# Calculate cumulative cases\n",
        "rolling_df_pa['sumCases'] = rolling_df_pa.newCases.cumsum()\n",
        "rolling_df_pa['suspected'] = rolling_df_pa.sumCases.apply(lambda x: pop - x)\n",
        "rolling_df_pa['infected'] = rolling_df_pa['totalCases'] - rolling_df_pa['recovered']\n",
        "numeric_columns = rolling_df_pa.select_dtypes(include=['number']).columns\n",
        "moving_average_df = rolling_df_pa[numeric_columns].rolling(MOVING_AVERAGE_INTERVAL).mean().dropna()\n",
        "moving_average_df = moving_average_df.reset_index()"
      ]
    },
    {
      "cell_type": "markdown",
      "metadata": {
        "id": "Sq8M8kEzMvhb"
      },
      "source": [
        "## Comparison between Moving Average (top) and Raw Data (bottom)"
      ]
    },
    {
      "cell_type": "code",
      "execution_count": 7,
      "metadata": {
        "colab": {
          "base_uri": "https://localhost:8080/",
          "height": 542
        },
        "id": "_cyIj4ikLLUR",
        "outputId": "55f43ab2-65b6-440c-e54d-a1d9911c1189"
      },
      "outputs": [
        {
          "data": {
            "application/vnd.plotly.v1+json": {
              "config": {
                "plotlyServerURL": "https://plot.ly"
              },
              "data": [
                {
                  "hovertemplate": "index=%{x}<br>newCases=%{y}<extra></extra>",
                  "legendgroup": "",
                  "line": {
                    "color": "#636efa",
                    "dash": "solid"
                  },
                  "marker": {
                    "symbol": "circle"
                  },
                  "mode": "lines",
                  "name": "Original Data",
                  "showlegend": true,
                  "type": "scattergl",
                  "x": {
                    "bdata": "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",
                    "dtype": "i2"
                  },
                  "xaxis": "x",
                  "y": {
                    "bdata": "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",
                    "dtype": "i2"
                  },
                  "yaxis": "y"
                },
                {
                  "name": "7 Day Moving Average",
                  "showlegend": true,
                  "type": "scatter",
                  "x": {
                    "bdata": "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",
                    "dtype": "i2"
                  },
                  "y": {
                    "bdata": "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",
                    "dtype": "f8"
                  }
                }
              ],
              "layout": {
                "legend": {
                  "tracegroupgap": 0
                },
                "margin": {
                  "t": 60
                },
                "template": {
                  "data": {
                    "bar": [
                      {
                        "error_x": {
                          "color": "#2a3f5f"
                        },
                        "error_y": {
                          "color": "#2a3f5f"
                        },
                        "marker": {
                          "line": {
                            "color": "#E5ECF6",
                            "width": 0.5
                          },
                          "pattern": {
                            "fillmode": "overlay",
                            "size": 10,
                            "solidity": 0.2
                          }
                        },
                        "type": "bar"
                      }
                    ],
                    "barpolar": [
                      {
                        "marker": {
                          "line": {
                            "color": "#E5ECF6",
                            "width": 0.5
                          },
                          "pattern": {
                            "fillmode": "overlay",
                            "size": 10,
                            "solidity": 0.2
                          }
                        },
                        "type": "barpolar"
                      }
                    ],
                    "carpet": [
                      {
                        "aaxis": {
                          "endlinecolor": "#2a3f5f",
                          "gridcolor": "white",
                          "linecolor": "white",
                          "minorgridcolor": "white",
                          "startlinecolor": "#2a3f5f"
                        },
                        "baxis": {
                          "endlinecolor": "#2a3f5f",
                          "gridcolor": "white",
                          "linecolor": "white",
                          "minorgridcolor": "white",
                          "startlinecolor": "#2a3f5f"
                        },
                        "type": "carpet"
                      }
                    ],
                    "choropleth": [
                      {
                        "colorbar": {
                          "outlinewidth": 0,
                          "ticks": ""
                        },
                        "type": "choropleth"
                      }
                    ],
                    "contour": [
                      {
                        "colorbar": {
                          "outlinewidth": 0,
                          "ticks": ""
                        },
                        "colorscale": [
                          [
                            0,
                            "#0d0887"
                          ],
                          [
                            0.1111111111111111,
                            "#46039f"
                          ],
                          [
                            0.2222222222222222,
                            "#7201a8"
                          ],
                          [
                            0.3333333333333333,
                            "#9c179e"
                          ],
                          [
                            0.4444444444444444,
                            "#bd3786"
                          ],
                          [
                            0.5555555555555556,
                            "#d8576b"
                          ],
                          [
                            0.6666666666666666,
                            "#ed7953"
                          ],
                          [
                            0.7777777777777778,
                            "#fb9f3a"
                          ],
                          [
                            0.8888888888888888,
                            "#fdca26"
                          ],
                          [
                            1,
                            "#f0f921"
                          ]
                        ],
                        "type": "contour"
                      }
                    ],
                    "contourcarpet": [
                      {
                        "colorbar": {
                          "outlinewidth": 0,
                          "ticks": ""
                        },
                        "type": "contourcarpet"
                      }
                    ],
                    "heatmap": [
                      {
                        "colorbar": {
                          "outlinewidth": 0,
                          "ticks": ""
                        },
                        "colorscale": [
                          [
                            0,
                            "#0d0887"
                          ],
                          [
                            0.1111111111111111,
                            "#46039f"
                          ],
                          [
                            0.2222222222222222,
                            "#7201a8"
                          ],
                          [
                            0.3333333333333333,
                            "#9c179e"
                          ],
                          [
                            0.4444444444444444,
                            "#bd3786"
                          ],
                          [
                            0.5555555555555556,
                            "#d8576b"
                          ],
                          [
                            0.6666666666666666,
                            "#ed7953"
                          ],
                          [
                            0.7777777777777778,
                            "#fb9f3a"
                          ],
                          [
                            0.8888888888888888,
                            "#fdca26"
                          ],
                          [
                            1,
                            "#f0f921"
                          ]
                        ],
                        "type": "heatmap"
                      }
                    ],
                    "histogram": [
                      {
                        "marker": {
                          "pattern": {
                            "fillmode": "overlay",
                            "size": 10,
                            "solidity": 0.2
                          }
                        },
                        "type": "histogram"
                      }
                    ],
                    "histogram2d": [
                      {
                        "colorbar": {
                          "outlinewidth": 0,
                          "ticks": ""
                        },
                        "colorscale": [
                          [
                            0,
                            "#0d0887"
                          ],
                          [
                            0.1111111111111111,
                            "#46039f"
                          ],
                          [
                            0.2222222222222222,
                            "#7201a8"
                          ],
                          [
                            0.3333333333333333,
                            "#9c179e"
                          ],
                          [
                            0.4444444444444444,
                            "#bd3786"
                          ],
                          [
                            0.5555555555555556,
                            "#d8576b"
                          ],
                          [
                            0.6666666666666666,
                            "#ed7953"
                          ],
                          [
                            0.7777777777777778,
                            "#fb9f3a"
                          ],
                          [
                            0.8888888888888888,
                            "#fdca26"
                          ],
                          [
                            1,
                            "#f0f921"
                          ]
                        ],
                        "type": "histogram2d"
                      }
                    ],
                    "histogram2dcontour": [
                      {
                        "colorbar": {
                          "outlinewidth": 0,
                          "ticks": ""
                        },
                        "colorscale": [
                          [
                            0,
                            "#0d0887"
                          ],
                          [
                            0.1111111111111111,
                            "#46039f"
                          ],
                          [
                            0.2222222222222222,
                            "#7201a8"
                          ],
                          [
                            0.3333333333333333,
                            "#9c179e"
                          ],
                          [
                            0.4444444444444444,
                            "#bd3786"
                          ],
                          [
                            0.5555555555555556,
                            "#d8576b"
                          ],
                          [
                            0.6666666666666666,
                            "#ed7953"
                          ],
                          [
                            0.7777777777777778,
                            "#fb9f3a"
                          ],
                          [
                            0.8888888888888888,
                            "#fdca26"
                          ],
                          [
                            1,
                            "#f0f921"
                          ]
                        ],
                        "type": "histogram2dcontour"
                      }
                    ],
                    "mesh3d": [
                      {
                        "colorbar": {
                          "outlinewidth": 0,
                          "ticks": ""
                        },
                        "type": "mesh3d"
                      }
                    ],
                    "parcoords": [
                      {
                        "line": {
                          "colorbar": {
                            "outlinewidth": 0,
                            "ticks": ""
                          }
                        },
                        "type": "parcoords"
                      }
                    ],
                    "pie": [
                      {
                        "automargin": true,
                        "type": "pie"
                      }
                    ],
                    "scatter": [
                      {
                        "fillpattern": {
                          "fillmode": "overlay",
                          "size": 10,
                          "solidity": 0.2
                        },
                        "type": "scatter"
                      }
                    ],
                    "scatter3d": [
                      {
                        "line": {
                          "colorbar": {
                            "outlinewidth": 0,
                            "ticks": ""
                          }
                        },
                        "marker": {
                          "colorbar": {
                            "outlinewidth": 0,
                            "ticks": ""
                          }
                        },
                        "type": "scatter3d"
                      }
                    ],
                    "scattercarpet": [
                      {
                        "marker": {
                          "colorbar": {
                            "outlinewidth": 0,
                            "ticks": ""
                          }
                        },
                        "type": "scattercarpet"
                      }
                    ],
                    "scattergeo": [
                      {
                        "marker": {
                          "colorbar": {
                            "outlinewidth": 0,
                            "ticks": ""
                          }
                        },
                        "type": "scattergeo"
                      }
                    ],
                    "scattergl": [
                      {
                        "marker": {
                          "colorbar": {
                            "outlinewidth": 0,
                            "ticks": ""
                          }
                        },
                        "type": "scattergl"
                      }
                    ],
                    "scattermap": [
                      {
                        "marker": {
                          "colorbar": {
                            "outlinewidth": 0,
                            "ticks": ""
                          }
                        },
                        "type": "scattermap"
                      }
                    ],
                    "scattermapbox": [
                      {
                        "marker": {
                          "colorbar": {
                            "outlinewidth": 0,
                            "ticks": ""
                          }
                        },
                        "type": "scattermapbox"
                      }
                    ],
                    "scatterpolar": [
                      {
                        "marker": {
                          "colorbar": {
                            "outlinewidth": 0,
                            "ticks": ""
                          }
                        },
                        "type": "scatterpolar"
                      }
                    ],
                    "scatterpolargl": [
                      {
                        "marker": {
                          "colorbar": {
                            "outlinewidth": 0,
                            "ticks": ""
                          }
                        },
                        "type": "scatterpolargl"
                      }
                    ],
                    "scatterternary": [
                      {
                        "marker": {
                          "colorbar": {
                            "outlinewidth": 0,
                            "ticks": ""
                          }
                        },
                        "type": "scatterternary"
                      }
                    ],
                    "surface": [
                      {
                        "colorbar": {
                          "outlinewidth": 0,
                          "ticks": ""
                        },
                        "colorscale": [
                          [
                            0,
                            "#0d0887"
                          ],
                          [
                            0.1111111111111111,
                            "#46039f"
                          ],
                          [
                            0.2222222222222222,
                            "#7201a8"
                          ],
                          [
                            0.3333333333333333,
                            "#9c179e"
                          ],
                          [
                            0.4444444444444444,
                            "#bd3786"
                          ],
                          [
                            0.5555555555555556,
                            "#d8576b"
                          ],
                          [
                            0.6666666666666666,
                            "#ed7953"
                          ],
                          [
                            0.7777777777777778,
                            "#fb9f3a"
                          ],
                          [
                            0.8888888888888888,
                            "#fdca26"
                          ],
                          [
                            1,
                            "#f0f921"
                          ]
                        ],
                        "type": "surface"
                      }
                    ],
                    "table": [
                      {
                        "cells": {
                          "fill": {
                            "color": "#EBF0F8"
                          },
                          "line": {
                            "color": "white"
                          }
                        },
                        "header": {
                          "fill": {
                            "color": "#C8D4E3"
                          },
                          "line": {
                            "color": "white"
                          }
                        },
                        "type": "table"
                      }
                    ]
                  },
                  "layout": {
                    "annotationdefaults": {
                      "arrowcolor": "#2a3f5f",
                      "arrowhead": 0,
                      "arrowwidth": 1
                    },
                    "autotypenumbers": "strict",
                    "coloraxis": {
                      "colorbar": {
                        "outlinewidth": 0,
                        "ticks": ""
                      }
                    },
                    "colorscale": {
                      "diverging": [
                        [
                          0,
                          "#8e0152"
                        ],
                        [
                          0.1,
                          "#c51b7d"
                        ],
                        [
                          0.2,
                          "#de77ae"
                        ],
                        [
                          0.3,
                          "#f1b6da"
                        ],
                        [
                          0.4,
                          "#fde0ef"
                        ],
                        [
                          0.5,
                          "#f7f7f7"
                        ],
                        [
                          0.6,
                          "#e6f5d0"
                        ],
                        [
                          0.7,
                          "#b8e186"
                        ],
                        [
                          0.8,
                          "#7fbc41"
                        ],
                        [
                          0.9,
                          "#4d9221"
                        ],
                        [
                          1,
                          "#276419"
                        ]
                      ],
                      "sequential": [
                        [
                          0,
                          "#0d0887"
                        ],
                        [
                          0.1111111111111111,
                          "#46039f"
                        ],
                        [
                          0.2222222222222222,
                          "#7201a8"
                        ],
                        [
                          0.3333333333333333,
                          "#9c179e"
                        ],
                        [
                          0.4444444444444444,
                          "#bd3786"
                        ],
                        [
                          0.5555555555555556,
                          "#d8576b"
                        ],
                        [
                          0.6666666666666666,
                          "#ed7953"
                        ],
                        [
                          0.7777777777777778,
                          "#fb9f3a"
                        ],
                        [
                          0.8888888888888888,
                          "#fdca26"
                        ],
                        [
                          1,
                          "#f0f921"
                        ]
                      ],
                      "sequentialminus": [
                        [
                          0,
                          "#0d0887"
                        ],
                        [
                          0.1111111111111111,
                          "#46039f"
                        ],
                        [
                          0.2222222222222222,
                          "#7201a8"
                        ],
                        [
                          0.3333333333333333,
                          "#9c179e"
                        ],
                        [
                          0.4444444444444444,
                          "#bd3786"
                        ],
                        [
                          0.5555555555555556,
                          "#d8576b"
                        ],
                        [
                          0.6666666666666666,
                          "#ed7953"
                        ],
                        [
                          0.7777777777777778,
                          "#fb9f3a"
                        ],
                        [
                          0.8888888888888888,
                          "#fdca26"
                        ],
                        [
                          1,
                          "#f0f921"
                        ]
                      ]
                    },
                    "colorway": [
                      "#636efa",
                      "#EF553B",
                      "#00cc96",
                      "#ab63fa",
                      "#FFA15A",
                      "#19d3f3",
                      "#FF6692",
                      "#B6E880",
                      "#FF97FF",
                      "#FECB52"
                    ],
                    "font": {
                      "color": "#2a3f5f"
                    },
                    "geo": {
                      "bgcolor": "white",
                      "lakecolor": "white",
                      "landcolor": "#E5ECF6",
                      "showlakes": true,
                      "showland": true,
                      "subunitcolor": "white"
                    },
                    "hoverlabel": {
                      "align": "left"
                    },
                    "hovermode": "closest",
                    "mapbox": {
                      "style": "light"
                    },
                    "paper_bgcolor": "white",
                    "plot_bgcolor": "#E5ECF6",
                    "polar": {
                      "angularaxis": {
                        "gridcolor": "white",
                        "linecolor": "white",
                        "ticks": ""
                      },
                      "bgcolor": "#E5ECF6",
                      "radialaxis": {
                        "gridcolor": "white",
                        "linecolor": "white",
                        "ticks": ""
                      }
                    },
                    "scene": {
                      "xaxis": {
                        "backgroundcolor": "#E5ECF6",
                        "gridcolor": "white",
                        "gridwidth": 2,
                        "linecolor": "white",
                        "showbackground": true,
                        "ticks": "",
                        "zerolinecolor": "white"
                      },
                      "yaxis": {
                        "backgroundcolor": "#E5ECF6",
                        "gridcolor": "white",
                        "gridwidth": 2,
                        "linecolor": "white",
                        "showbackground": true,
                        "ticks": "",
                        "zerolinecolor": "white"
                      },
                      "zaxis": {
                        "backgroundcolor": "#E5ECF6",
                        "gridcolor": "white",
                        "gridwidth": 2,
                        "linecolor": "white",
                        "showbackground": true,
                        "ticks": "",
                        "zerolinecolor": "white"
                      }
                    },
                    "shapedefaults": {
                      "line": {
                        "color": "#2a3f5f"
                      }
                    },
                    "ternary": {
                      "aaxis": {
                        "gridcolor": "white",
                        "linecolor": "white",
                        "ticks": ""
                      },
                      "baxis": {
                        "gridcolor": "white",
                        "linecolor": "white",
                        "ticks": ""
                      },
                      "bgcolor": "#E5ECF6",
                      "caxis": {
                        "gridcolor": "white",
                        "linecolor": "white",
                        "ticks": ""
                      }
                    },
                    "title": {
                      "x": 0.05
                    },
                    "xaxis": {
                      "automargin": true,
                      "gridcolor": "white",
                      "linecolor": "white",
                      "ticks": "",
                      "title": {
                        "standoff": 15
                      },
                      "zerolinecolor": "white",
                      "zerolinewidth": 2
                    },
                    "yaxis": {
                      "automargin": true,
                      "gridcolor": "white",
                      "linecolor": "white",
                      "ticks": "",
                      "title": {
                        "standoff": 15
                      },
                      "zerolinecolor": "white",
                      "zerolinewidth": 2
                    }
                  }
                },
                "xaxis": {
                  "anchor": "y",
                  "domain": [
                    0,
                    1
                  ],
                  "title": {
                    "text": "index"
                  }
                },
                "yaxis": {
                  "anchor": "x",
                  "domain": [
                    0,
                    1
                  ],
                  "title": {
                    "text": "newCases"
                  }
                }
              }
            }
          },
          "metadata": {},
          "output_type": "display_data"
        }
      ],
      "source": [
        "x_col = 'index'\n",
        "y_col = 'newCases'\n",
        "fig = px.line(rolling_df_pa.reset_index(drop=True).reset_index(), x=x_col, y=y_col)\n",
        "fig.add_scatter(x=moving_average_df.reset_index()[x_col], y=moving_average_df.reset_index()[y_col])\n",
        "\n",
        "fig.data[0].name = \"Original Data\"\n",
        "fig.data[0].showlegend = True\n",
        "fig.data[1].name = f\"{MOVING_AVERAGE_INTERVAL} Day Moving Average\"\n",
        "fig.data[1].showlegend = True\n",
        "\n",
        "fig.show()"
      ]
    },
    {
      "cell_type": "markdown",
      "metadata": {
        "id": "U4UnHt6ibAyG"
      },
      "source": [
        "Como queremos o primeiro pico, cortaremos parte dos dados fora"
      ]
    },
    {
      "cell_type": "code",
      "execution_count": 8,
      "metadata": {
        "colab": {
          "base_uri": "https://localhost:8080/",
          "height": 542
        },
        "id": "YPlZpGWacGA-",
        "outputId": "296db25f-14a6-4763-8f7b-03a65bb65de7"
      },
      "outputs": [
        {
          "data": {
            "application/vnd.plotly.v1+json": {
              "config": {
                "plotlyServerURL": "https://plot.ly"
              },
              "data": [
                {
                  "hovertemplate": "date=%{x}<br>newCases=%{y}<extra></extra>",
                  "legendgroup": "",
                  "line": {
                    "color": "#636efa",
                    "dash": "solid"
                  },
                  "marker": {
                    "symbol": "circle"
                  },
                  "mode": "lines",
                  "name": "",
                  "orientation": "v",
                  "showlegend": false,
                  "type": "scatter",
                  "x": [
                    "2020-03-24T00:00:00",
                    "2020-03-25T00:00:00",
                    "2020-03-26T00:00:00",
                    "2020-03-27T00:00:00",
                    "2020-03-28T00:00:00",
                    "2020-03-29T00:00:00",
                    "2020-03-30T00:00:00",
                    "2020-03-31T00:00:00",
                    "2020-04-01T00:00:00",
                    "2020-04-02T00:00:00",
                    "2020-04-03T00:00:00",
                    "2020-04-04T00:00:00",
                    "2020-04-05T00:00:00",
                    "2020-04-06T00:00:00",
                    "2020-04-07T00:00:00",
                    "2020-04-08T00:00:00",
                    "2020-04-09T00:00:00",
                    "2020-04-10T00:00:00",
                    "2020-04-11T00:00:00",
                    "2020-04-12T00:00:00",
                    "2020-04-13T00:00:00",
                    "2020-04-14T00:00:00",
                    "2020-04-15T00:00:00",
                    "2020-04-16T00:00:00",
                    "2020-04-17T00:00:00",
                    "2020-04-18T00:00:00",
                    "2020-04-19T00:00:00",
                    "2020-04-20T00:00:00",
                    "2020-04-21T00:00:00",
                    "2020-04-22T00:00:00",
                    "2020-04-23T00:00:00",
                    "2020-04-24T00:00:00",
                    "2020-04-25T00:00:00",
                    "2020-04-26T00:00:00",
                    "2020-04-27T00:00:00",
                    "2020-04-28T00:00:00",
                    "2020-04-29T00:00:00",
                    "2020-04-30T00:00:00",
                    "2020-05-01T00:00:00",
                    "2020-05-02T00:00:00",
                    "2020-05-03T00:00:00",
                    "2020-05-04T00:00:00",
                    "2020-05-05T00:00:00",
                    "2020-05-06T00:00:00",
                    "2020-05-07T00:00:00",
                    "2020-05-08T00:00:00",
                    "2020-05-09T00:00:00",
                    "2020-05-10T00:00:00",
                    "2020-05-11T00:00:00",
                    "2020-05-12T00:00:00",
                    "2020-05-13T00:00:00",
                    "2020-05-14T00:00:00",
                    "2020-05-15T00:00:00",
                    "2020-05-16T00:00:00",
                    "2020-05-17T00:00:00",
                    "2020-05-18T00:00:00",
                    "2020-05-19T00:00:00",
                    "2020-05-20T00:00:00",
                    "2020-05-21T00:00:00",
                    "2020-05-22T00:00:00",
                    "2020-05-23T00:00:00",
                    "2020-05-24T00:00:00",
                    "2020-05-25T00:00:00",
                    "2020-05-26T00:00:00",
                    "2020-05-27T00:00:00",
                    "2020-05-28T00:00:00",
                    "2020-05-29T00:00:00",
                    "2020-05-30T00:00:00",
                    "2020-05-31T00:00:00",
                    "2020-06-01T00:00:00",
                    "2020-06-02T00:00:00",
                    "2020-06-03T00:00:00",
                    "2020-06-04T00:00:00",
                    "2020-06-05T00:00:00",
                    "2020-06-06T00:00:00",
                    "2020-06-07T00:00:00",
                    "2020-06-08T00:00:00",
                    "2020-06-09T00:00:00",
                    "2020-06-10T00:00:00",
                    "2020-06-11T00:00:00",
                    "2020-06-12T00:00:00",
                    "2020-06-13T00:00:00",
                    "2020-06-14T00:00:00",
                    "2020-06-15T00:00:00",
                    "2020-06-16T00:00:00",
                    "2020-06-17T00:00:00",
                    "2020-06-18T00:00:00",
                    "2020-06-19T00:00:00",
                    "2020-06-20T00:00:00",
                    "2020-06-21T00:00:00",
                    "2020-06-22T00:00:00",
                    "2020-06-23T00:00:00",
                    "2020-06-24T00:00:00",
                    "2020-06-25T00:00:00",
                    "2020-06-26T00:00:00",
                    "2020-06-27T00:00:00",
                    "2020-06-28T00:00:00",
                    "2020-06-29T00:00:00",
                    "2020-06-30T00:00:00",
                    "2020-07-01T00:00:00",
                    "2020-07-02T00:00:00",
                    "2020-07-03T00:00:00",
                    "2020-07-04T00:00:00",
                    "2020-07-05T00:00:00",
                    "2020-07-06T00:00:00",
                    "2020-07-07T00:00:00",
                    "2020-07-08T00:00:00",
                    "2020-07-09T00:00:00",
                    "2020-07-10T00:00:00",
                    "2020-07-11T00:00:00",
                    "2020-07-12T00:00:00",
                    "2020-07-13T00:00:00",
                    "2020-07-14T00:00:00",
                    "2020-07-15T00:00:00",
                    "2020-07-16T00:00:00",
                    "2020-07-17T00:00:00",
                    "2020-07-18T00:00:00",
                    "2020-07-19T00:00:00",
                    "2020-07-20T00:00:00",
                    "2020-07-21T00:00:00",
                    "2020-07-22T00:00:00",
                    "2020-07-23T00:00:00",
                    "2020-07-24T00:00:00",
                    "2020-07-25T00:00:00",
                    "2020-07-26T00:00:00",
                    "2020-07-27T00:00:00",
                    "2020-07-28T00:00:00",
                    "2020-07-29T00:00:00",
                    "2020-07-30T00:00:00",
                    "2020-07-31T00:00:00"
                  ],
                  "xaxis": "x",
                  "y": {
                    "bdata": "t23btm3b5j/btm3btm3rP9u2bdu2bfs/AAAAAAAAAECSJEmSJEkCQJIkSZIkSQJAAAAAAAAACEAlSZIkSZIQQNu2bdu2bRNAJUmSJEmSFEC3bdu2bdsgQJIkSZIkSSJAt23btm3bIkBu27Zt27YrQEmSJEmSJDFAAAAAAAAAMkBJkiRJkiQxQJIkSZIkSTRASZIkSZIkNkBu27Zt27Y4QG7btm3btjpA27Zt27ZtQEC3bdu2bdtGQG7btm3btktAkiRJkiRJTUC3bdu2bdtMQNu2bdu2bU5ASZIkSZIkVUDbtm3btu1WQJIkSZIkSVlAt23btm1bWUAAAAAAAABhQG7btm3btmNAt23btm27aEBJkiRJkoRnQG7btm3bFmdAbtu2bdvWaEDbtm3btu1uQJIkSZIkyW9AJUmSJEmycUBJkiRJkoRwQNu2bdu2PXJAJUmSJEnCdUC3bdu2bTt6QG7btm3bNnpAbtu2bds2fEAlSZIkSWJ9QLdt27Ztm35Abtu2bdv+gEDbtm3btjWDQEmSJEmShIVAAAAAAADAiECSJEmSJFGLQG7btm3bxoxAAAAAAACYjkC3bdu2bYOQQG7btm3bHpJA27Zt27Ypk0CSJEmSJDWUQAAAAAAAdJZAAAAAAADMl0CSJEmSJLGXQLdt27Ztj5pAAAAAAABcnECSJEmSJHGcQLdt27ZtS6BAkiRJkiRLoEAAAAAAAKieQAAAAAAAWJ1At23btm07nEBJkiRJkryeQJIkSZIkhaBAt23btm0BoEBJkiRJknyiQNu2bdu226FAAAAAAAA0okAAAAAAAJijQEmSJEmS9KJA27Zt27blokC3bdu2bX+hQEmSJEmS1JtA27Zt27ZZoEAlSZIkSbCgQJIkSZIkhZ5AJUmSJElCnkCSJEmSJIGdQJIkSZIkp6BAt23btm15okBJkiRJkgSiQG7btm3bvqJAt23btm1po0BJkiRJkoyjQJIkSZIkb6NA27Zt27ZNokBu27Zt21aiQJIkSZIkn6FAkiRJkiTzoEBu27Zt20KgQG7btm3bkp9A27Zt27ZRn0CSJEmSJB2fQJIkSZIkgZ1Abtu2bdvWnUAAAAAAAMCdQNu2bdu25ZxAJUmSJEnGnEBJkiRJkkScQLdt27ZtX5tAt23btm2vm0Dbtm3btpGaQCVJkiRJuppAAAAAAAC4m0BJkiRJkvyaQJIkSZIkeZtAkiRJkiThm0BJkiRJktCaQNu2bdu2RZpASZIkSZKImkAAAAAAAGSaQJIkSZIkuZlAJUmSJEmCmUAAAAAAAMCYQAAAAAAAgJhA27Zt27aBmEAlSZIkSUaXQNu2bdu20ZZAt23btm0vlUAAAAAAANSTQG7btm3b0pJA27Zt27YlkkA=",
                    "dtype": "f8"
                  },
                  "yaxis": "y"
                }
              ],
              "layout": {
                "legend": {
                  "tracegroupgap": 0
                },
                "margin": {
                  "t": 60
                },
                "template": {
                  "data": {
                    "bar": [
                      {
                        "error_x": {
                          "color": "#2a3f5f"
                        },
                        "error_y": {
                          "color": "#2a3f5f"
                        },
                        "marker": {
                          "line": {
                            "color": "#E5ECF6",
                            "width": 0.5
                          },
                          "pattern": {
                            "fillmode": "overlay",
                            "size": 10,
                            "solidity": 0.2
                          }
                        },
                        "type": "bar"
                      }
                    ],
                    "barpolar": [
                      {
                        "marker": {
                          "line": {
                            "color": "#E5ECF6",
                            "width": 0.5
                          },
                          "pattern": {
                            "fillmode": "overlay",
                            "size": 10,
                            "solidity": 0.2
                          }
                        },
                        "type": "barpolar"
                      }
                    ],
                    "carpet": [
                      {
                        "aaxis": {
                          "endlinecolor": "#2a3f5f",
                          "gridcolor": "white",
                          "linecolor": "white",
                          "minorgridcolor": "white",
                          "startlinecolor": "#2a3f5f"
                        },
                        "baxis": {
                          "endlinecolor": "#2a3f5f",
                          "gridcolor": "white",
                          "linecolor": "white",
                          "minorgridcolor": "white",
                          "startlinecolor": "#2a3f5f"
                        },
                        "type": "carpet"
                      }
                    ],
                    "choropleth": [
                      {
                        "colorbar": {
                          "outlinewidth": 0,
                          "ticks": ""
                        },
                        "type": "choropleth"
                      }
                    ],
                    "contour": [
                      {
                        "colorbar": {
                          "outlinewidth": 0,
                          "ticks": ""
                        },
                        "colorscale": [
                          [
                            0,
                            "#0d0887"
                          ],
                          [
                            0.1111111111111111,
                            "#46039f"
                          ],
                          [
                            0.2222222222222222,
                            "#7201a8"
                          ],
                          [
                            0.3333333333333333,
                            "#9c179e"
                          ],
                          [
                            0.4444444444444444,
                            "#bd3786"
                          ],
                          [
                            0.5555555555555556,
                            "#d8576b"
                          ],
                          [
                            0.6666666666666666,
                            "#ed7953"
                          ],
                          [
                            0.7777777777777778,
                            "#fb9f3a"
                          ],
                          [
                            0.8888888888888888,
                            "#fdca26"
                          ],
                          [
                            1,
                            "#f0f921"
                          ]
                        ],
                        "type": "contour"
                      }
                    ],
                    "contourcarpet": [
                      {
                        "colorbar": {
                          "outlinewidth": 0,
                          "ticks": ""
                        },
                        "type": "contourcarpet"
                      }
                    ],
                    "heatmap": [
                      {
                        "colorbar": {
                          "outlinewidth": 0,
                          "ticks": ""
                        },
                        "colorscale": [
                          [
                            0,
                            "#0d0887"
                          ],
                          [
                            0.1111111111111111,
                            "#46039f"
                          ],
                          [
                            0.2222222222222222,
                            "#7201a8"
                          ],
                          [
                            0.3333333333333333,
                            "#9c179e"
                          ],
                          [
                            0.4444444444444444,
                            "#bd3786"
                          ],
                          [
                            0.5555555555555556,
                            "#d8576b"
                          ],
                          [
                            0.6666666666666666,
                            "#ed7953"
                          ],
                          [
                            0.7777777777777778,
                            "#fb9f3a"
                          ],
                          [
                            0.8888888888888888,
                            "#fdca26"
                          ],
                          [
                            1,
                            "#f0f921"
                          ]
                        ],
                        "type": "heatmap"
                      }
                    ],
                    "histogram": [
                      {
                        "marker": {
                          "pattern": {
                            "fillmode": "overlay",
                            "size": 10,
                            "solidity": 0.2
                          }
                        },
                        "type": "histogram"
                      }
                    ],
                    "histogram2d": [
                      {
                        "colorbar": {
                          "outlinewidth": 0,
                          "ticks": ""
                        },
                        "colorscale": [
                          [
                            0,
                            "#0d0887"
                          ],
                          [
                            0.1111111111111111,
                            "#46039f"
                          ],
                          [
                            0.2222222222222222,
                            "#7201a8"
                          ],
                          [
                            0.3333333333333333,
                            "#9c179e"
                          ],
                          [
                            0.4444444444444444,
                            "#bd3786"
                          ],
                          [
                            0.5555555555555556,
                            "#d8576b"
                          ],
                          [
                            0.6666666666666666,
                            "#ed7953"
                          ],
                          [
                            0.7777777777777778,
                            "#fb9f3a"
                          ],
                          [
                            0.8888888888888888,
                            "#fdca26"
                          ],
                          [
                            1,
                            "#f0f921"
                          ]
                        ],
                        "type": "histogram2d"
                      }
                    ],
                    "histogram2dcontour": [
                      {
                        "colorbar": {
                          "outlinewidth": 0,
                          "ticks": ""
                        },
                        "colorscale": [
                          [
                            0,
                            "#0d0887"
                          ],
                          [
                            0.1111111111111111,
                            "#46039f"
                          ],
                          [
                            0.2222222222222222,
                            "#7201a8"
                          ],
                          [
                            0.3333333333333333,
                            "#9c179e"
                          ],
                          [
                            0.4444444444444444,
                            "#bd3786"
                          ],
                          [
                            0.5555555555555556,
                            "#d8576b"
                          ],
                          [
                            0.6666666666666666,
                            "#ed7953"
                          ],
                          [
                            0.7777777777777778,
                            "#fb9f3a"
                          ],
                          [
                            0.8888888888888888,
                            "#fdca26"
                          ],
                          [
                            1,
                            "#f0f921"
                          ]
                        ],
                        "type": "histogram2dcontour"
                      }
                    ],
                    "mesh3d": [
                      {
                        "colorbar": {
                          "outlinewidth": 0,
                          "ticks": ""
                        },
                        "type": "mesh3d"
                      }
                    ],
                    "parcoords": [
                      {
                        "line": {
                          "colorbar": {
                            "outlinewidth": 0,
                            "ticks": ""
                          }
                        },
                        "type": "parcoords"
                      }
                    ],
                    "pie": [
                      {
                        "automargin": true,
                        "type": "pie"
                      }
                    ],
                    "scatter": [
                      {
                        "fillpattern": {
                          "fillmode": "overlay",
                          "size": 10,
                          "solidity": 0.2
                        },
                        "type": "scatter"
                      }
                    ],
                    "scatter3d": [
                      {
                        "line": {
                          "colorbar": {
                            "outlinewidth": 0,
                            "ticks": ""
                          }
                        },
                        "marker": {
                          "colorbar": {
                            "outlinewidth": 0,
                            "ticks": ""
                          }
                        },
                        "type": "scatter3d"
                      }
                    ],
                    "scattercarpet": [
                      {
                        "marker": {
                          "colorbar": {
                            "outlinewidth": 0,
                            "ticks": ""
                          }
                        },
                        "type": "scattercarpet"
                      }
                    ],
                    "scattergeo": [
                      {
                        "marker": {
                          "colorbar": {
                            "outlinewidth": 0,
                            "ticks": ""
                          }
                        },
                        "type": "scattergeo"
                      }
                    ],
                    "scattergl": [
                      {
                        "marker": {
                          "colorbar": {
                            "outlinewidth": 0,
                            "ticks": ""
                          }
                        },
                        "type": "scattergl"
                      }
                    ],
                    "scattermap": [
                      {
                        "marker": {
                          "colorbar": {
                            "outlinewidth": 0,
                            "ticks": ""
                          }
                        },
                        "type": "scattermap"
                      }
                    ],
                    "scattermapbox": [
                      {
                        "marker": {
                          "colorbar": {
                            "outlinewidth": 0,
                            "ticks": ""
                          }
                        },
                        "type": "scattermapbox"
                      }
                    ],
                    "scatterpolar": [
                      {
                        "marker": {
                          "colorbar": {
                            "outlinewidth": 0,
                            "ticks": ""
                          }
                        },
                        "type": "scatterpolar"
                      }
                    ],
                    "scatterpolargl": [
                      {
                        "marker": {
                          "colorbar": {
                            "outlinewidth": 0,
                            "ticks": ""
                          }
                        },
                        "type": "scatterpolargl"
                      }
                    ],
                    "scatterternary": [
                      {
                        "marker": {
                          "colorbar": {
                            "outlinewidth": 0,
                            "ticks": ""
                          }
                        },
                        "type": "scatterternary"
                      }
                    ],
                    "surface": [
                      {
                        "colorbar": {
                          "outlinewidth": 0,
                          "ticks": ""
                        },
                        "colorscale": [
                          [
                            0,
                            "#0d0887"
                          ],
                          [
                            0.1111111111111111,
                            "#46039f"
                          ],
                          [
                            0.2222222222222222,
                            "#7201a8"
                          ],
                          [
                            0.3333333333333333,
                            "#9c179e"
                          ],
                          [
                            0.4444444444444444,
                            "#bd3786"
                          ],
                          [
                            0.5555555555555556,
                            "#d8576b"
                          ],
                          [
                            0.6666666666666666,
                            "#ed7953"
                          ],
                          [
                            0.7777777777777778,
                            "#fb9f3a"
                          ],
                          [
                            0.8888888888888888,
                            "#fdca26"
                          ],
                          [
                            1,
                            "#f0f921"
                          ]
                        ],
                        "type": "surface"
                      }
                    ],
                    "table": [
                      {
                        "cells": {
                          "fill": {
                            "color": "#EBF0F8"
                          },
                          "line": {
                            "color": "white"
                          }
                        },
                        "header": {
                          "fill": {
                            "color": "#C8D4E3"
                          },
                          "line": {
                            "color": "white"
                          }
                        },
                        "type": "table"
                      }
                    ]
                  },
                  "layout": {
                    "annotationdefaults": {
                      "arrowcolor": "#2a3f5f",
                      "arrowhead": 0,
                      "arrowwidth": 1
                    },
                    "autotypenumbers": "strict",
                    "coloraxis": {
                      "colorbar": {
                        "outlinewidth": 0,
                        "ticks": ""
                      }
                    },
                    "colorscale": {
                      "diverging": [
                        [
                          0,
                          "#8e0152"
                        ],
                        [
                          0.1,
                          "#c51b7d"
                        ],
                        [
                          0.2,
                          "#de77ae"
                        ],
                        [
                          0.3,
                          "#f1b6da"
                        ],
                        [
                          0.4,
                          "#fde0ef"
                        ],
                        [
                          0.5,
                          "#f7f7f7"
                        ],
                        [
                          0.6,
                          "#e6f5d0"
                        ],
                        [
                          0.7,
                          "#b8e186"
                        ],
                        [
                          0.8,
                          "#7fbc41"
                        ],
                        [
                          0.9,
                          "#4d9221"
                        ],
                        [
                          1,
                          "#276419"
                        ]
                      ],
                      "sequential": [
                        [
                          0,
                          "#0d0887"
                        ],
                        [
                          0.1111111111111111,
                          "#46039f"
                        ],
                        [
                          0.2222222222222222,
                          "#7201a8"
                        ],
                        [
                          0.3333333333333333,
                          "#9c179e"
                        ],
                        [
                          0.4444444444444444,
                          "#bd3786"
                        ],
                        [
                          0.5555555555555556,
                          "#d8576b"
                        ],
                        [
                          0.6666666666666666,
                          "#ed7953"
                        ],
                        [
                          0.7777777777777778,
                          "#fb9f3a"
                        ],
                        [
                          0.8888888888888888,
                          "#fdca26"
                        ],
                        [
                          1,
                          "#f0f921"
                        ]
                      ],
                      "sequentialminus": [
                        [
                          0,
                          "#0d0887"
                        ],
                        [
                          0.1111111111111111,
                          "#46039f"
                        ],
                        [
                          0.2222222222222222,
                          "#7201a8"
                        ],
                        [
                          0.3333333333333333,
                          "#9c179e"
                        ],
                        [
                          0.4444444444444444,
                          "#bd3786"
                        ],
                        [
                          0.5555555555555556,
                          "#d8576b"
                        ],
                        [
                          0.6666666666666666,
                          "#ed7953"
                        ],
                        [
                          0.7777777777777778,
                          "#fb9f3a"
                        ],
                        [
                          0.8888888888888888,
                          "#fdca26"
                        ],
                        [
                          1,
                          "#f0f921"
                        ]
                      ]
                    },
                    "colorway": [
                      "#636efa",
                      "#EF553B",
                      "#00cc96",
                      "#ab63fa",
                      "#FFA15A",
                      "#19d3f3",
                      "#FF6692",
                      "#B6E880",
                      "#FF97FF",
                      "#FECB52"
                    ],
                    "font": {
                      "color": "#2a3f5f"
                    },
                    "geo": {
                      "bgcolor": "white",
                      "lakecolor": "white",
                      "landcolor": "#E5ECF6",
                      "showlakes": true,
                      "showland": true,
                      "subunitcolor": "white"
                    },
                    "hoverlabel": {
                      "align": "left"
                    },
                    "hovermode": "closest",
                    "mapbox": {
                      "style": "light"
                    },
                    "paper_bgcolor": "white",
                    "plot_bgcolor": "#E5ECF6",
                    "polar": {
                      "angularaxis": {
                        "gridcolor": "white",
                        "linecolor": "white",
                        "ticks": ""
                      },
                      "bgcolor": "#E5ECF6",
                      "radialaxis": {
                        "gridcolor": "white",
                        "linecolor": "white",
                        "ticks": ""
                      }
                    },
                    "scene": {
                      "xaxis": {
                        "backgroundcolor": "#E5ECF6",
                        "gridcolor": "white",
                        "gridwidth": 2,
                        "linecolor": "white",
                        "showbackground": true,
                        "ticks": "",
                        "zerolinecolor": "white"
                      },
                      "yaxis": {
                        "backgroundcolor": "#E5ECF6",
                        "gridcolor": "white",
                        "gridwidth": 2,
                        "linecolor": "white",
                        "showbackground": true,
                        "ticks": "",
                        "zerolinecolor": "white"
                      },
                      "zaxis": {
                        "backgroundcolor": "#E5ECF6",
                        "gridcolor": "white",
                        "gridwidth": 2,
                        "linecolor": "white",
                        "showbackground": true,
                        "ticks": "",
                        "zerolinecolor": "white"
                      }
                    },
                    "shapedefaults": {
                      "line": {
                        "color": "#2a3f5f"
                      }
                    },
                    "ternary": {
                      "aaxis": {
                        "gridcolor": "white",
                        "linecolor": "white",
                        "ticks": ""
                      },
                      "baxis": {
                        "gridcolor": "white",
                        "linecolor": "white",
                        "ticks": ""
                      },
                      "bgcolor": "#E5ECF6",
                      "caxis": {
                        "gridcolor": "white",
                        "linecolor": "white",
                        "ticks": ""
                      }
                    },
                    "title": {
                      "x": 0.05
                    },
                    "xaxis": {
                      "automargin": true,
                      "gridcolor": "white",
                      "linecolor": "white",
                      "ticks": "",
                      "title": {
                        "standoff": 15
                      },
                      "zerolinecolor": "white",
                      "zerolinewidth": 2
                    },
                    "yaxis": {
                      "automargin": true,
                      "gridcolor": "white",
                      "linecolor": "white",
                      "ticks": "",
                      "title": {
                        "standoff": 15
                      },
                      "zerolinecolor": "white",
                      "zerolinewidth": 2
                    }
                  }
                },
                "xaxis": {
                  "anchor": "y",
                  "domain": [
                    0,
                    1
                  ],
                  "title": {
                    "text": "date"
                  }
                },
                "yaxis": {
                  "anchor": "x",
                  "domain": [
                    0,
                    1
                  ],
                  "title": {
                    "text": "newCases"
                  }
                }
              }
            }
          },
          "metadata": {},
          "output_type": "display_data"
        }
      ],
      "source": [
        "chosen_moving_average = moving_average_df\n",
        "first_peak_day_cut = FIRST_PEAK_DAY_CUT\n",
        "\n",
        "rolling_df_pa = chosen_moving_average.iloc[:first_peak_day_cut, :]\n",
        "fig = px.line(rolling_df_pa.reset_index(), x='date', y='newCases')\n",
        "fig.show()"
      ]
    },
    {
      "cell_type": "markdown",
      "metadata": {
        "id": "cq7i8JfwP5Sd"
      },
      "source": [
        "## SIR Model\n",
        "\n"
      ]
    },
    {
      "cell_type": "code",
      "execution_count": 9,
      "metadata": {
        "id": "1hPp7O1BN15x"
      },
      "outputs": [],
      "source": [
        "class SIRModel:\n",
        "  def __init__(self, b, k, total_population):\n",
        "    # SIR Params\n",
        "    self.N = total_population #pop size\n",
        "\n",
        "    self.S = [] #suspected proportion\n",
        "    self.I = [] #infected proportion\n",
        "    self.R = [] #recovered proportion\n",
        "\n",
        "    self.dS = [] #delta suspected proportion\n",
        "    self.dI = [] #delta infected proportion\n",
        "    self.dR = [] #delta recovered proportion\n",
        "    # Hyperparams\n",
        "    self.b = b # in [0, 5]\n",
        "    self.k = k # in [0.067, 0.2]\n",
        "\n",
        "  def euler_method_new_tuple(self, interval):\n",
        "    s, i, r = self.S[-1], self.I[-1], self.R[-1]\n",
        "    # based on: https://www.maa.org/press/periodicals/loci/joma/the-sir-model-for-spread-of-disease-eulers-method-for-systems\n",
        "    s_n = s - (self.b * s * i * interval)\n",
        "    i_n = i + (((self.b * s) - self.k) * i)*interval\n",
        "    r_n = r + (self.k * i)*interval\n",
        "\n",
        "    ds_n = -((self.b * s) * i)*interval\n",
        "    di_n = (((self.b * s) - self.k) * i)*interval\n",
        "    dr_n = (self.k * i)*interval\n",
        "    return ((s_n, i_n, r_n), (ds_n, di_n, dr_n))\n",
        "\n",
        "  def fit(\n",
        "      self, \n",
        "      data, \n",
        "      cases_column='newCases', \n",
        "      suspected_column='suspected', \n",
        "      recovered_column='recovered', \n",
        "      fit_until=None,\n",
        "      metricI=True, \n",
        "      metricS=True, \n",
        "      metricR=True,\n",
        "      interval=1\n",
        "    ):\n",
        "    starting_point = 0\n",
        "    self.I.append(data.loc[starting_point, cases_column]/self.N)\n",
        "    self.S.append(1 - self.I[0])\n",
        "    self.R.append(0)\n",
        "    if fit_until is None:\n",
        "      fit_until = len(data) - 1\n",
        "    for j in range(starting_point, fit_until, interval):\n",
        "      #update sir value\n",
        "      ((s, i, r), (ds, di, dr)) = self.euler_method_new_tuple(j-starting_point)\n",
        "      self.S.append(s)\n",
        "      self.I.append(i)\n",
        "      self.R.append(r)\n",
        "      \n",
        "      self.dS.append(ds)\n",
        "      self.dI.append(di)\n",
        "      self.dR.append(dr)\n",
        "\n",
        "    self.S = np.array(self.S)\n",
        "    self.I = np.array(self.I)\n",
        "    self.R = np.array(self.R)\n",
        "\n",
        "    self.dS = np.array(self.dS)\n",
        "    self.dI = np.array(self.dI)\n",
        "    self.dR = np.array(self.dR)\n",
        "\n",
        "  def score(self, y_true_I, y_true_S, y_true_R, metricI=True, metricS=True, metricR=True):\n",
        "    diffI = (self.I - y_true_I[:len(self.I)]/self.N)**2 if metricI else np.array([0])\n",
        "    diffS = (self.S - y_true_S[:len(self.S)]/self.N)**2 if metricS else np.array([0])\n",
        "    diffR = (self.R - y_true_R[:len(self.R)]/self.N)**2 if metricR else np.array([0])\n",
        "    return sum(diffI + diffS + diffR)\n",
        "  \n",
        "    "
      ]
    },
    {
      "cell_type": "code",
      "execution_count": 11,
      "metadata": {
        "id": "zsmRHcYfjoOL"
      },
      "outputs": [],
      "source": [
        "import warnings\n",
        "warnings.filterwarnings(\"ignore\")\n",
        "\n",
        "from tqdm import tqdm\n",
        "\n",
        "b_space = np.linspace(0, 5, 20000)\n",
        "k_space = np.linspace(1/15, 1/5, 1000)\n",
        "params_space = np.array(np.meshgrid(b_space, k_space)).T.reshape(-1,2)\n",
        "\n",
        "best = {\n",
        "    \"b\": 0,\n",
        "    \"k\": 0,\n",
        "    \"metric\": np.inf\n",
        "}"
      ]
    },
    {
      "cell_type": "code",
      "execution_count": 12,
      "metadata": {
        "colab": {
          "base_uri": "https://localhost:8080/"
        },
        "id": "Fj12w-J8mFXC",
        "outputId": "d95e313f-1e35-49be-9c07-563653d55e2c"
      },
      "outputs": [
        {
          "name": "stdout",
          "output_type": "stream",
          "text": [
            "Testing 1.05% of our params space (210000 out of 20000000) possible combinations\n"
          ]
        },
        {
          "name": "stderr",
          "output_type": "stream",
          "text": [
            "100%|██████████| 210000/210000 [01:20<00:00, 2609.35it/s]\n"
          ]
        }
      ],
      "source": [
        "hyperopt_epochs = HYPEROPT_EPOCHS\n",
        "interval = 1\n",
        "print(f\"Testing {hyperopt_epochs/len(params_space)*100}% of our params space ({hyperopt_epochs} out of {len(params_space)}) possible combinations\")\n",
        "for _ in tqdm(range(hyperopt_epochs)):\n",
        "    idx = np.random.randint(0, len(params_space))\n",
        "    b, k = params_space[idx, 0], params_space[idx, 1]\n",
        "    model = SIRModel(b, k, pop)\n",
        "    model.fit(rolling_df_pa, fit_until=first_peak_day_cut-1, interval=interval)\n",
        "    score = sum(((model.dI + model.dR) - rolling_df_pa['newCases'][range(0, first_peak_day_cut-1, interval)]/model.N)**2)\n",
        "    if score < best[\"metric\"]:\n",
        "      best['b'] = b\n",
        "      best['k'] = k\n",
        "      best['metric'] = score"
      ]
    },
    {
      "cell_type": "code",
      "execution_count": 13,
      "metadata": {
        "colab": {
          "base_uri": "https://localhost:8080/"
        },
        "id": "s2tcPZpK2Dl7",
        "outputId": "dcaf8ee1-f00e-4c48-bf00-1144d4879180"
      },
      "outputs": [
        {
          "name": "stdout",
          "output_type": "stream",
          "text": [
            "Best parameters found!\n",
            "b:\t0.20001000050002501\n",
            "k:\t0.1989322655989323\n"
          ]
        }
      ],
      "source": [
        "print(\"Best parameters found!\")\n",
        "print(f\"b:\\t{best['b']}\")\n",
        "print(f\"k:\\t{best['k']}\")"
      ]
    },
    {
      "cell_type": "code",
      "execution_count": 14,
      "metadata": {
        "id": "gGVa-cSR3J_V"
      },
      "outputs": [],
      "source": [
        "model = SIRModel(best['b'], best['k'], pop)\n",
        "model.fit(moving_average_df)"
      ]
    },
    {
      "cell_type": "code",
      "execution_count": 15,
      "metadata": {
        "colab": {
          "base_uri": "https://localhost:8080/",
          "height": 542
        },
        "id": "ZCg187fs3SwY",
        "outputId": "a9cdffd2-94ba-4586-f6cf-02c284a0649f"
      },
      "outputs": [
        {
          "data": {
            "application/vnd.plotly.v1+json": {
              "config": {
                "plotlyServerURL": "https://plot.ly"
              },
              "data": [
                {
                  "hovertemplate": "x=%{x}<br>y=%{y}<extra></extra>",
                  "legendgroup": "",
                  "line": {
                    "color": "#636efa",
                    "dash": "solid"
                  },
                  "marker": {
                    "symbol": "circle"
                  },
                  "mode": "lines",
                  "name": "SIR",
                  "orientation": "v",
                  "showlegend": true,
                  "type": "scatter",
                  "x": [
                    "2020-03-24T00:00:00",
                    "2020-03-25T00:00:00",
                    "2020-03-26T00:00:00",
                    "2020-03-27T00:00:00",
                    "2020-03-28T00:00:00",
                    "2020-03-29T00:00:00",
                    "2020-03-30T00:00:00",
                    "2020-03-31T00:00:00",
                    "2020-04-01T00:00:00",
                    "2020-04-02T00:00:00",
                    "2020-04-03T00:00:00",
                    "2020-04-04T00:00:00",
                    "2020-04-05T00:00:00",
                    "2020-04-06T00:00:00",
                    "2020-04-07T00:00:00",
                    "2020-04-08T00:00:00",
                    "2020-04-09T00:00:00",
                    "2020-04-10T00:00:00",
                    "2020-04-11T00:00:00",
                    "2020-04-12T00:00:00",
                    "2020-04-13T00:00:00",
                    "2020-04-14T00:00:00",
                    "2020-04-15T00:00:00",
                    "2020-04-16T00:00:00",
                    "2020-04-17T00:00:00",
                    "2020-04-18T00:00:00",
                    "2020-04-19T00:00:00",
                    "2020-04-20T00:00:00",
                    "2020-04-21T00:00:00",
                    "2020-04-22T00:00:00",
                    "2020-04-23T00:00:00",
                    "2020-04-24T00:00:00",
                    "2020-04-25T00:00:00",
                    "2020-04-26T00:00:00",
                    "2020-04-27T00:00:00",
                    "2020-04-28T00:00:00",
                    "2020-04-29T00:00:00",
                    "2020-04-30T00:00:00",
                    "2020-05-01T00:00:00",
                    "2020-05-02T00:00:00",
                    "2020-05-03T00:00:00",
                    "2020-05-04T00:00:00",
                    "2020-05-05T00:00:00",
                    "2020-05-06T00:00:00",
                    "2020-05-07T00:00:00",
                    "2020-05-08T00:00:00",
                    "2020-05-09T00:00:00",
                    "2020-05-10T00:00:00",
                    "2020-05-11T00:00:00",
                    "2020-05-12T00:00:00",
                    "2020-05-13T00:00:00",
                    "2020-05-14T00:00:00",
                    "2020-05-15T00:00:00",
                    "2020-05-16T00:00:00",
                    "2020-05-17T00:00:00",
                    "2020-05-18T00:00:00",
                    "2020-05-19T00:00:00",
                    "2020-05-20T00:00:00",
                    "2020-05-21T00:00:00",
                    "2020-05-22T00:00:00",
                    "2020-05-23T00:00:00",
                    "2020-05-24T00:00:00",
                    "2020-05-25T00:00:00",
                    "2020-05-26T00:00:00",
                    "2020-05-27T00:00:00",
                    "2020-05-28T00:00:00",
                    "2020-05-29T00:00:00",
                    "2020-05-30T00:00:00",
                    "2020-05-31T00:00:00",
                    "2020-06-01T00:00:00",
                    "2020-06-02T00:00:00",
                    "2020-06-03T00:00:00",
                    "2020-06-04T00:00:00",
                    "2020-06-05T00:00:00",
                    "2020-06-06T00:00:00",
                    "2020-06-07T00:00:00",
                    "2020-06-08T00:00:00",
                    "2020-06-09T00:00:00",
                    "2020-06-10T00:00:00",
                    "2020-06-11T00:00:00",
                    "2020-06-12T00:00:00",
                    "2020-06-13T00:00:00",
                    "2020-06-14T00:00:00",
                    "2020-06-15T00:00:00",
                    "2020-06-16T00:00:00",
                    "2020-06-17T00:00:00",
                    "2020-06-18T00:00:00",
                    "2020-06-19T00:00:00",
                    "2020-06-20T00:00:00",
                    "2020-06-21T00:00:00",
                    "2020-06-22T00:00:00",
                    "2020-06-23T00:00:00",
                    "2020-06-24T00:00:00",
                    "2020-06-25T00:00:00",
                    "2020-06-26T00:00:00",
                    "2020-06-27T00:00:00",
                    "2020-06-28T00:00:00",
                    "2020-06-29T00:00:00",
                    "2020-06-30T00:00:00",
                    "2020-07-01T00:00:00",
                    "2020-07-02T00:00:00",
                    "2020-07-03T00:00:00",
                    "2020-07-04T00:00:00",
                    "2020-07-05T00:00:00",
                    "2020-07-06T00:00:00",
                    "2020-07-07T00:00:00",
                    "2020-07-08T00:00:00",
                    "2020-07-09T00:00:00",
                    "2020-07-10T00:00:00",
                    "2020-07-11T00:00:00",
                    "2020-07-12T00:00:00",
                    "2020-07-13T00:00:00",
                    "2020-07-14T00:00:00",
                    "2020-07-15T00:00:00",
                    "2020-07-16T00:00:00",
                    "2020-07-17T00:00:00",
                    "2020-07-18T00:00:00",
                    "2020-07-19T00:00:00",
                    "2020-07-20T00:00:00",
                    "2020-07-21T00:00:00",
                    "2020-07-22T00:00:00",
                    "2020-07-23T00:00:00",
                    "2020-07-24T00:00:00",
                    "2020-07-25T00:00:00",
                    "2020-07-26T00:00:00",
                    "2020-07-27T00:00:00",
                    "2020-07-28T00:00:00",
                    "2020-07-29T00:00:00",
                    "2020-07-30T00:00:00",
                    "2020-07-31T00:00:00"
                  ],
                  "xaxis": "x",
                  "y": {
                    "bdata": "t23btm3b5j/btm3btm3rP9u2bdu2bfs/AAAAAAAAAECSJEmSJEkCQJIkSZIkSQJAAAAAAAAACEAlSZIkSZIQQNu2bdu2bRNAJUmSJEmSFEC3bdu2bdsgQJIkSZIkSSJAt23btm3bIkBu27Zt27YrQEmSJEmSJDFAAAAAAAAAMkBJkiRJkiQxQJIkSZIkSTRASZIkSZIkNkBu27Zt27Y4QG7btm3btjpA27Zt27ZtQEC3bdu2bdtGQG7btm3btktAkiRJkiRJTUC3bdu2bdtMQNu2bdu2bU5ASZIkSZIkVUDbtm3btu1WQJIkSZIkSVlAt23btm1bWUAAAAAAAABhQG7btm3btmNAt23btm27aEBJkiRJkoRnQG7btm3bFmdAbtu2bdvWaEDbtm3btu1uQJIkSZIkyW9AJUmSJEmycUBJkiRJkoRwQNu2bdu2PXJAJUmSJEnCdUC3bdu2bTt6QG7btm3bNnpAbtu2bds2fEAlSZIkSWJ9QLdt27Ztm35Abtu2bdv+gEDbtm3btjWDQEmSJEmShIVAAAAAAADAiECSJEmSJFGLQG7btm3bxoxAAAAAAACYjkC3bdu2bYOQQG7btm3bHpJA27Zt27Ypk0CSJEmSJDWUQAAAAAAAdJZAAAAAAADMl0CSJEmSJLGXQLdt27Ztj5pAAAAAAABcnECSJEmSJHGcQLdt27ZtS6BAkiRJkiRLoEAAAAAAAKieQAAAAAAAWJ1At23btm07nEBJkiRJkryeQJIkSZIkhaBAt23btm0BoEBJkiRJknyiQNu2bdu226FAAAAAAAA0okAAAAAAAJijQEmSJEmS9KJA27Zt27blokC3bdu2bX+hQEmSJEmS1JtA27Zt27ZZoEAlSZIkSbCgQJIkSZIkhZ5AJUmSJElCnkCSJEmSJIGdQJIkSZIkp6BAt23btm15okBJkiRJkgSiQG7btm3bvqJAt23btm1po0BJkiRJkoyjQJIkSZIkb6NA27Zt27ZNokBu27Zt21aiQJIkSZIkn6FAkiRJkiTzoEBu27Zt20KgQG7btm3bkp9A27Zt27ZRn0CSJEmSJB2fQJIkSZIkgZ1Abtu2bdvWnUAAAAAAAMCdQNu2bdu25ZxAJUmSJEnGnEBJkiRJkkScQLdt27ZtX5tAt23btm2vm0Dbtm3btpGaQCVJkiRJuppAAAAAAAC4m0BJkiRJkvyaQJIkSZIkeZtAkiRJkiThm0BJkiRJktCaQNu2bdu2RZpASZIkSZKImkAAAAAAAGSaQJIkSZIkuZlAJUmSJEmCmUAAAAAAAMCYQAAAAAAAgJhA27Zt27aBmEAlSZIkSUaXQNu2bdu20ZZAt23btm0vlUAAAAAAANSTQG7btm3b0pJA27Zt27YlkkA=",
                    "dtype": "f8"
                  },
                  "yaxis": "y"
                },
                {
                  "name": "Real Data",
                  "type": "scatter",
                  "x": [
                    "2020-03-24T00:00:00",
                    "2020-03-25T00:00:00",
                    "2020-03-26T00:00:00",
                    "2020-03-27T00:00:00",
                    "2020-03-28T00:00:00",
                    "2020-03-29T00:00:00",
                    "2020-03-30T00:00:00",
                    "2020-03-31T00:00:00",
                    "2020-04-01T00:00:00",
                    "2020-04-02T00:00:00",
                    "2020-04-03T00:00:00",
                    "2020-04-04T00:00:00",
                    "2020-04-05T00:00:00",
                    "2020-04-06T00:00:00",
                    "2020-04-07T00:00:00",
                    "2020-04-08T00:00:00",
                    "2020-04-09T00:00:00",
                    "2020-04-10T00:00:00",
                    "2020-04-11T00:00:00",
                    "2020-04-12T00:00:00",
                    "2020-04-13T00:00:00",
                    "2020-04-14T00:00:00",
                    "2020-04-15T00:00:00",
                    "2020-04-16T00:00:00",
                    "2020-04-17T00:00:00",
                    "2020-04-18T00:00:00",
                    "2020-04-19T00:00:00",
                    "2020-04-20T00:00:00",
                    "2020-04-21T00:00:00",
                    "2020-04-22T00:00:00",
                    "2020-04-23T00:00:00",
                    "2020-04-24T00:00:00",
                    "2020-04-25T00:00:00",
                    "2020-04-26T00:00:00",
                    "2020-04-27T00:00:00",
                    "2020-04-28T00:00:00",
                    "2020-04-29T00:00:00",
                    "2020-04-30T00:00:00",
                    "2020-05-01T00:00:00",
                    "2020-05-02T00:00:00",
                    "2020-05-03T00:00:00",
                    "2020-05-04T00:00:00",
                    "2020-05-05T00:00:00",
                    "2020-05-06T00:00:00",
                    "2020-05-07T00:00:00",
                    "2020-05-08T00:00:00",
                    "2020-05-09T00:00:00",
                    "2020-05-10T00:00:00",
                    "2020-05-11T00:00:00",
                    "2020-05-12T00:00:00",
                    "2020-05-13T00:00:00",
                    "2020-05-14T00:00:00",
                    "2020-05-15T00:00:00",
                    "2020-05-16T00:00:00",
                    "2020-05-17T00:00:00",
                    "2020-05-18T00:00:00",
                    "2020-05-19T00:00:00",
                    "2020-05-20T00:00:00",
                    "2020-05-21T00:00:00",
                    "2020-05-22T00:00:00",
                    "2020-05-23T00:00:00",
                    "2020-05-24T00:00:00",
                    "2020-05-25T00:00:00",
                    "2020-05-26T00:00:00",
                    "2020-05-27T00:00:00",
                    "2020-05-28T00:00:00",
                    "2020-05-29T00:00:00",
                    "2020-05-30T00:00:00",
                    "2020-05-31T00:00:00",
                    "2020-06-01T00:00:00",
                    "2020-06-02T00:00:00",
                    "2020-06-03T00:00:00",
                    "2020-06-04T00:00:00",
                    "2020-06-05T00:00:00",
                    "2020-06-06T00:00:00",
                    "2020-06-07T00:00:00",
                    "2020-06-08T00:00:00",
                    "2020-06-09T00:00:00",
                    "2020-06-10T00:00:00",
                    "2020-06-11T00:00:00",
                    "2020-06-12T00:00:00",
                    "2020-06-13T00:00:00",
                    "2020-06-14T00:00:00",
                    "2020-06-15T00:00:00",
                    "2020-06-16T00:00:00",
                    "2020-06-17T00:00:00",
                    "2020-06-18T00:00:00",
                    "2020-06-19T00:00:00",
                    "2020-06-20T00:00:00",
                    "2020-06-21T00:00:00",
                    "2020-06-22T00:00:00",
                    "2020-06-23T00:00:00",
                    "2020-06-24T00:00:00",
                    "2020-06-25T00:00:00",
                    "2020-06-26T00:00:00",
                    "2020-06-27T00:00:00",
                    "2020-06-28T00:00:00",
                    "2020-06-29T00:00:00",
                    "2020-06-30T00:00:00",
                    "2020-07-01T00:00:00",
                    "2020-07-02T00:00:00",
                    "2020-07-03T00:00:00",
                    "2020-07-04T00:00:00",
                    "2020-07-05T00:00:00",
                    "2020-07-06T00:00:00",
                    "2020-07-07T00:00:00",
                    "2020-07-08T00:00:00",
                    "2020-07-09T00:00:00",
                    "2020-07-10T00:00:00",
                    "2020-07-11T00:00:00",
                    "2020-07-12T00:00:00",
                    "2020-07-13T00:00:00",
                    "2020-07-14T00:00:00",
                    "2020-07-15T00:00:00",
                    "2020-07-16T00:00:00",
                    "2020-07-17T00:00:00",
                    "2020-07-18T00:00:00",
                    "2020-07-19T00:00:00",
                    "2020-07-20T00:00:00",
                    "2020-07-21T00:00:00",
                    "2020-07-22T00:00:00",
                    "2020-07-23T00:00:00",
                    "2020-07-24T00:00:00",
                    "2020-07-25T00:00:00",
                    "2020-07-26T00:00:00",
                    "2020-07-27T00:00:00",
                    "2020-07-28T00:00:00",
                    "2020-07-29T00:00:00",
                    "2020-07-30T00:00:00"
                  ],
                  "y": {
                    "bdata": "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",
                    "dtype": "f8"
                  }
                }
              ],
              "layout": {
                "legend": {
                  "tracegroupgap": 0
                },
                "template": {
                  "data": {
                    "bar": [
                      {
                        "error_x": {
                          "color": "#2a3f5f"
                        },
                        "error_y": {
                          "color": "#2a3f5f"
                        },
                        "marker": {
                          "line": {
                            "color": "#E5ECF6",
                            "width": 0.5
                          },
                          "pattern": {
                            "fillmode": "overlay",
                            "size": 10,
                            "solidity": 0.2
                          }
                        },
                        "type": "bar"
                      }
                    ],
                    "barpolar": [
                      {
                        "marker": {
                          "line": {
                            "color": "#E5ECF6",
                            "width": 0.5
                          },
                          "pattern": {
                            "fillmode": "overlay",
                            "size": 10,
                            "solidity": 0.2
                          }
                        },
                        "type": "barpolar"
                      }
                    ],
                    "carpet": [
                      {
                        "aaxis": {
                          "endlinecolor": "#2a3f5f",
                          "gridcolor": "white",
                          "linecolor": "white",
                          "minorgridcolor": "white",
                          "startlinecolor": "#2a3f5f"
                        },
                        "baxis": {
                          "endlinecolor": "#2a3f5f",
                          "gridcolor": "white",
                          "linecolor": "white",
                          "minorgridcolor": "white",
                          "startlinecolor": "#2a3f5f"
                        },
                        "type": "carpet"
                      }
                    ],
                    "choropleth": [
                      {
                        "colorbar": {
                          "outlinewidth": 0,
                          "ticks": ""
                        },
                        "type": "choropleth"
                      }
                    ],
                    "contour": [
                      {
                        "colorbar": {
                          "outlinewidth": 0,
                          "ticks": ""
                        },
                        "colorscale": [
                          [
                            0,
                            "#0d0887"
                          ],
                          [
                            0.1111111111111111,
                            "#46039f"
                          ],
                          [
                            0.2222222222222222,
                            "#7201a8"
                          ],
                          [
                            0.3333333333333333,
                            "#9c179e"
                          ],
                          [
                            0.4444444444444444,
                            "#bd3786"
                          ],
                          [
                            0.5555555555555556,
                            "#d8576b"
                          ],
                          [
                            0.6666666666666666,
                            "#ed7953"
                          ],
                          [
                            0.7777777777777778,
                            "#fb9f3a"
                          ],
                          [
                            0.8888888888888888,
                            "#fdca26"
                          ],
                          [
                            1,
                            "#f0f921"
                          ]
                        ],
                        "type": "contour"
                      }
                    ],
                    "contourcarpet": [
                      {
                        "colorbar": {
                          "outlinewidth": 0,
                          "ticks": ""
                        },
                        "type": "contourcarpet"
                      }
                    ],
                    "heatmap": [
                      {
                        "colorbar": {
                          "outlinewidth": 0,
                          "ticks": ""
                        },
                        "colorscale": [
                          [
                            0,
                            "#0d0887"
                          ],
                          [
                            0.1111111111111111,
                            "#46039f"
                          ],
                          [
                            0.2222222222222222,
                            "#7201a8"
                          ],
                          [
                            0.3333333333333333,
                            "#9c179e"
                          ],
                          [
                            0.4444444444444444,
                            "#bd3786"
                          ],
                          [
                            0.5555555555555556,
                            "#d8576b"
                          ],
                          [
                            0.6666666666666666,
                            "#ed7953"
                          ],
                          [
                            0.7777777777777778,
                            "#fb9f3a"
                          ],
                          [
                            0.8888888888888888,
                            "#fdca26"
                          ],
                          [
                            1,
                            "#f0f921"
                          ]
                        ],
                        "type": "heatmap"
                      }
                    ],
                    "histogram": [
                      {
                        "marker": {
                          "pattern": {
                            "fillmode": "overlay",
                            "size": 10,
                            "solidity": 0.2
                          }
                        },
                        "type": "histogram"
                      }
                    ],
                    "histogram2d": [
                      {
                        "colorbar": {
                          "outlinewidth": 0,
                          "ticks": ""
                        },
                        "colorscale": [
                          [
                            0,
                            "#0d0887"
                          ],
                          [
                            0.1111111111111111,
                            "#46039f"
                          ],
                          [
                            0.2222222222222222,
                            "#7201a8"
                          ],
                          [
                            0.3333333333333333,
                            "#9c179e"
                          ],
                          [
                            0.4444444444444444,
                            "#bd3786"
                          ],
                          [
                            0.5555555555555556,
                            "#d8576b"
                          ],
                          [
                            0.6666666666666666,
                            "#ed7953"
                          ],
                          [
                            0.7777777777777778,
                            "#fb9f3a"
                          ],
                          [
                            0.8888888888888888,
                            "#fdca26"
                          ],
                          [
                            1,
                            "#f0f921"
                          ]
                        ],
                        "type": "histogram2d"
                      }
                    ],
                    "histogram2dcontour": [
                      {
                        "colorbar": {
                          "outlinewidth": 0,
                          "ticks": ""
                        },
                        "colorscale": [
                          [
                            0,
                            "#0d0887"
                          ],
                          [
                            0.1111111111111111,
                            "#46039f"
                          ],
                          [
                            0.2222222222222222,
                            "#7201a8"
                          ],
                          [
                            0.3333333333333333,
                            "#9c179e"
                          ],
                          [
                            0.4444444444444444,
                            "#bd3786"
                          ],
                          [
                            0.5555555555555556,
                            "#d8576b"
                          ],
                          [
                            0.6666666666666666,
                            "#ed7953"
                          ],
                          [
                            0.7777777777777778,
                            "#fb9f3a"
                          ],
                          [
                            0.8888888888888888,
                            "#fdca26"
                          ],
                          [
                            1,
                            "#f0f921"
                          ]
                        ],
                        "type": "histogram2dcontour"
                      }
                    ],
                    "mesh3d": [
                      {
                        "colorbar": {
                          "outlinewidth": 0,
                          "ticks": ""
                        },
                        "type": "mesh3d"
                      }
                    ],
                    "parcoords": [
                      {
                        "line": {
                          "colorbar": {
                            "outlinewidth": 0,
                            "ticks": ""
                          }
                        },
                        "type": "parcoords"
                      }
                    ],
                    "pie": [
                      {
                        "automargin": true,
                        "type": "pie"
                      }
                    ],
                    "scatter": [
                      {
                        "fillpattern": {
                          "fillmode": "overlay",
                          "size": 10,
                          "solidity": 0.2
                        },
                        "type": "scatter"
                      }
                    ],
                    "scatter3d": [
                      {
                        "line": {
                          "colorbar": {
                            "outlinewidth": 0,
                            "ticks": ""
                          }
                        },
                        "marker": {
                          "colorbar": {
                            "outlinewidth": 0,
                            "ticks": ""
                          }
                        },
                        "type": "scatter3d"
                      }
                    ],
                    "scattercarpet": [
                      {
                        "marker": {
                          "colorbar": {
                            "outlinewidth": 0,
                            "ticks": ""
                          }
                        },
                        "type": "scattercarpet"
                      }
                    ],
                    "scattergeo": [
                      {
                        "marker": {
                          "colorbar": {
                            "outlinewidth": 0,
                            "ticks": ""
                          }
                        },
                        "type": "scattergeo"
                      }
                    ],
                    "scattergl": [
                      {
                        "marker": {
                          "colorbar": {
                            "outlinewidth": 0,
                            "ticks": ""
                          }
                        },
                        "type": "scattergl"
                      }
                    ],
                    "scattermap": [
                      {
                        "marker": {
                          "colorbar": {
                            "outlinewidth": 0,
                            "ticks": ""
                          }
                        },
                        "type": "scattermap"
                      }
                    ],
                    "scattermapbox": [
                      {
                        "marker": {
                          "colorbar": {
                            "outlinewidth": 0,
                            "ticks": ""
                          }
                        },
                        "type": "scattermapbox"
                      }
                    ],
                    "scatterpolar": [
                      {
                        "marker": {
                          "colorbar": {
                            "outlinewidth": 0,
                            "ticks": ""
                          }
                        },
                        "type": "scatterpolar"
                      }
                    ],
                    "scatterpolargl": [
                      {
                        "marker": {
                          "colorbar": {
                            "outlinewidth": 0,
                            "ticks": ""
                          }
                        },
                        "type": "scatterpolargl"
                      }
                    ],
                    "scatterternary": [
                      {
                        "marker": {
                          "colorbar": {
                            "outlinewidth": 0,
                            "ticks": ""
                          }
                        },
                        "type": "scatterternary"
                      }
                    ],
                    "surface": [
                      {
                        "colorbar": {
                          "outlinewidth": 0,
                          "ticks": ""
                        },
                        "colorscale": [
                          [
                            0,
                            "#0d0887"
                          ],
                          [
                            0.1111111111111111,
                            "#46039f"
                          ],
                          [
                            0.2222222222222222,
                            "#7201a8"
                          ],
                          [
                            0.3333333333333333,
                            "#9c179e"
                          ],
                          [
                            0.4444444444444444,
                            "#bd3786"
                          ],
                          [
                            0.5555555555555556,
                            "#d8576b"
                          ],
                          [
                            0.6666666666666666,
                            "#ed7953"
                          ],
                          [
                            0.7777777777777778,
                            "#fb9f3a"
                          ],
                          [
                            0.8888888888888888,
                            "#fdca26"
                          ],
                          [
                            1,
                            "#f0f921"
                          ]
                        ],
                        "type": "surface"
                      }
                    ],
                    "table": [
                      {
                        "cells": {
                          "fill": {
                            "color": "#EBF0F8"
                          },
                          "line": {
                            "color": "white"
                          }
                        },
                        "header": {
                          "fill": {
                            "color": "#C8D4E3"
                          },
                          "line": {
                            "color": "white"
                          }
                        },
                        "type": "table"
                      }
                    ]
                  },
                  "layout": {
                    "annotationdefaults": {
                      "arrowcolor": "#2a3f5f",
                      "arrowhead": 0,
                      "arrowwidth": 1
                    },
                    "autotypenumbers": "strict",
                    "coloraxis": {
                      "colorbar": {
                        "outlinewidth": 0,
                        "ticks": ""
                      }
                    },
                    "colorscale": {
                      "diverging": [
                        [
                          0,
                          "#8e0152"
                        ],
                        [
                          0.1,
                          "#c51b7d"
                        ],
                        [
                          0.2,
                          "#de77ae"
                        ],
                        [
                          0.3,
                          "#f1b6da"
                        ],
                        [
                          0.4,
                          "#fde0ef"
                        ],
                        [
                          0.5,
                          "#f7f7f7"
                        ],
                        [
                          0.6,
                          "#e6f5d0"
                        ],
                        [
                          0.7,
                          "#b8e186"
                        ],
                        [
                          0.8,
                          "#7fbc41"
                        ],
                        [
                          0.9,
                          "#4d9221"
                        ],
                        [
                          1,
                          "#276419"
                        ]
                      ],
                      "sequential": [
                        [
                          0,
                          "#0d0887"
                        ],
                        [
                          0.1111111111111111,
                          "#46039f"
                        ],
                        [
                          0.2222222222222222,
                          "#7201a8"
                        ],
                        [
                          0.3333333333333333,
                          "#9c179e"
                        ],
                        [
                          0.4444444444444444,
                          "#bd3786"
                        ],
                        [
                          0.5555555555555556,
                          "#d8576b"
                        ],
                        [
                          0.6666666666666666,
                          "#ed7953"
                        ],
                        [
                          0.7777777777777778,
                          "#fb9f3a"
                        ],
                        [
                          0.8888888888888888,
                          "#fdca26"
                        ],
                        [
                          1,
                          "#f0f921"
                        ]
                      ],
                      "sequentialminus": [
                        [
                          0,
                          "#0d0887"
                        ],
                        [
                          0.1111111111111111,
                          "#46039f"
                        ],
                        [
                          0.2222222222222222,
                          "#7201a8"
                        ],
                        [
                          0.3333333333333333,
                          "#9c179e"
                        ],
                        [
                          0.4444444444444444,
                          "#bd3786"
                        ],
                        [
                          0.5555555555555556,
                          "#d8576b"
                        ],
                        [
                          0.6666666666666666,
                          "#ed7953"
                        ],
                        [
                          0.7777777777777778,
                          "#fb9f3a"
                        ],
                        [
                          0.8888888888888888,
                          "#fdca26"
                        ],
                        [
                          1,
                          "#f0f921"
                        ]
                      ]
                    },
                    "colorway": [
                      "#636efa",
                      "#EF553B",
                      "#00cc96",
                      "#ab63fa",
                      "#FFA15A",
                      "#19d3f3",
                      "#FF6692",
                      "#B6E880",
                      "#FF97FF",
                      "#FECB52"
                    ],
                    "font": {
                      "color": "#2a3f5f"
                    },
                    "geo": {
                      "bgcolor": "white",
                      "lakecolor": "white",
                      "landcolor": "#E5ECF6",
                      "showlakes": true,
                      "showland": true,
                      "subunitcolor": "white"
                    },
                    "hoverlabel": {
                      "align": "left"
                    },
                    "hovermode": "closest",
                    "mapbox": {
                      "style": "light"
                    },
                    "paper_bgcolor": "white",
                    "plot_bgcolor": "#E5ECF6",
                    "polar": {
                      "angularaxis": {
                        "gridcolor": "white",
                        "linecolor": "white",
                        "ticks": ""
                      },
                      "bgcolor": "#E5ECF6",
                      "radialaxis": {
                        "gridcolor": "white",
                        "linecolor": "white",
                        "ticks": ""
                      }
                    },
                    "scene": {
                      "xaxis": {
                        "backgroundcolor": "#E5ECF6",
                        "gridcolor": "white",
                        "gridwidth": 2,
                        "linecolor": "white",
                        "showbackground": true,
                        "ticks": "",
                        "zerolinecolor": "white"
                      },
                      "yaxis": {
                        "backgroundcolor": "#E5ECF6",
                        "gridcolor": "white",
                        "gridwidth": 2,
                        "linecolor": "white",
                        "showbackground": true,
                        "ticks": "",
                        "zerolinecolor": "white"
                      },
                      "zaxis": {
                        "backgroundcolor": "#E5ECF6",
                        "gridcolor": "white",
                        "gridwidth": 2,
                        "linecolor": "white",
                        "showbackground": true,
                        "ticks": "",
                        "zerolinecolor": "white"
                      }
                    },
                    "shapedefaults": {
                      "line": {
                        "color": "#2a3f5f"
                      }
                    },
                    "ternary": {
                      "aaxis": {
                        "gridcolor": "white",
                        "linecolor": "white",
                        "ticks": ""
                      },
                      "baxis": {
                        "gridcolor": "white",
                        "linecolor": "white",
                        "ticks": ""
                      },
                      "bgcolor": "#E5ECF6",
                      "caxis": {
                        "gridcolor": "white",
                        "linecolor": "white",
                        "ticks": ""
                      }
                    },
                    "title": {
                      "x": 0.05
                    },
                    "xaxis": {
                      "automargin": true,
                      "gridcolor": "white",
                      "linecolor": "white",
                      "ticks": "",
                      "title": {
                        "standoff": 15
                      },
                      "zerolinecolor": "white",
                      "zerolinewidth": 2
                    },
                    "yaxis": {
                      "automargin": true,
                      "gridcolor": "white",
                      "linecolor": "white",
                      "ticks": "",
                      "title": {
                        "standoff": 15
                      },
                      "zerolinecolor": "white",
                      "zerolinewidth": 2
                    }
                  }
                },
                "title": {
                  "text": "SIR Model x True Infected"
                },
                "xaxis": {
                  "anchor": "y",
                  "domain": [
                    0,
                    1
                  ],
                  "title": {
                    "text": "x"
                  }
                },
                "yaxis": {
                  "anchor": "x",
                  "domain": [
                    0,
                    1
                  ],
                  "title": {
                    "text": "y"
                  }
                }
              }
            }
          },
          "metadata": {},
          "output_type": "display_data"
        }
      ],
      "source": [
        "y_col = 'infected' #@param [\"suspected\", \"infected\", \"recovered\"]\n",
        "\n",
        "y_col_real = {\n",
        "    \"suspected\": \"suspected\",\n",
        "    \"infected\": \"newCases\",\n",
        "    \"recovered\": \"recovered\"\n",
        "}\n",
        "y_col_sir = {\n",
        "    \"suspected\": model.S,\n",
        "    \"infected\": (-model.dS),\n",
        "    \"recovered\": model.R\n",
        "}\n",
        "fig = px.line(x=rolling_df_pa['date'], y=rolling_df_pa[y_col_real[y_col]], title='SIR Model x True Infected')\n",
        "fig.add_scatter(x=rolling_df_pa['date'][range(0, first_peak_day_cut-1, interval)], y=np.array(y_col_sir[y_col])*model.N)\n",
        "\n",
        "fig.data[0].name = \"SIR\"\n",
        "fig.data[0].showlegend = True\n",
        "fig.data[1].name = \"Real Data\"\n",
        "fig.show()"
      ]
    },
    {
      "cell_type": "code",
      "execution_count": 16,
      "metadata": {
        "colab": {
          "base_uri": "https://localhost:8080/",
          "height": 542
        },
        "id": "z6CUKJWoKS_z",
        "outputId": "3d5eaa0c-56e3-462c-cff2-599b0b6c22de"
      },
      "outputs": [
        {
          "data": {
            "application/vnd.plotly.v1+json": {
              "config": {
                "plotlyServerURL": "https://plot.ly"
              },
              "data": [
                {
                  "hovertemplate": "x=%{x}<br>y=%{y}<extra></extra>",
                  "legendgroup": "",
                  "line": {
                    "color": "#636efa",
                    "dash": "solid"
                  },
                  "marker": {
                    "symbol": "circle"
                  },
                  "mode": "lines",
                  "name": "Real Data",
                  "showlegend": true,
                  "type": "scattergl",
                  "x": [
                    "2020-03-24T00:00:00",
                    "2020-03-25T00:00:00",
                    "2020-03-26T00:00:00",
                    "2020-03-27T00:00:00",
                    "2020-03-28T00:00:00",
                    "2020-03-29T00:00:00",
                    "2020-03-30T00:00:00",
                    "2020-03-31T00:00:00",
                    "2020-04-01T00:00:00",
                    "2020-04-02T00:00:00",
                    "2020-04-03T00:00:00",
                    "2020-04-04T00:00:00",
                    "2020-04-05T00:00:00",
                    "2020-04-06T00:00:00",
                    "2020-04-07T00:00:00",
                    "2020-04-08T00:00:00",
                    "2020-04-09T00:00:00",
                    "2020-04-10T00:00:00",
                    "2020-04-11T00:00:00",
                    "2020-04-12T00:00:00",
                    "2020-04-13T00:00:00",
                    "2020-04-14T00:00:00",
                    "2020-04-15T00:00:00",
                    "2020-04-16T00:00:00",
                    "2020-04-17T00:00:00",
                    "2020-04-18T00:00:00",
                    "2020-04-19T00:00:00",
                    "2020-04-20T00:00:00",
                    "2020-04-21T00:00:00",
                    "2020-04-22T00:00:00",
                    "2020-04-23T00:00:00",
                    "2020-04-24T00:00:00",
                    "2020-04-25T00:00:00",
                    "2020-04-26T00:00:00",
                    "2020-04-27T00:00:00",
                    "2020-04-28T00:00:00",
                    "2020-04-29T00:00:00",
                    "2020-04-30T00:00:00",
                    "2020-05-01T00:00:00",
                    "2020-05-02T00:00:00",
                    "2020-05-03T00:00:00",
                    "2020-05-04T00:00:00",
                    "2020-05-05T00:00:00",
                    "2020-05-06T00:00:00",
                    "2020-05-07T00:00:00",
                    "2020-05-08T00:00:00",
                    "2020-05-09T00:00:00",
                    "2020-05-10T00:00:00",
                    "2020-05-11T00:00:00",
                    "2020-05-12T00:00:00",
                    "2020-05-13T00:00:00",
                    "2020-05-14T00:00:00",
                    "2020-05-15T00:00:00",
                    "2020-05-16T00:00:00",
                    "2020-05-17T00:00:00",
                    "2020-05-18T00:00:00",
                    "2020-05-19T00:00:00",
                    "2020-05-20T00:00:00",
                    "2020-05-21T00:00:00",
                    "2020-05-22T00:00:00",
                    "2020-05-23T00:00:00",
                    "2020-05-24T00:00:00",
                    "2020-05-25T00:00:00",
                    "2020-05-26T00:00:00",
                    "2020-05-27T00:00:00",
                    "2020-05-28T00:00:00",
                    "2020-05-29T00:00:00",
                    "2020-05-30T00:00:00",
                    "2020-05-31T00:00:00",
                    "2020-06-01T00:00:00",
                    "2020-06-02T00:00:00",
                    "2020-06-03T00:00:00",
                    "2020-06-04T00:00:00",
                    "2020-06-05T00:00:00",
                    "2020-06-06T00:00:00",
                    "2020-06-07T00:00:00",
                    "2020-06-08T00:00:00",
                    "2020-06-09T00:00:00",
                    "2020-06-10T00:00:00",
                    "2020-06-11T00:00:00",
                    "2020-06-12T00:00:00",
                    "2020-06-13T00:00:00",
                    "2020-06-14T00:00:00",
                    "2020-06-15T00:00:00",
                    "2020-06-16T00:00:00",
                    "2020-06-17T00:00:00",
                    "2020-06-18T00:00:00",
                    "2020-06-19T00:00:00",
                    "2020-06-20T00:00:00",
                    "2020-06-21T00:00:00",
                    "2020-06-22T00:00:00",
                    "2020-06-23T00:00:00",
                    "2020-06-24T00:00:00",
                    "2020-06-25T00:00:00",
                    "2020-06-26T00:00:00",
                    "2020-06-27T00:00:00",
                    "2020-06-28T00:00:00",
                    "2020-06-29T00:00:00",
                    "2020-06-30T00:00:00",
                    "2020-07-01T00:00:00",
                    "2020-07-02T00:00:00",
                    "2020-07-03T00:00:00",
                    "2020-07-04T00:00:00",
                    "2020-07-05T00:00:00",
                    "2020-07-06T00:00:00",
                    "2020-07-07T00:00:00",
                    "2020-07-08T00:00:00",
                    "2020-07-09T00:00:00",
                    "2020-07-10T00:00:00",
                    "2020-07-11T00:00:00",
                    "2020-07-12T00:00:00",
                    "2020-07-13T00:00:00",
                    "2020-07-14T00:00:00",
                    "2020-07-15T00:00:00",
                    "2020-07-16T00:00:00",
                    "2020-07-17T00:00:00",
                    "2020-07-18T00:00:00",
                    "2020-07-19T00:00:00",
                    "2020-07-20T00:00:00",
                    "2020-07-21T00:00:00",
                    "2020-07-22T00:00:00",
                    "2020-07-23T00:00:00",
                    "2020-07-24T00:00:00",
                    "2020-07-25T00:00:00",
                    "2020-07-26T00:00:00",
                    "2020-07-27T00:00:00",
                    "2020-07-28T00:00:00",
                    "2020-07-29T00:00:00",
                    "2020-07-30T00:00:00",
                    "2020-07-31T00:00:00",
                    "2020-08-01T00:00:00",
                    "2020-08-02T00:00:00",
                    "2020-08-03T00:00:00",
                    "2020-08-04T00:00:00",
                    "2020-08-05T00:00:00",
                    "2020-08-06T00:00:00",
                    "2020-08-07T00:00:00",
                    "2020-08-08T00:00:00",
                    "2020-08-09T00:00:00",
                    "2020-08-10T00:00:00",
                    "2020-08-11T00:00:00",
                    "2020-08-12T00:00:00",
                    "2020-08-13T00:00:00",
                    "2020-08-14T00:00:00",
                    "2020-08-15T00:00:00",
                    "2020-08-16T00:00:00",
                    "2020-08-17T00:00:00",
                    "2020-08-18T00:00:00",
                    "2020-08-19T00:00:00",
                    "2020-08-20T00:00:00",
                    "2020-08-21T00:00:00",
                    "2020-08-22T00:00:00",
                    "2020-08-23T00:00:00",
                    "2020-08-24T00:00:00",
                    "2020-08-25T00:00:00",
                    "2020-08-26T00:00:00",
                    "2020-08-27T00:00:00",
                    "2020-08-28T00:00:00",
                    "2020-08-29T00:00:00",
                    "2020-08-30T00:00:00",
                    "2020-08-31T00:00:00",
                    "2020-09-01T00:00:00",
                    "2020-09-02T00:00:00",
                    "2020-09-03T00:00:00",
                    "2020-09-04T00:00:00",
                    "2020-09-05T00:00:00",
                    "2020-09-06T00:00:00",
                    "2020-09-07T00:00:00",
                    "2020-09-08T00:00:00",
                    "2020-09-09T00:00:00",
                    "2020-09-10T00:00:00",
                    "2020-09-11T00:00:00",
                    "2020-09-12T00:00:00",
                    "2020-09-13T00:00:00",
                    "2020-09-14T00:00:00",
                    "2020-09-15T00:00:00",
                    "2020-09-16T00:00:00",
                    "2020-09-17T00:00:00",
                    "2020-09-18T00:00:00",
                    "2020-09-19T00:00:00",
                    "2020-09-20T00:00:00",
                    "2020-09-21T00:00:00",
                    "2020-09-22T00:00:00",
                    "2020-09-23T00:00:00",
                    "2020-09-24T00:00:00",
                    "2020-09-25T00:00:00",
                    "2020-09-26T00:00:00",
                    "2020-09-27T00:00:00",
                    "2020-09-28T00:00:00",
                    "2020-09-29T00:00:00",
                    "2020-09-30T00:00:00",
                    "2020-10-01T00:00:00",
                    "2020-10-02T00:00:00",
                    "2020-10-03T00:00:00",
                    "2020-10-04T00:00:00",
                    "2020-10-05T00:00:00",
                    "2020-10-06T00:00:00",
                    "2020-10-07T00:00:00",
                    "2020-10-08T00:00:00",
                    "2020-10-09T00:00:00",
                    "2020-10-10T00:00:00",
                    "2020-10-11T00:00:00",
                    "2020-10-12T00:00:00",
                    "2020-10-13T00:00:00",
                    "2020-10-14T00:00:00",
                    "2020-10-15T00:00:00",
                    "2020-10-16T00:00:00",
                    "2020-10-17T00:00:00",
                    "2020-10-18T00:00:00",
                    "2020-10-19T00:00:00",
                    "2020-10-20T00:00:00",
                    "2020-10-21T00:00:00",
                    "2020-10-22T00:00:00",
                    "2020-10-23T00:00:00",
                    "2020-10-24T00:00:00",
                    "2020-10-25T00:00:00",
                    "2020-10-26T00:00:00",
                    "2020-10-27T00:00:00",
                    "2020-10-28T00:00:00",
                    "2020-10-29T00:00:00",
                    "2020-10-30T00:00:00",
                    "2020-10-31T00:00:00",
                    "2020-11-01T00:00:00",
                    "2020-11-02T00:00:00",
                    "2020-11-03T00:00:00",
                    "2020-11-04T00:00:00",
                    "2020-11-05T00:00:00",
                    "2020-11-06T00:00:00",
                    "2020-11-07T00:00:00",
                    "2020-11-08T00:00:00",
                    "2020-11-09T00:00:00",
                    "2020-11-10T00:00:00",
                    "2020-11-11T00:00:00",
                    "2020-11-12T00:00:00",
                    "2020-11-13T00:00:00",
                    "2020-11-14T00:00:00",
                    "2020-11-15T00:00:00",
                    "2020-11-16T00:00:00",
                    "2020-11-17T00:00:00",
                    "2020-11-18T00:00:00",
                    "2020-11-19T00:00:00",
                    "2020-11-20T00:00:00",
                    "2020-11-21T00:00:00",
                    "2020-11-22T00:00:00",
                    "2020-11-23T00:00:00",
                    "2020-11-24T00:00:00",
                    "2020-11-25T00:00:00",
                    "2020-11-26T00:00:00",
                    "2020-11-27T00:00:00",
                    "2020-11-28T00:00:00",
                    "2020-11-29T00:00:00",
                    "2020-11-30T00:00:00",
                    "2020-12-01T00:00:00",
                    "2020-12-02T00:00:00",
                    "2020-12-03T00:00:00",
                    "2020-12-04T00:00:00",
                    "2020-12-05T00:00:00",
                    "2020-12-06T00:00:00",
                    "2020-12-07T00:00:00",
                    "2020-12-08T00:00:00",
                    "2020-12-09T00:00:00",
                    "2020-12-10T00:00:00",
                    "2020-12-11T00:00:00",
                    "2020-12-12T00:00:00",
                    "2020-12-13T00:00:00",
                    "2020-12-14T00:00:00",
                    "2020-12-15T00:00:00",
                    "2020-12-16T00:00:00",
                    "2020-12-17T00:00:00",
                    "2020-12-18T00:00:00",
                    "2020-12-19T00:00:00",
                    "2020-12-20T00:00:00",
                    "2020-12-21T00:00:00",
                    "2020-12-22T00:00:00",
                    "2020-12-23T00:00:00",
                    "2020-12-24T00:00:00",
                    "2020-12-25T00:00:00",
                    "2020-12-26T00:00:00",
                    "2020-12-27T00:00:00",
                    "2020-12-28T00:00:00",
                    "2020-12-29T00:00:00",
                    "2020-12-30T00:00:00",
                    "2020-12-31T00:00:00",
                    "2021-01-01T00:00:00",
                    "2021-01-02T00:00:00",
                    "2021-01-03T00:00:00",
                    "2021-01-04T00:00:00",
                    "2021-01-05T00:00:00",
                    "2021-01-06T00:00:00",
                    "2021-01-07T00:00:00",
                    "2021-01-08T00:00:00",
                    "2021-01-09T00:00:00",
                    "2021-01-10T00:00:00",
                    "2021-01-11T00:00:00",
                    "2021-01-12T00:00:00",
                    "2021-01-13T00:00:00",
                    "2021-01-14T00:00:00",
                    "2021-01-15T00:00:00",
                    "2021-01-16T00:00:00",
                    "2021-01-17T00:00:00",
                    "2021-01-18T00:00:00",
                    "2021-01-19T00:00:00",
                    "2021-01-20T00:00:00",
                    "2021-01-21T00:00:00",
                    "2021-01-22T00:00:00",
                    "2021-01-23T00:00:00",
                    "2021-01-24T00:00:00",
                    "2021-01-25T00:00:00",
                    "2021-01-26T00:00:00",
                    "2021-01-27T00:00:00",
                    "2021-01-28T00:00:00",
                    "2021-01-29T00:00:00",
                    "2021-01-30T00:00:00",
                    "2021-01-31T00:00:00",
                    "2021-02-01T00:00:00",
                    "2021-02-02T00:00:00",
                    "2021-02-03T00:00:00",
                    "2021-02-04T00:00:00",
                    "2021-02-05T00:00:00",
                    "2021-02-06T00:00:00",
                    "2021-02-07T00:00:00",
                    "2021-02-08T00:00:00",
                    "2021-02-09T00:00:00",
                    "2021-02-10T00:00:00",
                    "2021-02-11T00:00:00",
                    "2021-02-12T00:00:00",
                    "2021-02-13T00:00:00",
                    "2021-02-14T00:00:00",
                    "2021-02-15T00:00:00",
                    "2021-02-16T00:00:00",
                    "2021-02-17T00:00:00",
                    "2021-02-18T00:00:00",
                    "2021-02-19T00:00:00",
                    "2021-02-20T00:00:00",
                    "2021-02-21T00:00:00",
                    "2021-02-22T00:00:00",
                    "2021-02-23T00:00:00",
                    "2021-02-24T00:00:00",
                    "2021-02-25T00:00:00",
                    "2021-02-26T00:00:00",
                    "2021-02-27T00:00:00",
                    "2021-02-28T00:00:00",
                    "2021-03-01T00:00:00",
                    "2021-03-02T00:00:00",
                    "2021-03-03T00:00:00",
                    "2021-03-04T00:00:00",
                    "2021-03-05T00:00:00",
                    "2021-03-06T00:00:00",
                    "2021-03-07T00:00:00",
                    "2021-03-08T00:00:00",
                    "2021-03-09T00:00:00",
                    "2021-03-10T00:00:00",
                    "2021-03-11T00:00:00",
                    "2021-03-12T00:00:00",
                    "2021-03-13T00:00:00",
                    "2021-03-14T00:00:00",
                    "2021-03-15T00:00:00",
                    "2021-03-16T00:00:00",
                    "2021-03-17T00:00:00",
                    "2021-03-18T00:00:00",
                    "2021-03-19T00:00:00",
                    "2021-03-20T00:00:00",
                    "2021-03-21T00:00:00",
                    "2021-03-22T00:00:00",
                    "2021-03-23T00:00:00",
                    "2021-03-24T00:00:00",
                    "2021-03-25T00:00:00",
                    "2021-03-26T00:00:00",
                    "2021-03-27T00:00:00",
                    "2021-03-28T00:00:00",
                    "2021-03-29T00:00:00",
                    "2021-03-30T00:00:00",
                    "2021-03-31T00:00:00",
                    "2021-04-01T00:00:00",
                    "2021-04-02T00:00:00",
                    "2021-04-03T00:00:00",
                    "2021-04-04T00:00:00",
                    "2021-04-05T00:00:00",
                    "2021-04-06T00:00:00",
                    "2021-04-07T00:00:00",
                    "2021-04-08T00:00:00",
                    "2021-04-09T00:00:00",
                    "2021-04-10T00:00:00",
                    "2021-04-11T00:00:00",
                    "2021-04-12T00:00:00",
                    "2021-04-13T00:00:00",
                    "2021-04-14T00:00:00",
                    "2021-04-15T00:00:00",
                    "2021-04-16T00:00:00",
                    "2021-04-17T00:00:00",
                    "2021-04-18T00:00:00",
                    "2021-04-19T00:00:00",
                    "2021-04-20T00:00:00",
                    "2021-04-21T00:00:00",
                    "2021-04-22T00:00:00",
                    "2021-04-23T00:00:00",
                    "2021-04-24T00:00:00",
                    "2021-04-25T00:00:00",
                    "2021-04-26T00:00:00",
                    "2021-04-27T00:00:00",
                    "2021-04-28T00:00:00",
                    "2021-04-29T00:00:00",
                    "2021-04-30T00:00:00",
                    "2021-05-01T00:00:00",
                    "2021-05-02T00:00:00",
                    "2021-05-03T00:00:00",
                    "2021-05-04T00:00:00",
                    "2021-05-05T00:00:00",
                    "2021-05-06T00:00:00",
                    "2021-05-07T00:00:00",
                    "2021-05-08T00:00:00",
                    "2021-05-09T00:00:00",
                    "2021-05-10T00:00:00",
                    "2021-05-11T00:00:00",
                    "2021-05-12T00:00:00",
                    "2021-05-13T00:00:00",
                    "2021-05-14T00:00:00",
                    "2021-05-15T00:00:00",
                    "2021-05-16T00:00:00",
                    "2021-05-17T00:00:00",
                    "2021-05-18T00:00:00",
                    "2021-05-19T00:00:00",
                    "2021-05-20T00:00:00",
                    "2021-05-21T00:00:00",
                    "2021-05-22T00:00:00",
                    "2021-05-23T00:00:00",
                    "2021-05-24T00:00:00",
                    "2021-05-25T00:00:00",
                    "2021-05-26T00:00:00",
                    "2021-05-27T00:00:00",
                    "2021-05-28T00:00:00",
                    "2021-05-29T00:00:00",
                    "2021-05-30T00:00:00",
                    "2021-05-31T00:00:00",
                    "2021-06-01T00:00:00",
                    "2021-06-02T00:00:00",
                    "2021-06-03T00:00:00",
                    "2021-06-04T00:00:00",
                    "2021-06-05T00:00:00",
                    "2021-06-06T00:00:00",
                    "2021-06-07T00:00:00",
                    "2021-06-08T00:00:00",
                    "2021-06-09T00:00:00",
                    "2021-06-10T00:00:00",
                    "2021-06-11T00:00:00",
                    "2021-06-12T00:00:00",
                    "2021-06-13T00:00:00",
                    "2021-06-14T00:00:00",
                    "2021-06-15T00:00:00",
                    "2021-06-16T00:00:00",
                    "2021-06-17T00:00:00",
                    "2021-06-18T00:00:00",
                    "2021-06-19T00:00:00",
                    "2021-06-20T00:00:00",
                    "2021-06-21T00:00:00",
                    "2021-06-22T00:00:00",
                    "2021-06-23T00:00:00",
                    "2021-06-24T00:00:00",
                    "2021-06-25T00:00:00",
                    "2021-06-26T00:00:00",
                    "2021-06-27T00:00:00",
                    "2021-06-28T00:00:00",
                    "2021-06-29T00:00:00",
                    "2021-06-30T00:00:00",
                    "2021-07-01T00:00:00",
                    "2021-07-02T00:00:00",
                    "2021-07-03T00:00:00",
                    "2021-07-04T00:00:00",
                    "2021-07-05T00:00:00",
                    "2021-07-06T00:00:00",
                    "2021-07-07T00:00:00",
                    "2021-07-08T00:00:00",
                    "2021-07-09T00:00:00",
                    "2021-07-10T00:00:00",
                    "2021-07-11T00:00:00",
                    "2021-07-12T00:00:00",
                    "2021-07-13T00:00:00",
                    "2021-07-14T00:00:00",
                    "2021-07-15T00:00:00",
                    "2021-07-16T00:00:00",
                    "2021-07-17T00:00:00",
                    "2021-07-18T00:00:00",
                    "2021-07-19T00:00:00",
                    "2021-07-20T00:00:00",
                    "2021-07-21T00:00:00",
                    "2021-07-22T00:00:00",
                    "2021-07-23T00:00:00",
                    "2021-07-24T00:00:00",
                    "2021-07-25T00:00:00",
                    "2021-07-26T00:00:00",
                    "2021-07-27T00:00:00",
                    "2021-07-28T00:00:00",
                    "2021-07-29T00:00:00",
                    "2021-07-30T00:00:00",
                    "2021-07-31T00:00:00",
                    "2021-08-01T00:00:00",
                    "2021-08-02T00:00:00",
                    "2021-08-03T00:00:00",
                    "2021-08-04T00:00:00",
                    "2021-08-05T00:00:00",
                    "2021-08-06T00:00:00",
                    "2021-08-07T00:00:00",
                    "2021-08-08T00:00:00",
                    "2021-08-09T00:00:00",
                    "2021-08-10T00:00:00",
                    "2021-08-11T00:00:00",
                    "2021-08-12T00:00:00",
                    "2021-08-13T00:00:00",
                    "2021-08-14T00:00:00",
                    "2021-08-15T00:00:00",
                    "2021-08-16T00:00:00",
                    "2021-08-17T00:00:00",
                    "2021-08-18T00:00:00",
                    "2021-08-19T00:00:00",
                    "2021-08-20T00:00:00",
                    "2021-08-21T00:00:00",
                    "2021-08-22T00:00:00",
                    "2021-08-23T00:00:00",
                    "2021-08-24T00:00:00",
                    "2021-08-25T00:00:00",
                    "2021-08-26T00:00:00",
                    "2021-08-27T00:00:00",
                    "2021-08-28T00:00:00",
                    "2021-08-29T00:00:00",
                    "2021-08-30T00:00:00",
                    "2021-08-31T00:00:00",
                    "2021-09-01T00:00:00",
                    "2021-09-02T00:00:00",
                    "2021-09-03T00:00:00",
                    "2021-09-04T00:00:00",
                    "2021-09-05T00:00:00",
                    "2021-09-06T00:00:00",
                    "2021-09-07T00:00:00",
                    "2021-09-08T00:00:00",
                    "2021-09-09T00:00:00",
                    "2021-09-10T00:00:00",
                    "2021-09-11T00:00:00",
                    "2021-09-12T00:00:00",
                    "2021-09-13T00:00:00",
                    "2021-09-14T00:00:00",
                    "2021-09-15T00:00:00",
                    "2021-09-16T00:00:00",
                    "2021-09-17T00:00:00",
                    "2021-09-18T00:00:00",
                    "2021-09-19T00:00:00",
                    "2021-09-20T00:00:00",
                    "2021-09-21T00:00:00",
                    "2021-09-22T00:00:00",
                    "2021-09-23T00:00:00",
                    "2021-09-24T00:00:00",
                    "2021-09-25T00:00:00",
                    "2021-09-26T00:00:00",
                    "2021-09-27T00:00:00",
                    "2021-09-28T00:00:00",
                    "2021-09-29T00:00:00",
                    "2021-09-30T00:00:00",
                    "2021-10-01T00:00:00",
                    "2021-10-02T00:00:00",
                    "2021-10-03T00:00:00",
                    "2021-10-04T00:00:00",
                    "2021-10-05T00:00:00",
                    "2021-10-06T00:00:00",
                    "2021-10-07T00:00:00",
                    "2021-10-08T00:00:00",
                    "2021-10-09T00:00:00",
                    "2021-10-10T00:00:00",
                    "2021-10-11T00:00:00",
                    "2021-10-12T00:00:00",
                    "2021-10-13T00:00:00",
                    "2021-10-14T00:00:00",
                    "2021-10-15T00:00:00",
                    "2021-10-16T00:00:00",
                    "2021-10-17T00:00:00",
                    "2021-10-18T00:00:00",
                    "2021-10-19T00:00:00",
                    "2021-10-20T00:00:00",
                    "2021-10-21T00:00:00",
                    "2021-10-22T00:00:00",
                    "2021-10-23T00:00:00",
                    "2021-10-24T00:00:00",
                    "2021-10-25T00:00:00",
                    "2021-10-26T00:00:00",
                    "2021-10-27T00:00:00",
                    "2021-10-28T00:00:00",
                    "2021-10-29T00:00:00",
                    "2021-10-30T00:00:00",
                    "2021-10-31T00:00:00",
                    "2021-11-01T00:00:00",
                    "2021-11-02T00:00:00",
                    "2021-11-03T00:00:00",
                    "2021-11-04T00:00:00",
                    "2021-11-05T00:00:00",
                    "2021-11-06T00:00:00",
                    "2021-11-07T00:00:00",
                    "2021-11-08T00:00:00",
                    "2021-11-09T00:00:00",
                    "2021-11-10T00:00:00",
                    "2021-11-11T00:00:00",
                    "2021-11-12T00:00:00",
                    "2021-11-13T00:00:00",
                    "2021-11-14T00:00:00",
                    "2021-11-15T00:00:00",
                    "2021-11-16T00:00:00",
                    "2021-11-17T00:00:00",
                    "2021-11-18T00:00:00",
                    "2021-11-19T00:00:00",
                    "2021-11-20T00:00:00",
                    "2021-11-21T00:00:00",
                    "2021-11-22T00:00:00",
                    "2021-11-23T00:00:00",
                    "2021-11-24T00:00:00",
                    "2021-11-25T00:00:00",
                    "2021-11-26T00:00:00",
                    "2021-11-27T00:00:00",
                    "2021-11-28T00:00:00",
                    "2021-11-29T00:00:00",
                    "2021-11-30T00:00:00",
                    "2021-12-01T00:00:00",
                    "2021-12-02T00:00:00",
                    "2021-12-03T00:00:00",
                    "2021-12-04T00:00:00",
                    "2021-12-05T00:00:00",
                    "2021-12-06T00:00:00",
                    "2021-12-07T00:00:00",
                    "2021-12-08T00:00:00",
                    "2021-12-09T00:00:00",
                    "2021-12-10T00:00:00",
                    "2021-12-11T00:00:00",
                    "2021-12-12T00:00:00",
                    "2021-12-13T00:00:00",
                    "2021-12-14T00:00:00",
                    "2021-12-15T00:00:00",
                    "2021-12-16T00:00:00",
                    "2021-12-17T00:00:00",
                    "2021-12-18T00:00:00",
                    "2021-12-19T00:00:00",
                    "2021-12-20T00:00:00",
                    "2021-12-21T00:00:00",
                    "2021-12-22T00:00:00",
                    "2021-12-23T00:00:00",
                    "2021-12-24T00:00:00",
                    "2021-12-25T00:00:00",
                    "2021-12-26T00:00:00",
                    "2021-12-27T00:00:00",
                    "2021-12-28T00:00:00",
                    "2021-12-29T00:00:00",
                    "2021-12-30T00:00:00",
                    "2021-12-31T00:00:00",
                    "2022-01-01T00:00:00",
                    "2022-01-02T00:00:00",
                    "2022-01-03T00:00:00",
                    "2022-01-04T00:00:00",
                    "2022-01-05T00:00:00",
                    "2022-01-06T00:00:00",
                    "2022-01-07T00:00:00",
                    "2022-01-08T00:00:00",
                    "2022-01-09T00:00:00",
                    "2022-01-10T00:00:00",
                    "2022-01-11T00:00:00",
                    "2022-01-12T00:00:00",
                    "2022-01-13T00:00:00",
                    "2022-01-14T00:00:00",
                    "2022-01-15T00:00:00",
                    "2022-01-16T00:00:00",
                    "2022-01-17T00:00:00",
                    "2022-01-18T00:00:00",
                    "2022-01-19T00:00:00",
                    "2022-01-20T00:00:00",
                    "2022-01-21T00:00:00",
                    "2022-01-22T00:00:00",
                    "2022-01-23T00:00:00",
                    "2022-01-24T00:00:00",
                    "2022-01-25T00:00:00",
                    "2022-01-26T00:00:00",
                    "2022-01-27T00:00:00",
                    "2022-01-28T00:00:00",
                    "2022-01-29T00:00:00",
                    "2022-01-30T00:00:00",
                    "2022-01-31T00:00:00",
                    "2022-02-01T00:00:00",
                    "2022-02-02T00:00:00",
                    "2022-02-03T00:00:00",
                    "2022-02-04T00:00:00",
                    "2022-02-05T00:00:00",
                    "2022-02-06T00:00:00",
                    "2022-02-07T00:00:00",
                    "2022-02-08T00:00:00",
                    "2022-02-09T00:00:00",
                    "2022-02-10T00:00:00",
                    "2022-02-11T00:00:00",
                    "2022-02-12T00:00:00",
                    "2022-02-13T00:00:00",
                    "2022-02-14T00:00:00",
                    "2022-02-15T00:00:00",
                    "2022-02-16T00:00:00",
                    "2022-02-17T00:00:00",
                    "2022-02-18T00:00:00",
                    "2022-02-19T00:00:00",
                    "2022-02-20T00:00:00",
                    "2022-02-21T00:00:00",
                    "2022-02-22T00:00:00",
                    "2022-02-23T00:00:00",
                    "2022-02-24T00:00:00",
                    "2022-02-25T00:00:00",
                    "2022-02-26T00:00:00",
                    "2022-02-27T00:00:00",
                    "2022-02-28T00:00:00",
                    "2022-03-01T00:00:00",
                    "2022-03-02T00:00:00",
                    "2022-03-03T00:00:00",
                    "2022-03-04T00:00:00",
                    "2022-03-05T00:00:00",
                    "2022-03-06T00:00:00",
                    "2022-03-07T00:00:00",
                    "2022-03-08T00:00:00",
                    "2022-03-09T00:00:00",
                    "2022-03-10T00:00:00",
                    "2022-03-11T00:00:00",
                    "2022-03-12T00:00:00",
                    "2022-03-13T00:00:00",
                    "2022-03-14T00:00:00",
                    "2022-03-15T00:00:00",
                    "2022-03-16T00:00:00",
                    "2022-03-17T00:00:00",
                    "2022-03-18T00:00:00",
                    "2022-03-19T00:00:00",
                    "2022-03-20T00:00:00",
                    "2022-03-21T00:00:00",
                    "2022-03-22T00:00:00",
                    "2022-03-23T00:00:00",
                    "2022-03-24T00:00:00",
                    "2022-03-25T00:00:00",
                    "2022-03-26T00:00:00",
                    "2022-03-27T00:00:00",
                    "2022-03-28T00:00:00",
                    "2022-03-29T00:00:00",
                    "2022-03-30T00:00:00",
                    "2022-03-31T00:00:00",
                    "2022-04-01T00:00:00",
                    "2022-04-02T00:00:00",
                    "2022-04-03T00:00:00",
                    "2022-04-04T00:00:00",
                    "2022-04-05T00:00:00",
                    "2022-04-06T00:00:00",
                    "2022-04-07T00:00:00",
                    "2022-04-08T00:00:00",
                    "2022-04-09T00:00:00",
                    "2022-04-10T00:00:00",
                    "2022-04-11T00:00:00",
                    "2022-04-12T00:00:00",
                    "2022-04-13T00:00:00",
                    "2022-04-14T00:00:00",
                    "2022-04-15T00:00:00",
                    "2022-04-16T00:00:00",
                    "2022-04-17T00:00:00",
                    "2022-04-18T00:00:00",
                    "2022-04-19T00:00:00",
                    "2022-04-20T00:00:00",
                    "2022-04-21T00:00:00",
                    "2022-04-22T00:00:00",
                    "2022-04-23T00:00:00",
                    "2022-04-24T00:00:00",
                    "2022-04-25T00:00:00",
                    "2022-04-26T00:00:00",
                    "2022-04-27T00:00:00",
                    "2022-04-28T00:00:00",
                    "2022-04-29T00:00:00",
                    "2022-04-30T00:00:00",
                    "2022-05-01T00:00:00",
                    "2022-05-02T00:00:00",
                    "2022-05-03T00:00:00",
                    "2022-05-04T00:00:00",
                    "2022-05-05T00:00:00",
                    "2022-05-06T00:00:00",
                    "2022-05-07T00:00:00",
                    "2022-05-08T00:00:00",
                    "2022-05-09T00:00:00",
                    "2022-05-10T00:00:00",
                    "2022-05-11T00:00:00",
                    "2022-05-12T00:00:00",
                    "2022-05-13T00:00:00",
                    "2022-05-14T00:00:00",
                    "2022-05-15T00:00:00",
                    "2022-05-16T00:00:00",
                    "2022-05-17T00:00:00",
                    "2022-05-18T00:00:00",
                    "2022-05-19T00:00:00",
                    "2022-05-20T00:00:00",
                    "2022-05-21T00:00:00",
                    "2022-05-22T00:00:00",
                    "2022-05-23T00:00:00",
                    "2022-05-24T00:00:00",
                    "2022-05-25T00:00:00",
                    "2022-05-26T00:00:00",
                    "2022-05-27T00:00:00",
                    "2022-05-28T00:00:00",
                    "2022-05-29T00:00:00",
                    "2022-05-30T00:00:00",
                    "2022-05-31T00:00:00",
                    "2022-06-01T00:00:00",
                    "2022-06-02T00:00:00",
                    "2022-06-03T00:00:00",
                    "2022-06-04T00:00:00",
                    "2022-06-05T00:00:00",
                    "2022-06-06T00:00:00",
                    "2022-06-07T00:00:00",
                    "2022-06-08T00:00:00",
                    "2022-06-09T00:00:00",
                    "2022-06-10T00:00:00",
                    "2022-06-11T00:00:00",
                    "2022-06-12T00:00:00",
                    "2022-06-13T00:00:00",
                    "2022-06-14T00:00:00",
                    "2022-06-15T00:00:00",
                    "2022-06-16T00:00:00",
                    "2022-06-17T00:00:00",
                    "2022-06-18T00:00:00",
                    "2022-06-19T00:00:00",
                    "2022-06-20T00:00:00",
                    "2022-06-21T00:00:00",
                    "2022-06-22T00:00:00",
                    "2022-06-23T00:00:00",
                    "2022-06-24T00:00:00",
                    "2022-06-25T00:00:00",
                    "2022-06-26T00:00:00",
                    "2022-06-27T00:00:00",
                    "2022-06-28T00:00:00",
                    "2022-06-29T00:00:00",
                    "2022-06-30T00:00:00",
                    "2022-07-01T00:00:00",
                    "2022-07-02T00:00:00",
                    "2022-07-03T00:00:00",
                    "2022-07-04T00:00:00",
                    "2022-07-05T00:00:00",
                    "2022-07-06T00:00:00",
                    "2022-07-07T00:00:00",
                    "2022-07-08T00:00:00",
                    "2022-07-09T00:00:00",
                    "2022-07-10T00:00:00",
                    "2022-07-11T00:00:00",
                    "2022-07-12T00:00:00",
                    "2022-07-13T00:00:00",
                    "2022-07-14T00:00:00",
                    "2022-07-15T00:00:00",
                    "2022-07-16T00:00:00",
                    "2022-07-17T00:00:00",
                    "2022-07-18T00:00:00",
                    "2022-07-19T00:00:00",
                    "2022-07-20T00:00:00",
                    "2022-07-21T00:00:00",
                    "2022-07-22T00:00:00",
                    "2022-07-23T00:00:00",
                    "2022-07-24T00:00:00",
                    "2022-07-25T00:00:00",
                    "2022-07-26T00:00:00",
                    "2022-07-27T00:00:00",
                    "2022-07-28T00:00:00",
                    "2022-07-29T00:00:00",
                    "2022-07-30T00:00:00",
                    "2022-07-31T00:00:00",
                    "2022-08-01T00:00:00",
                    "2022-08-02T00:00:00",
                    "2022-08-03T00:00:00",
                    "2022-08-04T00:00:00",
                    "2022-08-05T00:00:00",
                    "2022-08-06T00:00:00",
                    "2022-08-07T00:00:00",
                    "2022-08-08T00:00:00",
                    "2022-08-09T00:00:00",
                    "2022-08-10T00:00:00",
                    "2022-08-11T00:00:00",
                    "2022-08-12T00:00:00",
                    "2022-08-13T00:00:00",
                    "2022-08-14T00:00:00",
                    "2022-08-15T00:00:00",
                    "2022-08-16T00:00:00",
                    "2022-08-17T00:00:00",
                    "2022-08-18T00:00:00",
                    "2022-08-19T00:00:00",
                    "2022-08-20T00:00:00",
                    "2022-08-21T00:00:00",
                    "2022-08-22T00:00:00",
                    "2022-08-23T00:00:00",
                    "2022-08-24T00:00:00",
                    "2022-08-25T00:00:00",
                    "2022-08-26T00:00:00",
                    "2022-08-27T00:00:00",
                    "2022-08-28T00:00:00",
                    "2022-08-29T00:00:00",
                    "2022-08-30T00:00:00",
                    "2022-08-31T00:00:00",
                    "2022-09-01T00:00:00",
                    "2022-09-02T00:00:00",
                    "2022-09-03T00:00:00",
                    "2022-09-04T00:00:00",
                    "2022-09-05T00:00:00",
                    "2022-09-06T00:00:00",
                    "2022-09-07T00:00:00",
                    "2022-09-08T00:00:00",
                    "2022-09-09T00:00:00",
                    "2022-09-10T00:00:00",
                    "2022-09-11T00:00:00",
                    "2022-09-12T00:00:00",
                    "2022-09-13T00:00:00",
                    "2022-09-14T00:00:00",
                    "2022-09-15T00:00:00",
                    "2022-09-16T00:00:00",
                    "2022-09-17T00:00:00",
                    "2022-09-18T00:00:00",
                    "2022-09-19T00:00:00",
                    "2022-09-20T00:00:00",
                    "2022-09-21T00:00:00",
                    "2022-09-22T00:00:00",
                    "2022-09-23T00:00:00",
                    "2022-09-24T00:00:00",
                    "2022-09-25T00:00:00",
                    "2022-09-26T00:00:00",
                    "2022-09-27T00:00:00",
                    "2022-09-28T00:00:00",
                    "2022-09-29T00:00:00",
                    "2022-09-30T00:00:00",
                    "2022-10-01T00:00:00",
                    "2022-10-02T00:00:00",
                    "2022-10-03T00:00:00",
                    "2022-10-04T00:00:00",
                    "2022-10-05T00:00:00",
                    "2022-10-06T00:00:00",
                    "2022-10-07T00:00:00",
                    "2022-10-08T00:00:00",
                    "2022-10-09T00:00:00",
                    "2022-10-10T00:00:00",
                    "2022-10-11T00:00:00",
                    "2022-10-12T00:00:00",
                    "2022-10-13T00:00:00",
                    "2022-10-14T00:00:00",
                    "2022-10-15T00:00:00",
                    "2022-10-16T00:00:00",
                    "2022-10-17T00:00:00",
                    "2022-10-18T00:00:00",
                    "2022-10-19T00:00:00",
                    "2022-10-20T00:00:00",
                    "2022-10-21T00:00:00",
                    "2022-10-22T00:00:00",
                    "2022-10-23T00:00:00",
                    "2022-10-24T00:00:00",
                    "2022-10-25T00:00:00",
                    "2022-10-26T00:00:00",
                    "2022-10-27T00:00:00",
                    "2022-10-28T00:00:00",
                    "2022-10-29T00:00:00",
                    "2022-10-30T00:00:00",
                    "2022-10-31T00:00:00",
                    "2022-11-01T00:00:00",
                    "2022-11-02T00:00:00",
                    "2022-11-03T00:00:00",
                    "2022-11-04T00:00:00",
                    "2022-11-05T00:00:00",
                    "2022-11-06T00:00:00",
                    "2022-11-07T00:00:00",
                    "2022-11-08T00:00:00",
                    "2022-11-09T00:00:00",
                    "2022-11-10T00:00:00",
                    "2022-11-11T00:00:00",
                    "2022-11-12T00:00:00",
                    "2022-11-13T00:00:00",
                    "2022-11-14T00:00:00",
                    "2022-11-15T00:00:00",
                    "2022-11-16T00:00:00",
                    "2022-11-17T00:00:00",
                    "2022-11-18T00:00:00",
                    "2022-11-19T00:00:00",
                    "2022-11-20T00:00:00",
                    "2022-11-21T00:00:00",
                    "2022-11-22T00:00:00",
                    "2022-11-23T00:00:00",
                    "2022-11-24T00:00:00",
                    "2022-11-25T00:00:00",
                    "2022-11-26T00:00:00",
                    "2022-11-27T00:00:00",
                    "2022-11-28T00:00:00",
                    "2022-11-29T00:00:00",
                    "2022-11-30T00:00:00",
                    "2022-12-01T00:00:00",
                    "2022-12-02T00:00:00",
                    "2022-12-03T00:00:00",
                    "2022-12-04T00:00:00",
                    "2022-12-05T00:00:00",
                    "2022-12-06T00:00:00",
                    "2022-12-07T00:00:00",
                    "2022-12-08T00:00:00",
                    "2022-12-09T00:00:00",
                    "2022-12-10T00:00:00",
                    "2022-12-11T00:00:00",
                    "2022-12-12T00:00:00",
                    "2022-12-13T00:00:00",
                    "2022-12-14T00:00:00",
                    "2022-12-15T00:00:00",
                    "2022-12-16T00:00:00",
                    "2022-12-17T00:00:00",
                    "2022-12-18T00:00:00",
                    "2022-12-19T00:00:00",
                    "2022-12-20T00:00:00",
                    "2022-12-21T00:00:00",
                    "2022-12-22T00:00:00",
                    "2022-12-23T00:00:00",
                    "2022-12-24T00:00:00",
                    "2022-12-25T00:00:00",
                    "2022-12-26T00:00:00",
                    "2022-12-27T00:00:00",
                    "2022-12-28T00:00:00",
                    "2022-12-29T00:00:00",
                    "2022-12-30T00:00:00",
                    "2022-12-31T00:00:00",
                    "2023-01-01T00:00:00",
                    "2023-01-02T00:00:00",
                    "2023-01-03T00:00:00",
                    "2023-01-04T00:00:00",
                    "2023-01-05T00:00:00",
                    "2023-01-06T00:00:00",
                    "2023-01-07T00:00:00",
                    "2023-01-08T00:00:00",
                    "2023-01-09T00:00:00",
                    "2023-01-10T00:00:00",
                    "2023-01-11T00:00:00",
                    "2023-01-12T00:00:00",
                    "2023-01-13T00:00:00",
                    "2023-01-14T00:00:00",
                    "2023-01-15T00:00:00",
                    "2023-01-16T00:00:00",
                    "2023-01-17T00:00:00",
                    "2023-01-18T00:00:00",
                    "2023-01-19T00:00:00",
                    "2023-01-20T00:00:00",
                    "2023-01-21T00:00:00",
                    "2023-01-22T00:00:00",
                    "2023-01-23T00:00:00",
                    "2023-01-24T00:00:00",
                    "2023-01-25T00:00:00",
                    "2023-01-26T00:00:00",
                    "2023-01-27T00:00:00",
                    "2023-01-28T00:00:00",
                    "2023-01-29T00:00:00",
                    "2023-01-30T00:00:00",
                    "2023-01-31T00:00:00",
                    "2023-02-01T00:00:00",
                    "2023-02-02T00:00:00",
                    "2023-02-03T00:00:00",
                    "2023-02-04T00:00:00",
                    "2023-02-05T00:00:00",
                    "2023-02-06T00:00:00",
                    "2023-02-07T00:00:00",
                    "2023-02-08T00:00:00",
                    "2023-02-09T00:00:00",
                    "2023-02-10T00:00:00",
                    "2023-02-11T00:00:00",
                    "2023-02-12T00:00:00",
                    "2023-02-13T00:00:00",
                    "2023-02-14T00:00:00",
                    "2023-02-15T00:00:00",
                    "2023-02-16T00:00:00",
                    "2023-02-17T00:00:00",
                    "2023-02-18T00:00:00",
                    "2023-02-19T00:00:00",
                    "2023-02-20T00:00:00",
                    "2023-02-21T00:00:00",
                    "2023-02-22T00:00:00",
                    "2023-02-23T00:00:00",
                    "2023-02-24T00:00:00",
                    "2023-02-25T00:00:00",
                    "2023-02-26T00:00:00",
                    "2023-02-27T00:00:00",
                    "2023-02-28T00:00:00",
                    "2023-03-01T00:00:00",
                    "2023-03-02T00:00:00",
                    "2023-03-03T00:00:00",
                    "2023-03-04T00:00:00",
                    "2023-03-05T00:00:00",
                    "2023-03-06T00:00:00",
                    "2023-03-07T00:00:00",
                    "2023-03-08T00:00:00",
                    "2023-03-09T00:00:00",
                    "2023-03-10T00:00:00",
                    "2023-03-11T00:00:00",
                    "2023-03-12T00:00:00",
                    "2023-03-13T00:00:00",
                    "2023-03-14T00:00:00",
                    "2023-03-15T00:00:00",
                    "2023-03-16T00:00:00",
                    "2023-03-17T00:00:00",
                    "2023-03-18T00:00:00"
                  ],
                  "xaxis": "x",
                  "y": {
                    "bdata": "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",
                    "dtype": "f8"
                  },
                  "yaxis": "y"
                },
                {
                  "name": "SIR",
                  "type": "scatter",
                  "x": [
                    "2020-03-24T00:00:00",
                    "2020-03-25T00:00:00",
                    "2020-03-26T00:00:00",
                    "2020-03-27T00:00:00",
                    "2020-03-28T00:00:00",
                    "2020-03-29T00:00:00",
                    "2020-03-30T00:00:00",
                    "2020-03-31T00:00:00",
                    "2020-04-01T00:00:00",
                    "2020-04-02T00:00:00",
                    "2020-04-03T00:00:00",
                    "2020-04-04T00:00:00",
                    "2020-04-05T00:00:00",
                    "2020-04-06T00:00:00",
                    "2020-04-07T00:00:00",
                    "2020-04-08T00:00:00",
                    "2020-04-09T00:00:00",
                    "2020-04-10T00:00:00",
                    "2020-04-11T00:00:00",
                    "2020-04-12T00:00:00",
                    "2020-04-13T00:00:00",
                    "2020-04-14T00:00:00",
                    "2020-04-15T00:00:00",
                    "2020-04-16T00:00:00",
                    "2020-04-17T00:00:00",
                    "2020-04-18T00:00:00",
                    "2020-04-19T00:00:00",
                    "2020-04-20T00:00:00",
                    "2020-04-21T00:00:00",
                    "2020-04-22T00:00:00",
                    "2020-04-23T00:00:00",
                    "2020-04-24T00:00:00",
                    "2020-04-25T00:00:00",
                    "2020-04-26T00:00:00",
                    "2020-04-27T00:00:00",
                    "2020-04-28T00:00:00",
                    "2020-04-29T00:00:00",
                    "2020-04-30T00:00:00",
                    "2020-05-01T00:00:00",
                    "2020-05-02T00:00:00",
                    "2020-05-03T00:00:00",
                    "2020-05-04T00:00:00",
                    "2020-05-05T00:00:00",
                    "2020-05-06T00:00:00",
                    "2020-05-07T00:00:00",
                    "2020-05-08T00:00:00",
                    "2020-05-09T00:00:00",
                    "2020-05-10T00:00:00",
                    "2020-05-11T00:00:00",
                    "2020-05-12T00:00:00",
                    "2020-05-13T00:00:00",
                    "2020-05-14T00:00:00",
                    "2020-05-15T00:00:00",
                    "2020-05-16T00:00:00",
                    "2020-05-17T00:00:00",
                    "2020-05-18T00:00:00",
                    "2020-05-19T00:00:00",
                    "2020-05-20T00:00:00",
                    "2020-05-21T00:00:00",
                    "2020-05-22T00:00:00",
                    "2020-05-23T00:00:00",
                    "2020-05-24T00:00:00",
                    "2020-05-25T00:00:00",
                    "2020-05-26T00:00:00",
                    "2020-05-27T00:00:00",
                    "2020-05-28T00:00:00",
                    "2020-05-29T00:00:00",
                    "2020-05-30T00:00:00",
                    "2020-05-31T00:00:00",
                    "2020-06-01T00:00:00",
                    "2020-06-02T00:00:00",
                    "2020-06-03T00:00:00",
                    "2020-06-04T00:00:00",
                    "2020-06-05T00:00:00",
                    "2020-06-06T00:00:00",
                    "2020-06-07T00:00:00",
                    "2020-06-08T00:00:00",
                    "2020-06-09T00:00:00",
                    "2020-06-10T00:00:00",
                    "2020-06-11T00:00:00",
                    "2020-06-12T00:00:00",
                    "2020-06-13T00:00:00",
                    "2020-06-14T00:00:00",
                    "2020-06-15T00:00:00",
                    "2020-06-16T00:00:00",
                    "2020-06-17T00:00:00",
                    "2020-06-18T00:00:00",
                    "2020-06-19T00:00:00",
                    "2020-06-20T00:00:00",
                    "2020-06-21T00:00:00",
                    "2020-06-22T00:00:00",
                    "2020-06-23T00:00:00",
                    "2020-06-24T00:00:00",
                    "2020-06-25T00:00:00",
                    "2020-06-26T00:00:00",
                    "2020-06-27T00:00:00",
                    "2020-06-28T00:00:00",
                    "2020-06-29T00:00:00",
                    "2020-06-30T00:00:00",
                    "2020-07-01T00:00:00",
                    "2020-07-02T00:00:00",
                    "2020-07-03T00:00:00",
                    "2020-07-04T00:00:00",
                    "2020-07-05T00:00:00",
                    "2020-07-06T00:00:00",
                    "2020-07-07T00:00:00",
                    "2020-07-08T00:00:00",
                    "2020-07-09T00:00:00",
                    "2020-07-10T00:00:00",
                    "2020-07-11T00:00:00",
                    "2020-07-12T00:00:00",
                    "2020-07-13T00:00:00",
                    "2020-07-14T00:00:00",
                    "2020-07-15T00:00:00",
                    "2020-07-16T00:00:00",
                    "2020-07-17T00:00:00",
                    "2020-07-18T00:00:00",
                    "2020-07-19T00:00:00",
                    "2020-07-20T00:00:00",
                    "2020-07-21T00:00:00",
                    "2020-07-22T00:00:00",
                    "2020-07-23T00:00:00",
                    "2020-07-24T00:00:00",
                    "2020-07-25T00:00:00",
                    "2020-07-26T00:00:00",
                    "2020-07-27T00:00:00",
                    "2020-07-28T00:00:00",
                    "2020-07-29T00:00:00",
                    "2020-07-30T00:00:00",
                    "2020-07-31T00:00:00",
                    "2020-08-01T00:00:00",
                    "2020-08-02T00:00:00",
                    "2020-08-03T00:00:00",
                    "2020-08-04T00:00:00",
                    "2020-08-05T00:00:00",
                    "2020-08-06T00:00:00",
                    "2020-08-07T00:00:00",
                    "2020-08-08T00:00:00",
                    "2020-08-09T00:00:00",
                    "2020-08-10T00:00:00",
                    "2020-08-11T00:00:00",
                    "2020-08-12T00:00:00",
                    "2020-08-13T00:00:00",
                    "2020-08-14T00:00:00",
                    "2020-08-15T00:00:00",
                    "2020-08-16T00:00:00",
                    "2020-08-17T00:00:00",
                    "2020-08-18T00:00:00",
                    "2020-08-19T00:00:00",
                    "2020-08-20T00:00:00",
                    "2020-08-21T00:00:00",
                    "2020-08-22T00:00:00",
                    "2020-08-23T00:00:00",
                    "2020-08-24T00:00:00",
                    "2020-08-25T00:00:00",
                    "2020-08-26T00:00:00",
                    "2020-08-27T00:00:00",
                    "2020-08-28T00:00:00",
                    "2020-08-29T00:00:00",
                    "2020-08-30T00:00:00",
                    "2020-08-31T00:00:00",
                    "2020-09-01T00:00:00",
                    "2020-09-02T00:00:00",
                    "2020-09-03T00:00:00",
                    "2020-09-04T00:00:00",
                    "2020-09-05T00:00:00",
                    "2020-09-06T00:00:00",
                    "2020-09-07T00:00:00",
                    "2020-09-08T00:00:00",
                    "2020-09-09T00:00:00",
                    "2020-09-10T00:00:00",
                    "2020-09-11T00:00:00",
                    "2020-09-12T00:00:00",
                    "2020-09-13T00:00:00",
                    "2020-09-14T00:00:00",
                    "2020-09-15T00:00:00",
                    "2020-09-16T00:00:00",
                    "2020-09-17T00:00:00",
                    "2020-09-18T00:00:00",
                    "2020-09-19T00:00:00",
                    "2020-09-20T00:00:00",
                    "2020-09-21T00:00:00",
                    "2020-09-22T00:00:00",
                    "2020-09-23T00:00:00",
                    "2020-09-24T00:00:00",
                    "2020-09-25T00:00:00",
                    "2020-09-26T00:00:00",
                    "2020-09-27T00:00:00",
                    "2020-09-28T00:00:00",
                    "2020-09-29T00:00:00",
                    "2020-09-30T00:00:00",
                    "2020-10-01T00:00:00",
                    "2020-10-02T00:00:00",
                    "2020-10-03T00:00:00",
                    "2020-10-04T00:00:00",
                    "2020-10-05T00:00:00",
                    "2020-10-06T00:00:00",
                    "2020-10-07T00:00:00",
                    "2020-10-08T00:00:00",
                    "2020-10-09T00:00:00",
                    "2020-10-10T00:00:00",
                    "2020-10-11T00:00:00",
                    "2020-10-12T00:00:00",
                    "2020-10-13T00:00:00",
                    "2020-10-14T00:00:00",
                    "2020-10-15T00:00:00",
                    "2020-10-16T00:00:00",
                    "2020-10-17T00:00:00",
                    "2020-10-18T00:00:00",
                    "2020-10-19T00:00:00",
                    "2020-10-20T00:00:00",
                    "2020-10-21T00:00:00",
                    "2020-10-22T00:00:00",
                    "2020-10-23T00:00:00",
                    "2020-10-24T00:00:00",
                    "2020-10-25T00:00:00",
                    "2020-10-26T00:00:00",
                    "2020-10-27T00:00:00",
                    "2020-10-28T00:00:00",
                    "2020-10-29T00:00:00",
                    "2020-10-30T00:00:00",
                    "2020-10-31T00:00:00",
                    "2020-11-01T00:00:00",
                    "2020-11-02T00:00:00",
                    "2020-11-03T00:00:00",
                    "2020-11-04T00:00:00",
                    "2020-11-05T00:00:00",
                    "2020-11-06T00:00:00",
                    "2020-11-07T00:00:00",
                    "2020-11-08T00:00:00",
                    "2020-11-09T00:00:00",
                    "2020-11-10T00:00:00",
                    "2020-11-11T00:00:00",
                    "2020-11-12T00:00:00",
                    "2020-11-13T00:00:00",
                    "2020-11-14T00:00:00",
                    "2020-11-15T00:00:00",
                    "2020-11-16T00:00:00",
                    "2020-11-17T00:00:00",
                    "2020-11-18T00:00:00",
                    "2020-11-19T00:00:00",
                    "2020-11-20T00:00:00",
                    "2020-11-21T00:00:00",
                    "2020-11-22T00:00:00",
                    "2020-11-23T00:00:00",
                    "2020-11-24T00:00:00",
                    "2020-11-25T00:00:00",
                    "2020-11-26T00:00:00",
                    "2020-11-27T00:00:00",
                    "2020-11-28T00:00:00",
                    "2020-11-29T00:00:00",
                    "2020-11-30T00:00:00",
                    "2020-12-01T00:00:00",
                    "2020-12-02T00:00:00",
                    "2020-12-03T00:00:00",
                    "2020-12-04T00:00:00",
                    "2020-12-05T00:00:00",
                    "2020-12-06T00:00:00",
                    "2020-12-07T00:00:00",
                    "2020-12-08T00:00:00",
                    "2020-12-09T00:00:00",
                    "2020-12-10T00:00:00",
                    "2020-12-11T00:00:00",
                    "2020-12-12T00:00:00",
                    "2020-12-13T00:00:00",
                    "2020-12-14T00:00:00",
                    "2020-12-15T00:00:00",
                    "2020-12-16T00:00:00",
                    "2020-12-17T00:00:00",
                    "2020-12-18T00:00:00",
                    "2020-12-19T00:00:00",
                    "2020-12-20T00:00:00",
                    "2020-12-21T00:00:00",
                    "2020-12-22T00:00:00",
                    "2020-12-23T00:00:00",
                    "2020-12-24T00:00:00",
                    "2020-12-25T00:00:00",
                    "2020-12-26T00:00:00",
                    "2020-12-27T00:00:00",
                    "2020-12-28T00:00:00",
                    "2020-12-29T00:00:00",
                    "2020-12-30T00:00:00",
                    "2020-12-31T00:00:00",
                    "2021-01-01T00:00:00",
                    "2021-01-02T00:00:00",
                    "2021-01-03T00:00:00",
                    "2021-01-04T00:00:00",
                    "2021-01-05T00:00:00",
                    "2021-01-06T00:00:00",
                    "2021-01-07T00:00:00",
                    "2021-01-08T00:00:00",
                    "2021-01-09T00:00:00",
                    "2021-01-10T00:00:00",
                    "2021-01-11T00:00:00",
                    "2021-01-12T00:00:00",
                    "2021-01-13T00:00:00",
                    "2021-01-14T00:00:00",
                    "2021-01-15T00:00:00",
                    "2021-01-16T00:00:00",
                    "2021-01-17T00:00:00",
                    "2021-01-18T00:00:00",
                    "2021-01-19T00:00:00",
                    "2021-01-20T00:00:00",
                    "2021-01-21T00:00:00",
                    "2021-01-22T00:00:00",
                    "2021-01-23T00:00:00",
                    "2021-01-24T00:00:00",
                    "2021-01-25T00:00:00",
                    "2021-01-26T00:00:00",
                    "2021-01-27T00:00:00",
                    "2021-01-28T00:00:00",
                    "2021-01-29T00:00:00",
                    "2021-01-30T00:00:00",
                    "2021-01-31T00:00:00",
                    "2021-02-01T00:00:00",
                    "2021-02-02T00:00:00",
                    "2021-02-03T00:00:00",
                    "2021-02-04T00:00:00",
                    "2021-02-05T00:00:00",
                    "2021-02-06T00:00:00",
                    "2021-02-07T00:00:00",
                    "2021-02-08T00:00:00",
                    "2021-02-09T00:00:00",
                    "2021-02-10T00:00:00",
                    "2021-02-11T00:00:00",
                    "2021-02-12T00:00:00",
                    "2021-02-13T00:00:00",
                    "2021-02-14T00:00:00",
                    "2021-02-15T00:00:00",
                    "2021-02-16T00:00:00",
                    "2021-02-17T00:00:00",
                    "2021-02-18T00:00:00",
                    "2021-02-19T00:00:00",
                    "2021-02-20T00:00:00",
                    "2021-02-21T00:00:00",
                    "2021-02-22T00:00:00",
                    "2021-02-23T00:00:00",
                    "2021-02-24T00:00:00",
                    "2021-02-25T00:00:00",
                    "2021-02-26T00:00:00",
                    "2021-02-27T00:00:00",
                    "2021-02-28T00:00:00",
                    "2021-03-01T00:00:00",
                    "2021-03-02T00:00:00",
                    "2021-03-03T00:00:00",
                    "2021-03-04T00:00:00",
                    "2021-03-05T00:00:00",
                    "2021-03-06T00:00:00",
                    "2021-03-07T00:00:00",
                    "2021-03-08T00:00:00",
                    "2021-03-09T00:00:00",
                    "2021-03-10T00:00:00",
                    "2021-03-11T00:00:00",
                    "2021-03-12T00:00:00",
                    "2021-03-13T00:00:00",
                    "2021-03-14T00:00:00",
                    "2021-03-15T00:00:00",
                    "2021-03-16T00:00:00",
                    "2021-03-17T00:00:00",
                    "2021-03-18T00:00:00",
                    "2021-03-19T00:00:00",
                    "2021-03-20T00:00:00",
                    "2021-03-21T00:00:00",
                    "2021-03-22T00:00:00",
                    "2021-03-23T00:00:00",
                    "2021-03-24T00:00:00",
                    "2021-03-25T00:00:00",
                    "2021-03-26T00:00:00",
                    "2021-03-27T00:00:00",
                    "2021-03-28T00:00:00",
                    "2021-03-29T00:00:00",
                    "2021-03-30T00:00:00",
                    "2021-03-31T00:00:00",
                    "2021-04-01T00:00:00",
                    "2021-04-02T00:00:00",
                    "2021-04-03T00:00:00",
                    "2021-04-04T00:00:00",
                    "2021-04-05T00:00:00",
                    "2021-04-06T00:00:00",
                    "2021-04-07T00:00:00",
                    "2021-04-08T00:00:00",
                    "2021-04-09T00:00:00",
                    "2021-04-10T00:00:00",
                    "2021-04-11T00:00:00",
                    "2021-04-12T00:00:00",
                    "2021-04-13T00:00:00",
                    "2021-04-14T00:00:00",
                    "2021-04-15T00:00:00",
                    "2021-04-16T00:00:00",
                    "2021-04-17T00:00:00",
                    "2021-04-18T00:00:00",
                    "2021-04-19T00:00:00",
                    "2021-04-20T00:00:00",
                    "2021-04-21T00:00:00",
                    "2021-04-22T00:00:00",
                    "2021-04-23T00:00:00",
                    "2021-04-24T00:00:00",
                    "2021-04-25T00:00:00",
                    "2021-04-26T00:00:00",
                    "2021-04-27T00:00:00",
                    "2021-04-28T00:00:00",
                    "2021-04-29T00:00:00",
                    "2021-04-30T00:00:00",
                    "2021-05-01T00:00:00",
                    "2021-05-02T00:00:00",
                    "2021-05-03T00:00:00",
                    "2021-05-04T00:00:00",
                    "2021-05-05T00:00:00",
                    "2021-05-06T00:00:00",
                    "2021-05-07T00:00:00",
                    "2021-05-08T00:00:00",
                    "2021-05-09T00:00:00",
                    "2021-05-10T00:00:00",
                    "2021-05-11T00:00:00",
                    "2021-05-12T00:00:00",
                    "2021-05-13T00:00:00",
                    "2021-05-14T00:00:00",
                    "2021-05-15T00:00:00",
                    "2021-05-16T00:00:00",
                    "2021-05-17T00:00:00",
                    "2021-05-18T00:00:00",
                    "2021-05-19T00:00:00",
                    "2021-05-20T00:00:00",
                    "2021-05-21T00:00:00",
                    "2021-05-22T00:00:00",
                    "2021-05-23T00:00:00",
                    "2021-05-24T00:00:00",
                    "2021-05-25T00:00:00",
                    "2021-05-26T00:00:00",
                    "2021-05-27T00:00:00",
                    "2021-05-28T00:00:00",
                    "2021-05-29T00:00:00",
                    "2021-05-30T00:00:00",
                    "2021-05-31T00:00:00",
                    "2021-06-01T00:00:00",
                    "2021-06-02T00:00:00",
                    "2021-06-03T00:00:00",
                    "2021-06-04T00:00:00",
                    "2021-06-05T00:00:00",
                    "2021-06-06T00:00:00",
                    "2021-06-07T00:00:00",
                    "2021-06-08T00:00:00",
                    "2021-06-09T00:00:00",
                    "2021-06-10T00:00:00",
                    "2021-06-11T00:00:00",
                    "2021-06-12T00:00:00",
                    "2021-06-13T00:00:00",
                    "2021-06-14T00:00:00",
                    "2021-06-15T00:00:00",
                    "2021-06-16T00:00:00",
                    "2021-06-17T00:00:00",
                    "2021-06-18T00:00:00",
                    "2021-06-19T00:00:00",
                    "2021-06-20T00:00:00",
                    "2021-06-21T00:00:00",
                    "2021-06-22T00:00:00",
                    "2021-06-23T00:00:00",
                    "2021-06-24T00:00:00",
                    "2021-06-25T00:00:00",
                    "2021-06-26T00:00:00",
                    "2021-06-27T00:00:00",
                    "2021-06-28T00:00:00",
                    "2021-06-29T00:00:00",
                    "2021-06-30T00:00:00",
                    "2021-07-01T00:00:00",
                    "2021-07-02T00:00:00",
                    "2021-07-03T00:00:00",
                    "2021-07-04T00:00:00",
                    "2021-07-05T00:00:00",
                    "2021-07-06T00:00:00",
                    "2021-07-07T00:00:00",
                    "2021-07-08T00:00:00",
                    "2021-07-09T00:00:00",
                    "2021-07-10T00:00:00",
                    "2021-07-11T00:00:00",
                    "2021-07-12T00:00:00",
                    "2021-07-13T00:00:00",
                    "2021-07-14T00:00:00",
                    "2021-07-15T00:00:00",
                    "2021-07-16T00:00:00",
                    "2021-07-17T00:00:00",
                    "2021-07-18T00:00:00",
                    "2021-07-19T00:00:00",
                    "2021-07-20T00:00:00",
                    "2021-07-21T00:00:00",
                    "2021-07-22T00:00:00",
                    "2021-07-23T00:00:00",
                    "2021-07-24T00:00:00",
                    "2021-07-25T00:00:00",
                    "2021-07-26T00:00:00",
                    "2021-07-27T00:00:00",
                    "2021-07-28T00:00:00",
                    "2021-07-29T00:00:00",
                    "2021-07-30T00:00:00",
                    "2021-07-31T00:00:00",
                    "2021-08-01T00:00:00",
                    "2021-08-02T00:00:00",
                    "2021-08-03T00:00:00",
                    "2021-08-04T00:00:00",
                    "2021-08-05T00:00:00",
                    "2021-08-06T00:00:00",
                    "2021-08-07T00:00:00",
                    "2021-08-08T00:00:00",
                    "2021-08-09T00:00:00",
                    "2021-08-10T00:00:00",
                    "2021-08-11T00:00:00",
                    "2021-08-12T00:00:00",
                    "2021-08-13T00:00:00",
                    "2021-08-14T00:00:00",
                    "2021-08-15T00:00:00",
                    "2021-08-16T00:00:00",
                    "2021-08-17T00:00:00",
                    "2021-08-18T00:00:00",
                    "2021-08-19T00:00:00",
                    "2021-08-20T00:00:00",
                    "2021-08-21T00:00:00",
                    "2021-08-22T00:00:00",
                    "2021-08-23T00:00:00",
                    "2021-08-24T00:00:00",
                    "2021-08-25T00:00:00",
                    "2021-08-26T00:00:00",
                    "2021-08-27T00:00:00",
                    "2021-08-28T00:00:00",
                    "2021-08-29T00:00:00",
                    "2021-08-30T00:00:00",
                    "2021-08-31T00:00:00",
                    "2021-09-01T00:00:00",
                    "2021-09-02T00:00:00",
                    "2021-09-03T00:00:00",
                    "2021-09-04T00:00:00",
                    "2021-09-05T00:00:00",
                    "2021-09-06T00:00:00",
                    "2021-09-07T00:00:00",
                    "2021-09-08T00:00:00",
                    "2021-09-09T00:00:00",
                    "2021-09-10T00:00:00",
                    "2021-09-11T00:00:00",
                    "2021-09-12T00:00:00",
                    "2021-09-13T00:00:00",
                    "2021-09-14T00:00:00",
                    "2021-09-15T00:00:00",
                    "2021-09-16T00:00:00",
                    "2021-09-17T00:00:00",
                    "2021-09-18T00:00:00",
                    "2021-09-19T00:00:00",
                    "2021-09-20T00:00:00",
                    "2021-09-21T00:00:00",
                    "2021-09-22T00:00:00",
                    "2021-09-23T00:00:00",
                    "2021-09-24T00:00:00",
                    "2021-09-25T00:00:00",
                    "2021-09-26T00:00:00",
                    "2021-09-27T00:00:00",
                    "2021-09-28T00:00:00",
                    "2021-09-29T00:00:00",
                    "2021-09-30T00:00:00",
                    "2021-10-01T00:00:00",
                    "2021-10-02T00:00:00",
                    "2021-10-03T00:00:00",
                    "2021-10-04T00:00:00",
                    "2021-10-05T00:00:00",
                    "2021-10-06T00:00:00",
                    "2021-10-07T00:00:00",
                    "2021-10-08T00:00:00",
                    "2021-10-09T00:00:00",
                    "2021-10-10T00:00:00",
                    "2021-10-11T00:00:00",
                    "2021-10-12T00:00:00",
                    "2021-10-13T00:00:00",
                    "2021-10-14T00:00:00",
                    "2021-10-15T00:00:00",
                    "2021-10-16T00:00:00",
                    "2021-10-17T00:00:00",
                    "2021-10-18T00:00:00",
                    "2021-10-19T00:00:00",
                    "2021-10-20T00:00:00",
                    "2021-10-21T00:00:00",
                    "2021-10-22T00:00:00",
                    "2021-10-23T00:00:00",
                    "2021-10-24T00:00:00",
                    "2021-10-25T00:00:00",
                    "2021-10-26T00:00:00",
                    "2021-10-27T00:00:00",
                    "2021-10-28T00:00:00",
                    "2021-10-29T00:00:00",
                    "2021-10-30T00:00:00",
                    "2021-10-31T00:00:00",
                    "2021-11-01T00:00:00",
                    "2021-11-02T00:00:00",
                    "2021-11-03T00:00:00",
                    "2021-11-04T00:00:00",
                    "2021-11-05T00:00:00",
                    "2021-11-06T00:00:00",
                    "2021-11-07T00:00:00",
                    "2021-11-08T00:00:00",
                    "2021-11-09T00:00:00",
                    "2021-11-10T00:00:00",
                    "2021-11-11T00:00:00",
                    "2021-11-12T00:00:00",
                    "2021-11-13T00:00:00",
                    "2021-11-14T00:00:00",
                    "2021-11-15T00:00:00",
                    "2021-11-16T00:00:00",
                    "2021-11-17T00:00:00",
                    "2021-11-18T00:00:00",
                    "2021-11-19T00:00:00",
                    "2021-11-20T00:00:00",
                    "2021-11-21T00:00:00",
                    "2021-11-22T00:00:00",
                    "2021-11-23T00:00:00",
                    "2021-11-24T00:00:00",
                    "2021-11-25T00:00:00",
                    "2021-11-26T00:00:00",
                    "2021-11-27T00:00:00",
                    "2021-11-28T00:00:00",
                    "2021-11-29T00:00:00",
                    "2021-11-30T00:00:00",
                    "2021-12-01T00:00:00",
                    "2021-12-02T00:00:00",
                    "2021-12-03T00:00:00",
                    "2021-12-04T00:00:00",
                    "2021-12-05T00:00:00",
                    "2021-12-06T00:00:00",
                    "2021-12-07T00:00:00",
                    "2021-12-08T00:00:00",
                    "2021-12-09T00:00:00",
                    "2021-12-10T00:00:00",
                    "2021-12-11T00:00:00",
                    "2021-12-12T00:00:00",
                    "2021-12-13T00:00:00",
                    "2021-12-14T00:00:00",
                    "2021-12-15T00:00:00",
                    "2021-12-16T00:00:00",
                    "2021-12-17T00:00:00",
                    "2021-12-18T00:00:00",
                    "2021-12-19T00:00:00",
                    "2021-12-20T00:00:00",
                    "2021-12-21T00:00:00",
                    "2021-12-22T00:00:00",
                    "2021-12-23T00:00:00",
                    "2021-12-24T00:00:00",
                    "2021-12-25T00:00:00",
                    "2021-12-26T00:00:00",
                    "2021-12-27T00:00:00",
                    "2021-12-28T00:00:00",
                    "2021-12-29T00:00:00",
                    "2021-12-30T00:00:00",
                    "2021-12-31T00:00:00",
                    "2022-01-01T00:00:00",
                    "2022-01-02T00:00:00",
                    "2022-01-03T00:00:00",
                    "2022-01-04T00:00:00",
                    "2022-01-05T00:00:00",
                    "2022-01-06T00:00:00",
                    "2022-01-07T00:00:00",
                    "2022-01-08T00:00:00",
                    "2022-01-09T00:00:00",
                    "2022-01-10T00:00:00",
                    "2022-01-11T00:00:00",
                    "2022-01-12T00:00:00",
                    "2022-01-13T00:00:00",
                    "2022-01-14T00:00:00",
                    "2022-01-15T00:00:00",
                    "2022-01-16T00:00:00",
                    "2022-01-17T00:00:00",
                    "2022-01-18T00:00:00",
                    "2022-01-19T00:00:00",
                    "2022-01-20T00:00:00",
                    "2022-01-21T00:00:00",
                    "2022-01-22T00:00:00",
                    "2022-01-23T00:00:00",
                    "2022-01-24T00:00:00",
                    "2022-01-25T00:00:00",
                    "2022-01-26T00:00:00",
                    "2022-01-27T00:00:00",
                    "2022-01-28T00:00:00",
                    "2022-01-29T00:00:00",
                    "2022-01-30T00:00:00",
                    "2022-01-31T00:00:00",
                    "2022-02-01T00:00:00",
                    "2022-02-02T00:00:00",
                    "2022-02-03T00:00:00",
                    "2022-02-04T00:00:00",
                    "2022-02-05T00:00:00",
                    "2022-02-06T00:00:00",
                    "2022-02-07T00:00:00",
                    "2022-02-08T00:00:00",
                    "2022-02-09T00:00:00",
                    "2022-02-10T00:00:00",
                    "2022-02-11T00:00:00",
                    "2022-02-12T00:00:00",
                    "2022-02-13T00:00:00",
                    "2022-02-14T00:00:00",
                    "2022-02-15T00:00:00",
                    "2022-02-16T00:00:00",
                    "2022-02-17T00:00:00",
                    "2022-02-18T00:00:00",
                    "2022-02-19T00:00:00",
                    "2022-02-20T00:00:00",
                    "2022-02-21T00:00:00",
                    "2022-02-22T00:00:00",
                    "2022-02-23T00:00:00",
                    "2022-02-24T00:00:00",
                    "2022-02-25T00:00:00",
                    "2022-02-26T00:00:00",
                    "2022-02-27T00:00:00",
                    "2022-02-28T00:00:00",
                    "2022-03-01T00:00:00",
                    "2022-03-02T00:00:00",
                    "2022-03-03T00:00:00",
                    "2022-03-04T00:00:00",
                    "2022-03-05T00:00:00",
                    "2022-03-06T00:00:00",
                    "2022-03-07T00:00:00",
                    "2022-03-08T00:00:00",
                    "2022-03-09T00:00:00",
                    "2022-03-10T00:00:00",
                    "2022-03-11T00:00:00",
                    "2022-03-12T00:00:00",
                    "2022-03-13T00:00:00",
                    "2022-03-14T00:00:00",
                    "2022-03-15T00:00:00",
                    "2022-03-16T00:00:00",
                    "2022-03-17T00:00:00",
                    "2022-03-18T00:00:00",
                    "2022-03-19T00:00:00",
                    "2022-03-20T00:00:00",
                    "2022-03-21T00:00:00",
                    "2022-03-22T00:00:00",
                    "2022-03-23T00:00:00",
                    "2022-03-24T00:00:00",
                    "2022-03-25T00:00:00",
                    "2022-03-26T00:00:00",
                    "2022-03-27T00:00:00",
                    "2022-03-28T00:00:00",
                    "2022-03-29T00:00:00",
                    "2022-03-30T00:00:00",
                    "2022-03-31T00:00:00",
                    "2022-04-01T00:00:00",
                    "2022-04-02T00:00:00",
                    "2022-04-03T00:00:00",
                    "2022-04-04T00:00:00",
                    "2022-04-05T00:00:00",
                    "2022-04-06T00:00:00",
                    "2022-04-07T00:00:00",
                    "2022-04-08T00:00:00",
                    "2022-04-09T00:00:00",
                    "2022-04-10T00:00:00",
                    "2022-04-11T00:00:00",
                    "2022-04-12T00:00:00",
                    "2022-04-13T00:00:00",
                    "2022-04-14T00:00:00",
                    "2022-04-15T00:00:00",
                    "2022-04-16T00:00:00",
                    "2022-04-17T00:00:00",
                    "2022-04-18T00:00:00",
                    "2022-04-19T00:00:00",
                    "2022-04-20T00:00:00",
                    "2022-04-21T00:00:00",
                    "2022-04-22T00:00:00",
                    "2022-04-23T00:00:00",
                    "2022-04-24T00:00:00",
                    "2022-04-25T00:00:00",
                    "2022-04-26T00:00:00",
                    "2022-04-27T00:00:00",
                    "2022-04-28T00:00:00",
                    "2022-04-29T00:00:00",
                    "2022-04-30T00:00:00",
                    "2022-05-01T00:00:00",
                    "2022-05-02T00:00:00",
                    "2022-05-03T00:00:00",
                    "2022-05-04T00:00:00",
                    "2022-05-05T00:00:00",
                    "2022-05-06T00:00:00",
                    "2022-05-07T00:00:00",
                    "2022-05-08T00:00:00",
                    "2022-05-09T00:00:00",
                    "2022-05-10T00:00:00",
                    "2022-05-11T00:00:00",
                    "2022-05-12T00:00:00",
                    "2022-05-13T00:00:00",
                    "2022-05-14T00:00:00",
                    "2022-05-15T00:00:00",
                    "2022-05-16T00:00:00",
                    "2022-05-17T00:00:00",
                    "2022-05-18T00:00:00",
                    "2022-05-19T00:00:00",
                    "2022-05-20T00:00:00",
                    "2022-05-21T00:00:00",
                    "2022-05-22T00:00:00",
                    "2022-05-23T00:00:00",
                    "2022-05-24T00:00:00",
                    "2022-05-25T00:00:00",
                    "2022-05-26T00:00:00",
                    "2022-05-27T00:00:00",
                    "2022-05-28T00:00:00",
                    "2022-05-29T00:00:00",
                    "2022-05-30T00:00:00",
                    "2022-05-31T00:00:00",
                    "2022-06-01T00:00:00",
                    "2022-06-02T00:00:00",
                    "2022-06-03T00:00:00",
                    "2022-06-04T00:00:00",
                    "2022-06-05T00:00:00",
                    "2022-06-06T00:00:00",
                    "2022-06-07T00:00:00",
                    "2022-06-08T00:00:00",
                    "2022-06-09T00:00:00",
                    "2022-06-10T00:00:00",
                    "2022-06-11T00:00:00",
                    "2022-06-12T00:00:00",
                    "2022-06-13T00:00:00",
                    "2022-06-14T00:00:00",
                    "2022-06-15T00:00:00",
                    "2022-06-16T00:00:00",
                    "2022-06-17T00:00:00",
                    "2022-06-18T00:00:00",
                    "2022-06-19T00:00:00",
                    "2022-06-20T00:00:00",
                    "2022-06-21T00:00:00",
                    "2022-06-22T00:00:00",
                    "2022-06-23T00:00:00",
                    "2022-06-24T00:00:00",
                    "2022-06-25T00:00:00",
                    "2022-06-26T00:00:00",
                    "2022-06-27T00:00:00",
                    "2022-06-28T00:00:00",
                    "2022-06-29T00:00:00",
                    "2022-06-30T00:00:00",
                    "2022-07-01T00:00:00",
                    "2022-07-02T00:00:00",
                    "2022-07-03T00:00:00",
                    "2022-07-04T00:00:00",
                    "2022-07-05T00:00:00",
                    "2022-07-06T00:00:00",
                    "2022-07-07T00:00:00",
                    "2022-07-08T00:00:00",
                    "2022-07-09T00:00:00",
                    "2022-07-10T00:00:00",
                    "2022-07-11T00:00:00",
                    "2022-07-12T00:00:00",
                    "2022-07-13T00:00:00",
                    "2022-07-14T00:00:00",
                    "2022-07-15T00:00:00",
                    "2022-07-16T00:00:00",
                    "2022-07-17T00:00:00",
                    "2022-07-18T00:00:00",
                    "2022-07-19T00:00:00",
                    "2022-07-20T00:00:00",
                    "2022-07-21T00:00:00",
                    "2022-07-22T00:00:00",
                    "2022-07-23T00:00:00",
                    "2022-07-24T00:00:00",
                    "2022-07-25T00:00:00",
                    "2022-07-26T00:00:00",
                    "2022-07-27T00:00:00",
                    "2022-07-28T00:00:00",
                    "2022-07-29T00:00:00",
                    "2022-07-30T00:00:00",
                    "2022-07-31T00:00:00",
                    "2022-08-01T00:00:00",
                    "2022-08-02T00:00:00",
                    "2022-08-03T00:00:00",
                    "2022-08-04T00:00:00",
                    "2022-08-05T00:00:00",
                    "2022-08-06T00:00:00",
                    "2022-08-07T00:00:00",
                    "2022-08-08T00:00:00",
                    "2022-08-09T00:00:00",
                    "2022-08-10T00:00:00",
                    "2022-08-11T00:00:00",
                    "2022-08-12T00:00:00",
                    "2022-08-13T00:00:00",
                    "2022-08-14T00:00:00",
                    "2022-08-15T00:00:00",
                    "2022-08-16T00:00:00",
                    "2022-08-17T00:00:00",
                    "2022-08-18T00:00:00",
                    "2022-08-19T00:00:00",
                    "2022-08-20T00:00:00",
                    "2022-08-21T00:00:00",
                    "2022-08-22T00:00:00",
                    "2022-08-23T00:00:00",
                    "2022-08-24T00:00:00",
                    "2022-08-25T00:00:00",
                    "2022-08-26T00:00:00",
                    "2022-08-27T00:00:00",
                    "2022-08-28T00:00:00",
                    "2022-08-29T00:00:00",
                    "2022-08-30T00:00:00",
                    "2022-08-31T00:00:00",
                    "2022-09-01T00:00:00",
                    "2022-09-02T00:00:00",
                    "2022-09-03T00:00:00",
                    "2022-09-04T00:00:00",
                    "2022-09-05T00:00:00",
                    "2022-09-06T00:00:00",
                    "2022-09-07T00:00:00",
                    "2022-09-08T00:00:00",
                    "2022-09-09T00:00:00",
                    "2022-09-10T00:00:00",
                    "2022-09-11T00:00:00",
                    "2022-09-12T00:00:00",
                    "2022-09-13T00:00:00",
                    "2022-09-14T00:00:00",
                    "2022-09-15T00:00:00",
                    "2022-09-16T00:00:00",
                    "2022-09-17T00:00:00",
                    "2022-09-18T00:00:00",
                    "2022-09-19T00:00:00",
                    "2022-09-20T00:00:00",
                    "2022-09-21T00:00:00",
                    "2022-09-22T00:00:00",
                    "2022-09-23T00:00:00",
                    "2022-09-24T00:00:00",
                    "2022-09-25T00:00:00",
                    "2022-09-26T00:00:00",
                    "2022-09-27T00:00:00",
                    "2022-09-28T00:00:00",
                    "2022-09-29T00:00:00",
                    "2022-09-30T00:00:00",
                    "2022-10-01T00:00:00",
                    "2022-10-02T00:00:00",
                    "2022-10-03T00:00:00",
                    "2022-10-04T00:00:00",
                    "2022-10-05T00:00:00",
                    "2022-10-06T00:00:00",
                    "2022-10-07T00:00:00",
                    "2022-10-08T00:00:00",
                    "2022-10-09T00:00:00",
                    "2022-10-10T00:00:00",
                    "2022-10-11T00:00:00",
                    "2022-10-12T00:00:00",
                    "2022-10-13T00:00:00",
                    "2022-10-14T00:00:00",
                    "2022-10-15T00:00:00",
                    "2022-10-16T00:00:00",
                    "2022-10-17T00:00:00",
                    "2022-10-18T00:00:00",
                    "2022-10-19T00:00:00",
                    "2022-10-20T00:00:00",
                    "2022-10-21T00:00:00",
                    "2022-10-22T00:00:00",
                    "2022-10-23T00:00:00",
                    "2022-10-24T00:00:00",
                    "2022-10-25T00:00:00",
                    "2022-10-26T00:00:00",
                    "2022-10-27T00:00:00",
                    "2022-10-28T00:00:00",
                    "2022-10-29T00:00:00",
                    "2022-10-30T00:00:00",
                    "2022-10-31T00:00:00",
                    "2022-11-01T00:00:00",
                    "2022-11-02T00:00:00",
                    "2022-11-03T00:00:00",
                    "2022-11-04T00:00:00",
                    "2022-11-05T00:00:00",
                    "2022-11-06T00:00:00",
                    "2022-11-07T00:00:00",
                    "2022-11-08T00:00:00",
                    "2022-11-09T00:00:00",
                    "2022-11-10T00:00:00",
                    "2022-11-11T00:00:00",
                    "2022-11-12T00:00:00",
                    "2022-11-13T00:00:00",
                    "2022-11-14T00:00:00",
                    "2022-11-15T00:00:00",
                    "2022-11-16T00:00:00",
                    "2022-11-17T00:00:00",
                    "2022-11-18T00:00:00",
                    "2022-11-19T00:00:00",
                    "2022-11-20T00:00:00",
                    "2022-11-21T00:00:00",
                    "2022-11-22T00:00:00",
                    "2022-11-23T00:00:00",
                    "2022-11-24T00:00:00",
                    "2022-11-25T00:00:00",
                    "2022-11-26T00:00:00",
                    "2022-11-27T00:00:00",
                    "2022-11-28T00:00:00",
                    "2022-11-29T00:00:00",
                    "2022-11-30T00:00:00",
                    "2022-12-01T00:00:00",
                    "2022-12-02T00:00:00",
                    "2022-12-03T00:00:00",
                    "2022-12-04T00:00:00",
                    "2022-12-05T00:00:00",
                    "2022-12-06T00:00:00",
                    "2022-12-07T00:00:00",
                    "2022-12-08T00:00:00",
                    "2022-12-09T00:00:00",
                    "2022-12-10T00:00:00",
                    "2022-12-11T00:00:00",
                    "2022-12-12T00:00:00",
                    "2022-12-13T00:00:00",
                    "2022-12-14T00:00:00",
                    "2022-12-15T00:00:00",
                    "2022-12-16T00:00:00",
                    "2022-12-17T00:00:00",
                    "2022-12-18T00:00:00",
                    "2022-12-19T00:00:00",
                    "2022-12-20T00:00:00",
                    "2022-12-21T00:00:00",
                    "2022-12-22T00:00:00",
                    "2022-12-23T00:00:00",
                    "2022-12-24T00:00:00",
                    "2022-12-25T00:00:00",
                    "2022-12-26T00:00:00",
                    "2022-12-27T00:00:00",
                    "2022-12-28T00:00:00",
                    "2022-12-29T00:00:00",
                    "2022-12-30T00:00:00",
                    "2022-12-31T00:00:00",
                    "2023-01-01T00:00:00",
                    "2023-01-02T00:00:00",
                    "2023-01-03T00:00:00",
                    "2023-01-04T00:00:00",
                    "2023-01-05T00:00:00",
                    "2023-01-06T00:00:00",
                    "2023-01-07T00:00:00",
                    "2023-01-08T00:00:00",
                    "2023-01-09T00:00:00",
                    "2023-01-10T00:00:00",
                    "2023-01-11T00:00:00",
                    "2023-01-12T00:00:00",
                    "2023-01-13T00:00:00",
                    "2023-01-14T00:00:00",
                    "2023-01-15T00:00:00",
                    "2023-01-16T00:00:00",
                    "2023-01-17T00:00:00",
                    "2023-01-18T00:00:00",
                    "2023-01-19T00:00:00",
                    "2023-01-20T00:00:00",
                    "2023-01-21T00:00:00",
                    "2023-01-22T00:00:00",
                    "2023-01-23T00:00:00",
                    "2023-01-24T00:00:00",
                    "2023-01-25T00:00:00",
                    "2023-01-26T00:00:00",
                    "2023-01-27T00:00:00",
                    "2023-01-28T00:00:00",
                    "2023-01-29T00:00:00",
                    "2023-01-30T00:00:00",
                    "2023-01-31T00:00:00",
                    "2023-02-01T00:00:00",
                    "2023-02-02T00:00:00",
                    "2023-02-03T00:00:00",
                    "2023-02-04T00:00:00",
                    "2023-02-05T00:00:00",
                    "2023-02-06T00:00:00",
                    "2023-02-07T00:00:00",
                    "2023-02-08T00:00:00",
                    "2023-02-09T00:00:00",
                    "2023-02-10T00:00:00",
                    "2023-02-11T00:00:00",
                    "2023-02-12T00:00:00",
                    "2023-02-13T00:00:00",
                    "2023-02-14T00:00:00",
                    "2023-02-15T00:00:00",
                    "2023-02-16T00:00:00",
                    "2023-02-17T00:00:00",
                    "2023-02-18T00:00:00",
                    "2023-02-19T00:00:00",
                    "2023-02-20T00:00:00",
                    "2023-02-21T00:00:00",
                    "2023-02-22T00:00:00",
                    "2023-02-23T00:00:00",
                    "2023-02-24T00:00:00",
                    "2023-02-25T00:00:00",
                    "2023-02-26T00:00:00",
                    "2023-02-27T00:00:00",
                    "2023-02-28T00:00:00",
                    "2023-03-01T00:00:00",
                    "2023-03-02T00:00:00",
                    "2023-03-03T00:00:00",
                    "2023-03-04T00:00:00",
                    "2023-03-05T00:00:00",
                    "2023-03-06T00:00:00",
                    "2023-03-07T00:00:00",
                    "2023-03-08T00:00:00",
                    "2023-03-09T00:00:00",
                    "2023-03-10T00:00:00",
                    "2023-03-11T00:00:00",
                    "2023-03-12T00:00:00",
                    "2023-03-13T00:00:00",
                    "2023-03-14T00:00:00",
                    "2023-03-15T00:00:00",
                    "2023-03-16T00:00:00",
                    "2023-03-17T00:00:00",
                    "2023-03-18T00:00:00"
                  ],
                  "y": {
                    "bdata": "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",
                    "dtype": "f8"
                  }
                }
              ],
              "layout": {
                "legend": {
                  "tracegroupgap": 0
                },
                "template": {
                  "data": {
                    "bar": [
                      {
                        "error_x": {
                          "color": "#2a3f5f"
                        },
                        "error_y": {
                          "color": "#2a3f5f"
                        },
                        "marker": {
                          "line": {
                            "color": "#E5ECF6",
                            "width": 0.5
                          },
                          "pattern": {
                            "fillmode": "overlay",
                            "size": 10,
                            "solidity": 0.2
                          }
                        },
                        "type": "bar"
                      }
                    ],
                    "barpolar": [
                      {
                        "marker": {
                          "line": {
                            "color": "#E5ECF6",
                            "width": 0.5
                          },
                          "pattern": {
                            "fillmode": "overlay",
                            "size": 10,
                            "solidity": 0.2
                          }
                        },
                        "type": "barpolar"
                      }
                    ],
                    "carpet": [
                      {
                        "aaxis": {
                          "endlinecolor": "#2a3f5f",
                          "gridcolor": "white",
                          "linecolor": "white",
                          "minorgridcolor": "white",
                          "startlinecolor": "#2a3f5f"
                        },
                        "baxis": {
                          "endlinecolor": "#2a3f5f",
                          "gridcolor": "white",
                          "linecolor": "white",
                          "minorgridcolor": "white",
                          "startlinecolor": "#2a3f5f"
                        },
                        "type": "carpet"
                      }
                    ],
                    "choropleth": [
                      {
                        "colorbar": {
                          "outlinewidth": 0,
                          "ticks": ""
                        },
                        "type": "choropleth"
                      }
                    ],
                    "contour": [
                      {
                        "colorbar": {
                          "outlinewidth": 0,
                          "ticks": ""
                        },
                        "colorscale": [
                          [
                            0,
                            "#0d0887"
                          ],
                          [
                            0.1111111111111111,
                            "#46039f"
                          ],
                          [
                            0.2222222222222222,
                            "#7201a8"
                          ],
                          [
                            0.3333333333333333,
                            "#9c179e"
                          ],
                          [
                            0.4444444444444444,
                            "#bd3786"
                          ],
                          [
                            0.5555555555555556,
                            "#d8576b"
                          ],
                          [
                            0.6666666666666666,
                            "#ed7953"
                          ],
                          [
                            0.7777777777777778,
                            "#fb9f3a"
                          ],
                          [
                            0.8888888888888888,
                            "#fdca26"
                          ],
                          [
                            1,
                            "#f0f921"
                          ]
                        ],
                        "type": "contour"
                      }
                    ],
                    "contourcarpet": [
                      {
                        "colorbar": {
                          "outlinewidth": 0,
                          "ticks": ""
                        },
                        "type": "contourcarpet"
                      }
                    ],
                    "heatmap": [
                      {
                        "colorbar": {
                          "outlinewidth": 0,
                          "ticks": ""
                        },
                        "colorscale": [
                          [
                            0,
                            "#0d0887"
                          ],
                          [
                            0.1111111111111111,
                            "#46039f"
                          ],
                          [
                            0.2222222222222222,
                            "#7201a8"
                          ],
                          [
                            0.3333333333333333,
                            "#9c179e"
                          ],
                          [
                            0.4444444444444444,
                            "#bd3786"
                          ],
                          [
                            0.5555555555555556,
                            "#d8576b"
                          ],
                          [
                            0.6666666666666666,
                            "#ed7953"
                          ],
                          [
                            0.7777777777777778,
                            "#fb9f3a"
                          ],
                          [
                            0.8888888888888888,
                            "#fdca26"
                          ],
                          [
                            1,
                            "#f0f921"
                          ]
                        ],
                        "type": "heatmap"
                      }
                    ],
                    "histogram": [
                      {
                        "marker": {
                          "pattern": {
                            "fillmode": "overlay",
                            "size": 10,
                            "solidity": 0.2
                          }
                        },
                        "type": "histogram"
                      }
                    ],
                    "histogram2d": [
                      {
                        "colorbar": {
                          "outlinewidth": 0,
                          "ticks": ""
                        },
                        "colorscale": [
                          [
                            0,
                            "#0d0887"
                          ],
                          [
                            0.1111111111111111,
                            "#46039f"
                          ],
                          [
                            0.2222222222222222,
                            "#7201a8"
                          ],
                          [
                            0.3333333333333333,
                            "#9c179e"
                          ],
                          [
                            0.4444444444444444,
                            "#bd3786"
                          ],
                          [
                            0.5555555555555556,
                            "#d8576b"
                          ],
                          [
                            0.6666666666666666,
                            "#ed7953"
                          ],
                          [
                            0.7777777777777778,
                            "#fb9f3a"
                          ],
                          [
                            0.8888888888888888,
                            "#fdca26"
                          ],
                          [
                            1,
                            "#f0f921"
                          ]
                        ],
                        "type": "histogram2d"
                      }
                    ],
                    "histogram2dcontour": [
                      {
                        "colorbar": {
                          "outlinewidth": 0,
                          "ticks": ""
                        },
                        "colorscale": [
                          [
                            0,
                            "#0d0887"
                          ],
                          [
                            0.1111111111111111,
                            "#46039f"
                          ],
                          [
                            0.2222222222222222,
                            "#7201a8"
                          ],
                          [
                            0.3333333333333333,
                            "#9c179e"
                          ],
                          [
                            0.4444444444444444,
                            "#bd3786"
                          ],
                          [
                            0.5555555555555556,
                            "#d8576b"
                          ],
                          [
                            0.6666666666666666,
                            "#ed7953"
                          ],
                          [
                            0.7777777777777778,
                            "#fb9f3a"
                          ],
                          [
                            0.8888888888888888,
                            "#fdca26"
                          ],
                          [
                            1,
                            "#f0f921"
                          ]
                        ],
                        "type": "histogram2dcontour"
                      }
                    ],
                    "mesh3d": [
                      {
                        "colorbar": {
                          "outlinewidth": 0,
                          "ticks": ""
                        },
                        "type": "mesh3d"
                      }
                    ],
                    "parcoords": [
                      {
                        "line": {
                          "colorbar": {
                            "outlinewidth": 0,
                            "ticks": ""
                          }
                        },
                        "type": "parcoords"
                      }
                    ],
                    "pie": [
                      {
                        "automargin": true,
                        "type": "pie"
                      }
                    ],
                    "scatter": [
                      {
                        "fillpattern": {
                          "fillmode": "overlay",
                          "size": 10,
                          "solidity": 0.2
                        },
                        "type": "scatter"
                      }
                    ],
                    "scatter3d": [
                      {
                        "line": {
                          "colorbar": {
                            "outlinewidth": 0,
                            "ticks": ""
                          }
                        },
                        "marker": {
                          "colorbar": {
                            "outlinewidth": 0,
                            "ticks": ""
                          }
                        },
                        "type": "scatter3d"
                      }
                    ],
                    "scattercarpet": [
                      {
                        "marker": {
                          "colorbar": {
                            "outlinewidth": 0,
                            "ticks": ""
                          }
                        },
                        "type": "scattercarpet"
                      }
                    ],
                    "scattergeo": [
                      {
                        "marker": {
                          "colorbar": {
                            "outlinewidth": 0,
                            "ticks": ""
                          }
                        },
                        "type": "scattergeo"
                      }
                    ],
                    "scattergl": [
                      {
                        "marker": {
                          "colorbar": {
                            "outlinewidth": 0,
                            "ticks": ""
                          }
                        },
                        "type": "scattergl"
                      }
                    ],
                    "scattermap": [
                      {
                        "marker": {
                          "colorbar": {
                            "outlinewidth": 0,
                            "ticks": ""
                          }
                        },
                        "type": "scattermap"
                      }
                    ],
                    "scattermapbox": [
                      {
                        "marker": {
                          "colorbar": {
                            "outlinewidth": 0,
                            "ticks": ""
                          }
                        },
                        "type": "scattermapbox"
                      }
                    ],
                    "scatterpolar": [
                      {
                        "marker": {
                          "colorbar": {
                            "outlinewidth": 0,
                            "ticks": ""
                          }
                        },
                        "type": "scatterpolar"
                      }
                    ],
                    "scatterpolargl": [
                      {
                        "marker": {
                          "colorbar": {
                            "outlinewidth": 0,
                            "ticks": ""
                          }
                        },
                        "type": "scatterpolargl"
                      }
                    ],
                    "scatterternary": [
                      {
                        "marker": {
                          "colorbar": {
                            "outlinewidth": 0,
                            "ticks": ""
                          }
                        },
                        "type": "scatterternary"
                      }
                    ],
                    "surface": [
                      {
                        "colorbar": {
                          "outlinewidth": 0,
                          "ticks": ""
                        },
                        "colorscale": [
                          [
                            0,
                            "#0d0887"
                          ],
                          [
                            0.1111111111111111,
                            "#46039f"
                          ],
                          [
                            0.2222222222222222,
                            "#7201a8"
                          ],
                          [
                            0.3333333333333333,
                            "#9c179e"
                          ],
                          [
                            0.4444444444444444,
                            "#bd3786"
                          ],
                          [
                            0.5555555555555556,
                            "#d8576b"
                          ],
                          [
                            0.6666666666666666,
                            "#ed7953"
                          ],
                          [
                            0.7777777777777778,
                            "#fb9f3a"
                          ],
                          [
                            0.8888888888888888,
                            "#fdca26"
                          ],
                          [
                            1,
                            "#f0f921"
                          ]
                        ],
                        "type": "surface"
                      }
                    ],
                    "table": [
                      {
                        "cells": {
                          "fill": {
                            "color": "#EBF0F8"
                          },
                          "line": {
                            "color": "white"
                          }
                        },
                        "header": {
                          "fill": {
                            "color": "#C8D4E3"
                          },
                          "line": {
                            "color": "white"
                          }
                        },
                        "type": "table"
                      }
                    ]
                  },
                  "layout": {
                    "annotationdefaults": {
                      "arrowcolor": "#2a3f5f",
                      "arrowhead": 0,
                      "arrowwidth": 1
                    },
                    "autotypenumbers": "strict",
                    "coloraxis": {
                      "colorbar": {
                        "outlinewidth": 0,
                        "ticks": ""
                      }
                    },
                    "colorscale": {
                      "diverging": [
                        [
                          0,
                          "#8e0152"
                        ],
                        [
                          0.1,
                          "#c51b7d"
                        ],
                        [
                          0.2,
                          "#de77ae"
                        ],
                        [
                          0.3,
                          "#f1b6da"
                        ],
                        [
                          0.4,
                          "#fde0ef"
                        ],
                        [
                          0.5,
                          "#f7f7f7"
                        ],
                        [
                          0.6,
                          "#e6f5d0"
                        ],
                        [
                          0.7,
                          "#b8e186"
                        ],
                        [
                          0.8,
                          "#7fbc41"
                        ],
                        [
                          0.9,
                          "#4d9221"
                        ],
                        [
                          1,
                          "#276419"
                        ]
                      ],
                      "sequential": [
                        [
                          0,
                          "#0d0887"
                        ],
                        [
                          0.1111111111111111,
                          "#46039f"
                        ],
                        [
                          0.2222222222222222,
                          "#7201a8"
                        ],
                        [
                          0.3333333333333333,
                          "#9c179e"
                        ],
                        [
                          0.4444444444444444,
                          "#bd3786"
                        ],
                        [
                          0.5555555555555556,
                          "#d8576b"
                        ],
                        [
                          0.6666666666666666,
                          "#ed7953"
                        ],
                        [
                          0.7777777777777778,
                          "#fb9f3a"
                        ],
                        [
                          0.8888888888888888,
                          "#fdca26"
                        ],
                        [
                          1,
                          "#f0f921"
                        ]
                      ],
                      "sequentialminus": [
                        [
                          0,
                          "#0d0887"
                        ],
                        [
                          0.1111111111111111,
                          "#46039f"
                        ],
                        [
                          0.2222222222222222,
                          "#7201a8"
                        ],
                        [
                          0.3333333333333333,
                          "#9c179e"
                        ],
                        [
                          0.4444444444444444,
                          "#bd3786"
                        ],
                        [
                          0.5555555555555556,
                          "#d8576b"
                        ],
                        [
                          0.6666666666666666,
                          "#ed7953"
                        ],
                        [
                          0.7777777777777778,
                          "#fb9f3a"
                        ],
                        [
                          0.8888888888888888,
                          "#fdca26"
                        ],
                        [
                          1,
                          "#f0f921"
                        ]
                      ]
                    },
                    "colorway": [
                      "#636efa",
                      "#EF553B",
                      "#00cc96",
                      "#ab63fa",
                      "#FFA15A",
                      "#19d3f3",
                      "#FF6692",
                      "#B6E880",
                      "#FF97FF",
                      "#FECB52"
                    ],
                    "font": {
                      "color": "#2a3f5f"
                    },
                    "geo": {
                      "bgcolor": "white",
                      "lakecolor": "white",
                      "landcolor": "#E5ECF6",
                      "showlakes": true,
                      "showland": true,
                      "subunitcolor": "white"
                    },
                    "hoverlabel": {
                      "align": "left"
                    },
                    "hovermode": "closest",
                    "mapbox": {
                      "style": "light"
                    },
                    "paper_bgcolor": "white",
                    "plot_bgcolor": "#E5ECF6",
                    "polar": {
                      "angularaxis": {
                        "gridcolor": "white",
                        "linecolor": "white",
                        "ticks": ""
                      },
                      "bgcolor": "#E5ECF6",
                      "radialaxis": {
                        "gridcolor": "white",
                        "linecolor": "white",
                        "ticks": ""
                      }
                    },
                    "scene": {
                      "xaxis": {
                        "backgroundcolor": "#E5ECF6",
                        "gridcolor": "white",
                        "gridwidth": 2,
                        "linecolor": "white",
                        "showbackground": true,
                        "ticks": "",
                        "zerolinecolor": "white"
                      },
                      "yaxis": {
                        "backgroundcolor": "#E5ECF6",
                        "gridcolor": "white",
                        "gridwidth": 2,
                        "linecolor": "white",
                        "showbackground": true,
                        "ticks": "",
                        "zerolinecolor": "white"
                      },
                      "zaxis": {
                        "backgroundcolor": "#E5ECF6",
                        "gridcolor": "white",
                        "gridwidth": 2,
                        "linecolor": "white",
                        "showbackground": true,
                        "ticks": "",
                        "zerolinecolor": "white"
                      }
                    },
                    "shapedefaults": {
                      "line": {
                        "color": "#2a3f5f"
                      }
                    },
                    "ternary": {
                      "aaxis": {
                        "gridcolor": "white",
                        "linecolor": "white",
                        "ticks": ""
                      },
                      "baxis": {
                        "gridcolor": "white",
                        "linecolor": "white",
                        "ticks": ""
                      },
                      "bgcolor": "#E5ECF6",
                      "caxis": {
                        "gridcolor": "white",
                        "linecolor": "white",
                        "ticks": ""
                      }
                    },
                    "title": {
                      "x": 0.05
                    },
                    "xaxis": {
                      "automargin": true,
                      "gridcolor": "white",
                      "linecolor": "white",
                      "ticks": "",
                      "title": {
                        "standoff": 15
                      },
                      "zerolinecolor": "white",
                      "zerolinewidth": 2
                    },
                    "yaxis": {
                      "automargin": true,
                      "gridcolor": "white",
                      "linecolor": "white",
                      "ticks": "",
                      "title": {
                        "standoff": 15
                      },
                      "zerolinecolor": "white",
                      "zerolinewidth": 2
                    }
                  }
                },
                "title": {
                  "text": "SIR Model x True infected"
                },
                "xaxis": {
                  "anchor": "y",
                  "domain": [
                    0,
                    1
                  ],
                  "title": {
                    "text": "x"
                  }
                },
                "yaxis": {
                  "anchor": "x",
                  "domain": [
                    0,
                    1
                  ],
                  "title": {
                    "text": "y"
                  }
                }
              }
            }
          },
          "metadata": {},
          "output_type": "display_data"
        }
      ],
      "source": [
        "y_col = 'infected' #@param [\"suspected\", \"infected\", \"recovered\"]\n",
        "\n",
        "y_col_real = {\n",
        "    \"suspected\": \"suspected\",\n",
        "    \"infected\": \"newCases\",\n",
        "    \"recovered\": \"recovered\"\n",
        "}\n",
        "y_col_sir = {\n",
        "    \"suspected\": model.S,\n",
        "    \"infected\": (-model.dS),\n",
        "    \"recovered\": model.R\n",
        "}\n",
        "fig = px.line(x=moving_average_df['date'], y=moving_average_df[y_col_real[y_col]], title=f'SIR Model x True {y_col}')\n",
        "fig.add_scatter(x=moving_average_df['date'], y=np.array(y_col_sir[y_col])*model.N)\n",
        "\n",
        "fig.data[0].name = \"Real Data\"\n",
        "fig.data[0].showlegend = True\n",
        "fig.data[1].name = \"SIR\"\n",
        "fig.show()"
      ]
    },
    {
      "cell_type": "code",
      "execution_count": 17,
      "metadata": {
        "colab": {
          "base_uri": "https://localhost:8080/",
          "height": 542
        },
        "id": "7BrEAUCSONMx",
        "outputId": "f0cbcb17-3bf4-4cad-dda1-071b80f1192d"
      },
      "outputs": [
        {
          "data": {
            "application/vnd.plotly.v1+json": {
              "config": {
                "plotlyServerURL": "https://plot.ly"
              },
              "data": [
                {
                  "hovertemplate": "x=%{x}<br>y=%{y}<extra></extra>",
                  "legendgroup": "",
                  "line": {
                    "color": "#636efa",
                    "dash": "solid"
                  },
                  "marker": {
                    "symbol": "circle"
                  },
                  "mode": "lines",
                  "name": "Real Data",
                  "orientation": "v",
                  "showlegend": true,
                  "type": "scatter",
                  "x": [
                    "2020-03-24T00:00:00",
                    "2020-03-25T00:00:00",
                    "2020-03-26T00:00:00",
                    "2020-03-27T00:00:00",
                    "2020-03-28T00:00:00",
                    "2020-03-29T00:00:00",
                    "2020-03-30T00:00:00",
                    "2020-03-31T00:00:00",
                    "2020-04-01T00:00:00",
                    "2020-04-02T00:00:00",
                    "2020-04-03T00:00:00",
                    "2020-04-04T00:00:00",
                    "2020-04-05T00:00:00",
                    "2020-04-06T00:00:00",
                    "2020-04-07T00:00:00",
                    "2020-04-08T00:00:00",
                    "2020-04-09T00:00:00",
                    "2020-04-10T00:00:00",
                    "2020-04-11T00:00:00",
                    "2020-04-12T00:00:00",
                    "2020-04-13T00:00:00",
                    "2020-04-14T00:00:00",
                    "2020-04-15T00:00:00",
                    "2020-04-16T00:00:00",
                    "2020-04-17T00:00:00",
                    "2020-04-18T00:00:00",
                    "2020-04-19T00:00:00",
                    "2020-04-20T00:00:00",
                    "2020-04-21T00:00:00",
                    "2020-04-22T00:00:00",
                    "2020-04-23T00:00:00",
                    "2020-04-24T00:00:00",
                    "2020-04-25T00:00:00",
                    "2020-04-26T00:00:00",
                    "2020-04-27T00:00:00",
                    "2020-04-28T00:00:00",
                    "2020-04-29T00:00:00",
                    "2020-04-30T00:00:00",
                    "2020-05-01T00:00:00",
                    "2020-05-02T00:00:00",
                    "2020-05-03T00:00:00",
                    "2020-05-04T00:00:00",
                    "2020-05-05T00:00:00",
                    "2020-05-06T00:00:00",
                    "2020-05-07T00:00:00",
                    "2020-05-08T00:00:00",
                    "2020-05-09T00:00:00",
                    "2020-05-10T00:00:00",
                    "2020-05-11T00:00:00",
                    "2020-05-12T00:00:00",
                    "2020-05-13T00:00:00",
                    "2020-05-14T00:00:00",
                    "2020-05-15T00:00:00",
                    "2020-05-16T00:00:00",
                    "2020-05-17T00:00:00",
                    "2020-05-18T00:00:00",
                    "2020-05-19T00:00:00",
                    "2020-05-20T00:00:00",
                    "2020-05-21T00:00:00",
                    "2020-05-22T00:00:00",
                    "2020-05-23T00:00:00",
                    "2020-05-24T00:00:00",
                    "2020-05-25T00:00:00",
                    "2020-05-26T00:00:00",
                    "2020-05-27T00:00:00",
                    "2020-05-28T00:00:00",
                    "2020-05-29T00:00:00",
                    "2020-05-30T00:00:00",
                    "2020-05-31T00:00:00",
                    "2020-06-01T00:00:00",
                    "2020-06-02T00:00:00",
                    "2020-06-03T00:00:00",
                    "2020-06-04T00:00:00",
                    "2020-06-05T00:00:00",
                    "2020-06-06T00:00:00",
                    "2020-06-07T00:00:00",
                    "2020-06-08T00:00:00",
                    "2020-06-09T00:00:00",
                    "2020-06-10T00:00:00",
                    "2020-06-11T00:00:00",
                    "2020-06-12T00:00:00",
                    "2020-06-13T00:00:00",
                    "2020-06-14T00:00:00",
                    "2020-06-15T00:00:00",
                    "2020-06-16T00:00:00",
                    "2020-06-17T00:00:00",
                    "2020-06-18T00:00:00",
                    "2020-06-19T00:00:00",
                    "2020-06-20T00:00:00",
                    "2020-06-21T00:00:00",
                    "2020-06-22T00:00:00",
                    "2020-06-23T00:00:00",
                    "2020-06-24T00:00:00",
                    "2020-06-25T00:00:00",
                    "2020-06-26T00:00:00",
                    "2020-06-27T00:00:00",
                    "2020-06-28T00:00:00",
                    "2020-06-29T00:00:00",
                    "2020-06-30T00:00:00",
                    "2020-07-01T00:00:00",
                    "2020-07-02T00:00:00",
                    "2020-07-03T00:00:00",
                    "2020-07-04T00:00:00",
                    "2020-07-05T00:00:00",
                    "2020-07-06T00:00:00",
                    "2020-07-07T00:00:00",
                    "2020-07-08T00:00:00",
                    "2020-07-09T00:00:00",
                    "2020-07-10T00:00:00",
                    "2020-07-11T00:00:00",
                    "2020-07-12T00:00:00",
                    "2020-07-13T00:00:00",
                    "2020-07-14T00:00:00",
                    "2020-07-15T00:00:00",
                    "2020-07-16T00:00:00",
                    "2020-07-17T00:00:00",
                    "2020-07-18T00:00:00",
                    "2020-07-19T00:00:00",
                    "2020-07-20T00:00:00",
                    "2020-07-21T00:00:00",
                    "2020-07-22T00:00:00",
                    "2020-07-23T00:00:00",
                    "2020-07-24T00:00:00",
                    "2020-07-25T00:00:00",
                    "2020-07-26T00:00:00",
                    "2020-07-27T00:00:00",
                    "2020-07-28T00:00:00",
                    "2020-07-29T00:00:00",
                    "2020-07-30T00:00:00",
                    "2020-07-31T00:00:00"
                  ],
                  "xaxis": "x",
                  "y": {
                    "bdata": "x5mnxJ1oYEHs4jmpnWhgQTV1XnKdaGBBNnVeMp1oYEHs4jnpnGhgQaNQFaCcaGBBo1AVQJxoYEF/B4O7m2hgQaNQFSCbaGBBfgeDe5poYEERLMxtmWhgQe3iOUmYaGBBfgeDG5doYEGjUBVglWhgQX4HgzuTaGBBfweD+5BoYEFavvDWjmhgQREszE2MaGBB7OI5iYloYEE2dV5yhmhgQX4HgxuDaGBBo1AVAH9oYEHs4jlJeWhgQX8Hg1tyaGBB7OI5CWtoYEE1dV7SY2hgQVq+8DZcaGBByJmnpFFoYEERLMwtRmhgQeziOYk5aGBBfgeD2yxoYEF/B4PbG2hgQceZpyQIaGBB7OI5ae9nYEHHmafk12dgQREszM3AZ2BBWr7w9qdnYEHs4jkJiWdgQaNQFUBpZ2BBfweD20VnYEE1dV7SJGdgQVq+8FYAZ2BBNXVe0tRmYEF/B4NboGZgQREszO1rZmBBo1AVgDNmYEF+B4O7+GVgQciZp4S7ZWBB7OI5iXdlYEE1dV6yKmVgQaNQFaDUZGBBo1AVoHFkYEF+B4NbBGRgQaNQFUCRY2BBo1AV4BZjYEHImafEkmJgQREszM0BYmBBo1AVgGhhYEFavvDWxmBgQVq+8DYTYGBBWr7w1lRfYEERLMxNl15gQTV1XtLCXWBBNnVe8t9cYEHs4jlp/FtgQTV1XrL3WmBBo1AVAPNZYEGjUBXA/VhgQaNQFQATWGBBx5mnJDFXYEGjUBVAO1ZgQREszO0yVWBBWr7w1jJUYEERLMwNC1NgQTV1XlLtUWBBNnVeEspQYEE1dV6SkE9gQeziOUlhTmBBESzM7TJNYEFavvD2GkxgQTV1XlI8S2BBWr7wtjZKYEE1dV6yK0lgQe3iOYk3SGBBWr7wdkVHYEERLMxtWUZgQX4Hg/tORWBByJmnZCdEYEF+B4MbB0NgQREszC3bQWBBWr7wlqRAYEERLMzNaz9gQX4Hg9s0PmBBo1AVABA9YEE1dV6S6jtgQaNQFaDQOmBBESzMbcE5YEGjUBVAvThgQeziOanAN2BBfweDG8Y2YEE1dV4yzTVgQeziOSnhNGBBNXVecvIzYEE2dV5yBDNgQceZp0QdMmBBNXVeEjcxYEERLMztVDBgQTZ1XvJ5L2BBWr7wdpwuYEHs4jnpxy1gQVq+8BbyLGBBWr7wVhQsYEE1dV5yPCtgQeziOalgKmBBo1AVoIEpYEF/B4MbqyhgQREszO3YJ2BB7OI5qQQnYEHs4jmJMSZgQaNQFcBjJWBBESzMrZckYEERLMyt0SNgQREszK0NI2BBo1AVoEkiYEERLMxtjyFgQaNQFeDYIGBBx5mnZC8gYEHImafEkB9gQREszC36HmBBo1AVAGkeYEE=",
                    "dtype": "f8"
                  },
                  "yaxis": "y"
                },
                {
                  "name": "SIR",
                  "type": "scatter",
                  "x": [
                    "2020-03-24T00:00:00",
                    "2020-03-25T00:00:00",
                    "2020-03-26T00:00:00",
                    "2020-03-27T00:00:00",
                    "2020-03-28T00:00:00",
                    "2020-03-29T00:00:00",
                    "2020-03-30T00:00:00",
                    "2020-03-31T00:00:00",
                    "2020-04-01T00:00:00",
                    "2020-04-02T00:00:00",
                    "2020-04-03T00:00:00",
                    "2020-04-04T00:00:00",
                    "2020-04-05T00:00:00",
                    "2020-04-06T00:00:00",
                    "2020-04-07T00:00:00",
                    "2020-04-08T00:00:00",
                    "2020-04-09T00:00:00",
                    "2020-04-10T00:00:00",
                    "2020-04-11T00:00:00",
                    "2020-04-12T00:00:00",
                    "2020-04-13T00:00:00",
                    "2020-04-14T00:00:00",
                    "2020-04-15T00:00:00",
                    "2020-04-16T00:00:00",
                    "2020-04-17T00:00:00",
                    "2020-04-18T00:00:00",
                    "2020-04-19T00:00:00",
                    "2020-04-20T00:00:00",
                    "2020-04-21T00:00:00",
                    "2020-04-22T00:00:00",
                    "2020-04-23T00:00:00",
                    "2020-04-24T00:00:00",
                    "2020-04-25T00:00:00",
                    "2020-04-26T00:00:00",
                    "2020-04-27T00:00:00",
                    "2020-04-28T00:00:00",
                    "2020-04-29T00:00:00",
                    "2020-04-30T00:00:00",
                    "2020-05-01T00:00:00",
                    "2020-05-02T00:00:00",
                    "2020-05-03T00:00:00",
                    "2020-05-04T00:00:00",
                    "2020-05-05T00:00:00",
                    "2020-05-06T00:00:00",
                    "2020-05-07T00:00:00",
                    "2020-05-08T00:00:00",
                    "2020-05-09T00:00:00",
                    "2020-05-10T00:00:00",
                    "2020-05-11T00:00:00",
                    "2020-05-12T00:00:00",
                    "2020-05-13T00:00:00",
                    "2020-05-14T00:00:00",
                    "2020-05-15T00:00:00",
                    "2020-05-16T00:00:00",
                    "2020-05-17T00:00:00",
                    "2020-05-18T00:00:00",
                    "2020-05-19T00:00:00",
                    "2020-05-20T00:00:00",
                    "2020-05-21T00:00:00",
                    "2020-05-22T00:00:00",
                    "2020-05-23T00:00:00",
                    "2020-05-24T00:00:00",
                    "2020-05-25T00:00:00",
                    "2020-05-26T00:00:00",
                    "2020-05-27T00:00:00",
                    "2020-05-28T00:00:00",
                    "2020-05-29T00:00:00",
                    "2020-05-30T00:00:00",
                    "2020-05-31T00:00:00",
                    "2020-06-01T00:00:00",
                    "2020-06-02T00:00:00",
                    "2020-06-03T00:00:00",
                    "2020-06-04T00:00:00",
                    "2020-06-05T00:00:00",
                    "2020-06-06T00:00:00",
                    "2020-06-07T00:00:00",
                    "2020-06-08T00:00:00",
                    "2020-06-09T00:00:00",
                    "2020-06-10T00:00:00",
                    "2020-06-11T00:00:00",
                    "2020-06-12T00:00:00",
                    "2020-06-13T00:00:00",
                    "2020-06-14T00:00:00",
                    "2020-06-15T00:00:00",
                    "2020-06-16T00:00:00",
                    "2020-06-17T00:00:00",
                    "2020-06-18T00:00:00",
                    "2020-06-19T00:00:00",
                    "2020-06-20T00:00:00",
                    "2020-06-21T00:00:00",
                    "2020-06-22T00:00:00",
                    "2020-06-23T00:00:00",
                    "2020-06-24T00:00:00",
                    "2020-06-25T00:00:00",
                    "2020-06-26T00:00:00",
                    "2020-06-27T00:00:00",
                    "2020-06-28T00:00:00",
                    "2020-06-29T00:00:00",
                    "2020-06-30T00:00:00",
                    "2020-07-01T00:00:00",
                    "2020-07-02T00:00:00",
                    "2020-07-03T00:00:00",
                    "2020-07-04T00:00:00",
                    "2020-07-05T00:00:00",
                    "2020-07-06T00:00:00",
                    "2020-07-07T00:00:00",
                    "2020-07-08T00:00:00",
                    "2020-07-09T00:00:00",
                    "2020-07-10T00:00:00",
                    "2020-07-11T00:00:00",
                    "2020-07-12T00:00:00",
                    "2020-07-13T00:00:00",
                    "2020-07-14T00:00:00",
                    "2020-07-15T00:00:00",
                    "2020-07-16T00:00:00",
                    "2020-07-17T00:00:00",
                    "2020-07-18T00:00:00",
                    "2020-07-19T00:00:00",
                    "2020-07-20T00:00:00",
                    "2020-07-21T00:00:00",
                    "2020-07-22T00:00:00",
                    "2020-07-23T00:00:00",
                    "2020-07-24T00:00:00",
                    "2020-07-25T00:00:00",
                    "2020-07-26T00:00:00",
                    "2020-07-27T00:00:00",
                    "2020-07-28T00:00:00",
                    "2020-07-29T00:00:00",
                    "2020-07-30T00:00:00",
                    "2020-07-31T00:00:00"
                  ],
                  "y": {
                    "bdata": "7OI5CZ5oYEHs4jkJnmhgQdOKpwSeaGBB2lSA+51oYEF78L3tnWhgQX87VtudaGBByTU7xJ1oYEHO71qonWhgQZtzn4edaGBBPqjuYZ1oYEFgLyo3nWhgQc88LwedaGBBtmfW0ZxoYEEhdfOWnGhgQWkbVVacaGBBJb7ED5xoYEEGIgbDm2hgQSEY12+baGBB+R/vFZtoYEGK//60mmhgQZpQsEyaaGBBXwKl3JloYEF5znZkmWhgQTWgtuOYaGBB1uzrWZhoYEGH+5PGl2hgQYMbISmXaGBBw8b5gJZoYEFYr3fNlWhgQXi15g2VaGBB6sODQZRoYEFtkHtnk2hgQUE96X6SaGBB2djUhpFoYEFNuDF+kGhgQdGo3GOPaGBBE/SZNo5oYEHpMhP1jGhgQTXp1J2LaGBBcuVLL4poYEGVXcKniGhgQXbCXAWHaGBBBUIWRoVoYEHU77xng2hgQZaK7WeBaGBBFNQORH9oYEEWcEz5fGhgQWY9kYR6aGBBrxqB4ndoYEGJB3IPdWhgQSSQZAdyaGBBR3D7xW5oYEE3WHJGa2hgQc67k4NnaGBBf5Gtd2NoYEFg5IQcX2hgQSIZSGtaaGBBt8J/XFVoYEG93/3nT2hgQedVywRKaGBBcnwTqUNoYEEsgg3KPGhgQdN241s1aGBBlLqWUS1oYEEQkeGcJGhgQRaQFS4baGBBlZz28xBoYEEsI5LbBWhgQWw0EtD5Z2BBeCiMuuxnYEH5acqB3mdgQfQFEQrPZ2BBgp3cNL5nYEGaWJvgq2dgQYl+X+iXZ2BB8WKLI4JnYEFtZnZlamdgQe/hCn1QZ2BB+PVcNDRnYEE8ZTpQFWdgQXDgs4/zZmBBhHqgq85mYEGBZRxWpmZgQQueBDp6ZmBBCNNx+klmYEHrpjUyFWZgQRZmXnPbZWBB74DGRpxlYEE9hbYrV2VgQTP+oZcLZWBBAo4J9rhkYEFXvI6oXmRgQeFQSAf8Y2BBBI1oYZBjYEElFEn+GmNgQV+d8h6bYmBByl04ABBiYEFXGIDdeGFgQZhrT/TUYGBBQba0iCNgYEEFD53qY19gQbWTIHyVXmBBmwLCuLddYEEPkY09ylxgQe387NHMW2BBRi7scL9aYEFvcYtSollgQWJznPR1WGBB+gOJIjtXYEGYrUr78lVgQXDbzfSeVGBB+koA3EBTYEGQ8eXQ2lFgQQxoRD5vUGBBwgfDzABPYEGPZMBRkk1gQb4Fi7omTGBBtUQV9cBKYEFk55LXY0lgQVoHowgSSGBBZvuu6c1GYEE+U/uEmUVgQeQ2j4B2RGBB53CdFmZDYEH3W5MTaUJgQWSzcNl/QWBBqC+hZ6pAYEE5cklm6D9gQZBm2DM5P2BBf2Ky85s+YEE=",
                    "dtype": "f8"
                  }
                }
              ],
              "layout": {
                "legend": {
                  "tracegroupgap": 0
                },
                "template": {
                  "data": {
                    "bar": [
                      {
                        "error_x": {
                          "color": "#2a3f5f"
                        },
                        "error_y": {
                          "color": "#2a3f5f"
                        },
                        "marker": {
                          "line": {
                            "color": "#E5ECF6",
                            "width": 0.5
                          },
                          "pattern": {
                            "fillmode": "overlay",
                            "size": 10,
                            "solidity": 0.2
                          }
                        },
                        "type": "bar"
                      }
                    ],
                    "barpolar": [
                      {
                        "marker": {
                          "line": {
                            "color": "#E5ECF6",
                            "width": 0.5
                          },
                          "pattern": {
                            "fillmode": "overlay",
                            "size": 10,
                            "solidity": 0.2
                          }
                        },
                        "type": "barpolar"
                      }
                    ],
                    "carpet": [
                      {
                        "aaxis": {
                          "endlinecolor": "#2a3f5f",
                          "gridcolor": "white",
                          "linecolor": "white",
                          "minorgridcolor": "white",
                          "startlinecolor": "#2a3f5f"
                        },
                        "baxis": {
                          "endlinecolor": "#2a3f5f",
                          "gridcolor": "white",
                          "linecolor": "white",
                          "minorgridcolor": "white",
                          "startlinecolor": "#2a3f5f"
                        },
                        "type": "carpet"
                      }
                    ],
                    "choropleth": [
                      {
                        "colorbar": {
                          "outlinewidth": 0,
                          "ticks": ""
                        },
                        "type": "choropleth"
                      }
                    ],
                    "contour": [
                      {
                        "colorbar": {
                          "outlinewidth": 0,
                          "ticks": ""
                        },
                        "colorscale": [
                          [
                            0,
                            "#0d0887"
                          ],
                          [
                            0.1111111111111111,
                            "#46039f"
                          ],
                          [
                            0.2222222222222222,
                            "#7201a8"
                          ],
                          [
                            0.3333333333333333,
                            "#9c179e"
                          ],
                          [
                            0.4444444444444444,
                            "#bd3786"
                          ],
                          [
                            0.5555555555555556,
                            "#d8576b"
                          ],
                          [
                            0.6666666666666666,
                            "#ed7953"
                          ],
                          [
                            0.7777777777777778,
                            "#fb9f3a"
                          ],
                          [
                            0.8888888888888888,
                            "#fdca26"
                          ],
                          [
                            1,
                            "#f0f921"
                          ]
                        ],
                        "type": "contour"
                      }
                    ],
                    "contourcarpet": [
                      {
                        "colorbar": {
                          "outlinewidth": 0,
                          "ticks": ""
                        },
                        "type": "contourcarpet"
                      }
                    ],
                    "heatmap": [
                      {
                        "colorbar": {
                          "outlinewidth": 0,
                          "ticks": ""
                        },
                        "colorscale": [
                          [
                            0,
                            "#0d0887"
                          ],
                          [
                            0.1111111111111111,
                            "#46039f"
                          ],
                          [
                            0.2222222222222222,
                            "#7201a8"
                          ],
                          [
                            0.3333333333333333,
                            "#9c179e"
                          ],
                          [
                            0.4444444444444444,
                            "#bd3786"
                          ],
                          [
                            0.5555555555555556,
                            "#d8576b"
                          ],
                          [
                            0.6666666666666666,
                            "#ed7953"
                          ],
                          [
                            0.7777777777777778,
                            "#fb9f3a"
                          ],
                          [
                            0.8888888888888888,
                            "#fdca26"
                          ],
                          [
                            1,
                            "#f0f921"
                          ]
                        ],
                        "type": "heatmap"
                      }
                    ],
                    "histogram": [
                      {
                        "marker": {
                          "pattern": {
                            "fillmode": "overlay",
                            "size": 10,
                            "solidity": 0.2
                          }
                        },
                        "type": "histogram"
                      }
                    ],
                    "histogram2d": [
                      {
                        "colorbar": {
                          "outlinewidth": 0,
                          "ticks": ""
                        },
                        "colorscale": [
                          [
                            0,
                            "#0d0887"
                          ],
                          [
                            0.1111111111111111,
                            "#46039f"
                          ],
                          [
                            0.2222222222222222,
                            "#7201a8"
                          ],
                          [
                            0.3333333333333333,
                            "#9c179e"
                          ],
                          [
                            0.4444444444444444,
                            "#bd3786"
                          ],
                          [
                            0.5555555555555556,
                            "#d8576b"
                          ],
                          [
                            0.6666666666666666,
                            "#ed7953"
                          ],
                          [
                            0.7777777777777778,
                            "#fb9f3a"
                          ],
                          [
                            0.8888888888888888,
                            "#fdca26"
                          ],
                          [
                            1,
                            "#f0f921"
                          ]
                        ],
                        "type": "histogram2d"
                      }
                    ],
                    "histogram2dcontour": [
                      {
                        "colorbar": {
                          "outlinewidth": 0,
                          "ticks": ""
                        },
                        "colorscale": [
                          [
                            0,
                            "#0d0887"
                          ],
                          [
                            0.1111111111111111,
                            "#46039f"
                          ],
                          [
                            0.2222222222222222,
                            "#7201a8"
                          ],
                          [
                            0.3333333333333333,
                            "#9c179e"
                          ],
                          [
                            0.4444444444444444,
                            "#bd3786"
                          ],
                          [
                            0.5555555555555556,
                            "#d8576b"
                          ],
                          [
                            0.6666666666666666,
                            "#ed7953"
                          ],
                          [
                            0.7777777777777778,
                            "#fb9f3a"
                          ],
                          [
                            0.8888888888888888,
                            "#fdca26"
                          ],
                          [
                            1,
                            "#f0f921"
                          ]
                        ],
                        "type": "histogram2dcontour"
                      }
                    ],
                    "mesh3d": [
                      {
                        "colorbar": {
                          "outlinewidth": 0,
                          "ticks": ""
                        },
                        "type": "mesh3d"
                      }
                    ],
                    "parcoords": [
                      {
                        "line": {
                          "colorbar": {
                            "outlinewidth": 0,
                            "ticks": ""
                          }
                        },
                        "type": "parcoords"
                      }
                    ],
                    "pie": [
                      {
                        "automargin": true,
                        "type": "pie"
                      }
                    ],
                    "scatter": [
                      {
                        "fillpattern": {
                          "fillmode": "overlay",
                          "size": 10,
                          "solidity": 0.2
                        },
                        "type": "scatter"
                      }
                    ],
                    "scatter3d": [
                      {
                        "line": {
                          "colorbar": {
                            "outlinewidth": 0,
                            "ticks": ""
                          }
                        },
                        "marker": {
                          "colorbar": {
                            "outlinewidth": 0,
                            "ticks": ""
                          }
                        },
                        "type": "scatter3d"
                      }
                    ],
                    "scattercarpet": [
                      {
                        "marker": {
                          "colorbar": {
                            "outlinewidth": 0,
                            "ticks": ""
                          }
                        },
                        "type": "scattercarpet"
                      }
                    ],
                    "scattergeo": [
                      {
                        "marker": {
                          "colorbar": {
                            "outlinewidth": 0,
                            "ticks": ""
                          }
                        },
                        "type": "scattergeo"
                      }
                    ],
                    "scattergl": [
                      {
                        "marker": {
                          "colorbar": {
                            "outlinewidth": 0,
                            "ticks": ""
                          }
                        },
                        "type": "scattergl"
                      }
                    ],
                    "scattermap": [
                      {
                        "marker": {
                          "colorbar": {
                            "outlinewidth": 0,
                            "ticks": ""
                          }
                        },
                        "type": "scattermap"
                      }
                    ],
                    "scattermapbox": [
                      {
                        "marker": {
                          "colorbar": {
                            "outlinewidth": 0,
                            "ticks": ""
                          }
                        },
                        "type": "scattermapbox"
                      }
                    ],
                    "scatterpolar": [
                      {
                        "marker": {
                          "colorbar": {
                            "outlinewidth": 0,
                            "ticks": ""
                          }
                        },
                        "type": "scatterpolar"
                      }
                    ],
                    "scatterpolargl": [
                      {
                        "marker": {
                          "colorbar": {
                            "outlinewidth": 0,
                            "ticks": ""
                          }
                        },
                        "type": "scatterpolargl"
                      }
                    ],
                    "scatterternary": [
                      {
                        "marker": {
                          "colorbar": {
                            "outlinewidth": 0,
                            "ticks": ""
                          }
                        },
                        "type": "scatterternary"
                      }
                    ],
                    "surface": [
                      {
                        "colorbar": {
                          "outlinewidth": 0,
                          "ticks": ""
                        },
                        "colorscale": [
                          [
                            0,
                            "#0d0887"
                          ],
                          [
                            0.1111111111111111,
                            "#46039f"
                          ],
                          [
                            0.2222222222222222,
                            "#7201a8"
                          ],
                          [
                            0.3333333333333333,
                            "#9c179e"
                          ],
                          [
                            0.4444444444444444,
                            "#bd3786"
                          ],
                          [
                            0.5555555555555556,
                            "#d8576b"
                          ],
                          [
                            0.6666666666666666,
                            "#ed7953"
                          ],
                          [
                            0.7777777777777778,
                            "#fb9f3a"
                          ],
                          [
                            0.8888888888888888,
                            "#fdca26"
                          ],
                          [
                            1,
                            "#f0f921"
                          ]
                        ],
                        "type": "surface"
                      }
                    ],
                    "table": [
                      {
                        "cells": {
                          "fill": {
                            "color": "#EBF0F8"
                          },
                          "line": {
                            "color": "white"
                          }
                        },
                        "header": {
                          "fill": {
                            "color": "#C8D4E3"
                          },
                          "line": {
                            "color": "white"
                          }
                        },
                        "type": "table"
                      }
                    ]
                  },
                  "layout": {
                    "annotationdefaults": {
                      "arrowcolor": "#2a3f5f",
                      "arrowhead": 0,
                      "arrowwidth": 1
                    },
                    "autotypenumbers": "strict",
                    "coloraxis": {
                      "colorbar": {
                        "outlinewidth": 0,
                        "ticks": ""
                      }
                    },
                    "colorscale": {
                      "diverging": [
                        [
                          0,
                          "#8e0152"
                        ],
                        [
                          0.1,
                          "#c51b7d"
                        ],
                        [
                          0.2,
                          "#de77ae"
                        ],
                        [
                          0.3,
                          "#f1b6da"
                        ],
                        [
                          0.4,
                          "#fde0ef"
                        ],
                        [
                          0.5,
                          "#f7f7f7"
                        ],
                        [
                          0.6,
                          "#e6f5d0"
                        ],
                        [
                          0.7,
                          "#b8e186"
                        ],
                        [
                          0.8,
                          "#7fbc41"
                        ],
                        [
                          0.9,
                          "#4d9221"
                        ],
                        [
                          1,
                          "#276419"
                        ]
                      ],
                      "sequential": [
                        [
                          0,
                          "#0d0887"
                        ],
                        [
                          0.1111111111111111,
                          "#46039f"
                        ],
                        [
                          0.2222222222222222,
                          "#7201a8"
                        ],
                        [
                          0.3333333333333333,
                          "#9c179e"
                        ],
                        [
                          0.4444444444444444,
                          "#bd3786"
                        ],
                        [
                          0.5555555555555556,
                          "#d8576b"
                        ],
                        [
                          0.6666666666666666,
                          "#ed7953"
                        ],
                        [
                          0.7777777777777778,
                          "#fb9f3a"
                        ],
                        [
                          0.8888888888888888,
                          "#fdca26"
                        ],
                        [
                          1,
                          "#f0f921"
                        ]
                      ],
                      "sequentialminus": [
                        [
                          0,
                          "#0d0887"
                        ],
                        [
                          0.1111111111111111,
                          "#46039f"
                        ],
                        [
                          0.2222222222222222,
                          "#7201a8"
                        ],
                        [
                          0.3333333333333333,
                          "#9c179e"
                        ],
                        [
                          0.4444444444444444,
                          "#bd3786"
                        ],
                        [
                          0.5555555555555556,
                          "#d8576b"
                        ],
                        [
                          0.6666666666666666,
                          "#ed7953"
                        ],
                        [
                          0.7777777777777778,
                          "#fb9f3a"
                        ],
                        [
                          0.8888888888888888,
                          "#fdca26"
                        ],
                        [
                          1,
                          "#f0f921"
                        ]
                      ]
                    },
                    "colorway": [
                      "#636efa",
                      "#EF553B",
                      "#00cc96",
                      "#ab63fa",
                      "#FFA15A",
                      "#19d3f3",
                      "#FF6692",
                      "#B6E880",
                      "#FF97FF",
                      "#FECB52"
                    ],
                    "font": {
                      "color": "#2a3f5f"
                    },
                    "geo": {
                      "bgcolor": "white",
                      "lakecolor": "white",
                      "landcolor": "#E5ECF6",
                      "showlakes": true,
                      "showland": true,
                      "subunitcolor": "white"
                    },
                    "hoverlabel": {
                      "align": "left"
                    },
                    "hovermode": "closest",
                    "mapbox": {
                      "style": "light"
                    },
                    "paper_bgcolor": "white",
                    "plot_bgcolor": "#E5ECF6",
                    "polar": {
                      "angularaxis": {
                        "gridcolor": "white",
                        "linecolor": "white",
                        "ticks": ""
                      },
                      "bgcolor": "#E5ECF6",
                      "radialaxis": {
                        "gridcolor": "white",
                        "linecolor": "white",
                        "ticks": ""
                      }
                    },
                    "scene": {
                      "xaxis": {
                        "backgroundcolor": "#E5ECF6",
                        "gridcolor": "white",
                        "gridwidth": 2,
                        "linecolor": "white",
                        "showbackground": true,
                        "ticks": "",
                        "zerolinecolor": "white"
                      },
                      "yaxis": {
                        "backgroundcolor": "#E5ECF6",
                        "gridcolor": "white",
                        "gridwidth": 2,
                        "linecolor": "white",
                        "showbackground": true,
                        "ticks": "",
                        "zerolinecolor": "white"
                      },
                      "zaxis": {
                        "backgroundcolor": "#E5ECF6",
                        "gridcolor": "white",
                        "gridwidth": 2,
                        "linecolor": "white",
                        "showbackground": true,
                        "ticks": "",
                        "zerolinecolor": "white"
                      }
                    },
                    "shapedefaults": {
                      "line": {
                        "color": "#2a3f5f"
                      }
                    },
                    "ternary": {
                      "aaxis": {
                        "gridcolor": "white",
                        "linecolor": "white",
                        "ticks": ""
                      },
                      "baxis": {
                        "gridcolor": "white",
                        "linecolor": "white",
                        "ticks": ""
                      },
                      "bgcolor": "#E5ECF6",
                      "caxis": {
                        "gridcolor": "white",
                        "linecolor": "white",
                        "ticks": ""
                      }
                    },
                    "title": {
                      "x": 0.05
                    },
                    "xaxis": {
                      "automargin": true,
                      "gridcolor": "white",
                      "linecolor": "white",
                      "ticks": "",
                      "title": {
                        "standoff": 15
                      },
                      "zerolinecolor": "white",
                      "zerolinewidth": 2
                    },
                    "yaxis": {
                      "automargin": true,
                      "gridcolor": "white",
                      "linecolor": "white",
                      "ticks": "",
                      "title": {
                        "standoff": 15
                      },
                      "zerolinecolor": "white",
                      "zerolinewidth": 2
                    }
                  }
                },
                "title": {
                  "text": "SIR Model x True suspected"
                },
                "xaxis": {
                  "anchor": "y",
                  "domain": [
                    0,
                    1
                  ],
                  "title": {
                    "text": "x"
                  }
                },
                "yaxis": {
                  "anchor": "x",
                  "domain": [
                    0,
                    1
                  ],
                  "title": {
                    "text": "y"
                  }
                }
              }
            }
          },
          "metadata": {},
          "output_type": "display_data"
        }
      ],
      "source": [
        "y_col = 'suspected' #@param [\"suspected\", \"infected\", \"recovered\"]\n",
        "\n",
        "y_col_real = {\n",
        "    \"suspected\": \"suspected\",\n",
        "    \"infected\": \"newCases\",\n",
        "    \"recovered\": \"recovered\"\n",
        "}\n",
        "y_col_sir = {\n",
        "    \"suspected\": model.S,\n",
        "    \"infected\": (-model.dS),\n",
        "    \"recovered\": model.R\n",
        "}\n",
        "fig = px.line(x=moving_average_df['date'][:FIRST_PEAK_DAY_CUT], y=moving_average_df[y_col_real[y_col]][:FIRST_PEAK_DAY_CUT], title=f'SIR Model x True {y_col}')\n",
        "fig.add_scatter(x=moving_average_df['date'][:FIRST_PEAK_DAY_CUT], y=np.array(y_col_sir[y_col][:FIRST_PEAK_DAY_CUT])*model.N)\n",
        "\n",
        "fig.data[0].name = \"Real Data\"\n",
        "fig.data[0].showlegend = True\n",
        "fig.data[1].name = \"SIR\"\n",
        "fig.show()"
      ]
    },
    {
      "cell_type": "code",
      "execution_count": 18,
      "metadata": {
        "colab": {
          "base_uri": "https://localhost:8080/",
          "height": 542
        },
        "id": "v5C1an2nsBAG",
        "outputId": "54b75193-35a4-4a1e-ac43-4f9ce44f7156"
      },
      "outputs": [
        {
          "data": {
            "application/vnd.plotly.v1+json": {
              "config": {
                "plotlyServerURL": "https://plot.ly"
              },
              "data": [
                {
                  "hovertemplate": "x=%{x}<br>y=%{y}<extra></extra>",
                  "legendgroup": "",
                  "line": {
                    "color": "#636efa",
                    "dash": "solid"
                  },
                  "marker": {
                    "symbol": "circle"
                  },
                  "mode": "lines",
                  "name": "Real Data",
                  "orientation": "v",
                  "showlegend": true,
                  "type": "scatter",
                  "x": [
                    "2020-03-24T00:00:00",
                    "2020-03-25T00:00:00",
                    "2020-03-26T00:00:00",
                    "2020-03-27T00:00:00",
                    "2020-03-28T00:00:00",
                    "2020-03-29T00:00:00",
                    "2020-03-30T00:00:00",
                    "2020-03-31T00:00:00",
                    "2020-04-01T00:00:00",
                    "2020-04-02T00:00:00",
                    "2020-04-03T00:00:00",
                    "2020-04-04T00:00:00",
                    "2020-04-05T00:00:00",
                    "2020-04-06T00:00:00",
                    "2020-04-07T00:00:00",
                    "2020-04-08T00:00:00",
                    "2020-04-09T00:00:00",
                    "2020-04-10T00:00:00",
                    "2020-04-11T00:00:00",
                    "2020-04-12T00:00:00",
                    "2020-04-13T00:00:00",
                    "2020-04-14T00:00:00",
                    "2020-04-15T00:00:00",
                    "2020-04-16T00:00:00",
                    "2020-04-17T00:00:00",
                    "2020-04-18T00:00:00",
                    "2020-04-19T00:00:00",
                    "2020-04-20T00:00:00",
                    "2020-04-21T00:00:00",
                    "2020-04-22T00:00:00",
                    "2020-04-23T00:00:00",
                    "2020-04-24T00:00:00",
                    "2020-04-25T00:00:00",
                    "2020-04-26T00:00:00",
                    "2020-04-27T00:00:00",
                    "2020-04-28T00:00:00",
                    "2020-04-29T00:00:00",
                    "2020-04-30T00:00:00",
                    "2020-05-01T00:00:00",
                    "2020-05-02T00:00:00",
                    "2020-05-03T00:00:00",
                    "2020-05-04T00:00:00",
                    "2020-05-05T00:00:00",
                    "2020-05-06T00:00:00",
                    "2020-05-07T00:00:00",
                    "2020-05-08T00:00:00",
                    "2020-05-09T00:00:00",
                    "2020-05-10T00:00:00",
                    "2020-05-11T00:00:00",
                    "2020-05-12T00:00:00",
                    "2020-05-13T00:00:00",
                    "2020-05-14T00:00:00",
                    "2020-05-15T00:00:00",
                    "2020-05-16T00:00:00",
                    "2020-05-17T00:00:00",
                    "2020-05-18T00:00:00",
                    "2020-05-19T00:00:00",
                    "2020-05-20T00:00:00",
                    "2020-05-21T00:00:00",
                    "2020-05-22T00:00:00",
                    "2020-05-23T00:00:00",
                    "2020-05-24T00:00:00",
                    "2020-05-25T00:00:00",
                    "2020-05-26T00:00:00",
                    "2020-05-27T00:00:00",
                    "2020-05-28T00:00:00",
                    "2020-05-29T00:00:00",
                    "2020-05-30T00:00:00",
                    "2020-05-31T00:00:00",
                    "2020-06-01T00:00:00",
                    "2020-06-02T00:00:00",
                    "2020-06-03T00:00:00",
                    "2020-06-04T00:00:00",
                    "2020-06-05T00:00:00",
                    "2020-06-06T00:00:00",
                    "2020-06-07T00:00:00",
                    "2020-06-08T00:00:00",
                    "2020-06-09T00:00:00",
                    "2020-06-10T00:00:00",
                    "2020-06-11T00:00:00",
                    "2020-06-12T00:00:00",
                    "2020-06-13T00:00:00",
                    "2020-06-14T00:00:00",
                    "2020-06-15T00:00:00",
                    "2020-06-16T00:00:00",
                    "2020-06-17T00:00:00",
                    "2020-06-18T00:00:00",
                    "2020-06-19T00:00:00",
                    "2020-06-20T00:00:00",
                    "2020-06-21T00:00:00",
                    "2020-06-22T00:00:00",
                    "2020-06-23T00:00:00",
                    "2020-06-24T00:00:00",
                    "2020-06-25T00:00:00",
                    "2020-06-26T00:00:00",
                    "2020-06-27T00:00:00",
                    "2020-06-28T00:00:00",
                    "2020-06-29T00:00:00",
                    "2020-06-30T00:00:00",
                    "2020-07-01T00:00:00",
                    "2020-07-02T00:00:00",
                    "2020-07-03T00:00:00",
                    "2020-07-04T00:00:00",
                    "2020-07-05T00:00:00",
                    "2020-07-06T00:00:00",
                    "2020-07-07T00:00:00",
                    "2020-07-08T00:00:00",
                    "2020-07-09T00:00:00",
                    "2020-07-10T00:00:00",
                    "2020-07-11T00:00:00",
                    "2020-07-12T00:00:00",
                    "2020-07-13T00:00:00",
                    "2020-07-14T00:00:00",
                    "2020-07-15T00:00:00",
                    "2020-07-16T00:00:00",
                    "2020-07-17T00:00:00",
                    "2020-07-18T00:00:00",
                    "2020-07-19T00:00:00",
                    "2020-07-20T00:00:00",
                    "2020-07-21T00:00:00",
                    "2020-07-22T00:00:00",
                    "2020-07-23T00:00:00",
                    "2020-07-24T00:00:00",
                    "2020-07-25T00:00:00",
                    "2020-07-26T00:00:00",
                    "2020-07-27T00:00:00",
                    "2020-07-28T00:00:00",
                    "2020-07-29T00:00:00",
                    "2020-07-30T00:00:00",
                    "2020-07-31T00:00:00"
                  ],
                  "xaxis": "x",
                  "y": {
                    "bdata": "AAAAAAAAAAAAAAAAAAAAAAAAAAAAAAAAAAAAAAAAAAAAAAAAAAAAAAAAAAAAAAAAAAAAAAAAAAAAAAAAAAAAAAAAAAAAAAAAAAAAAAAAAAAAAAAAAAAAAAAAAAAAAAAAAAAAAAAAAAAAAAAAAAAAAAAAAAAAAAAAAAAAAAAAAAAAAAAAAAAAAAAAAAAAAAAAAAAAAAAAAAAAAAAAAAAAAAAAAAAAAAAAAAAAAAAAAAAAAAAAAAAAAAAAAAAAAAAAAAAAAAAAAAAAAAAAAAAAAAAAAAAAAAAASZIkSZKkTkBJkiRJkqReQLdt27ZtW2dA27Zt27ZdcEBu27Zt28Z1QJIkSZIkWXxAkiRJkiQZgkAAAAAAAKiEQCVJkiRJwodAt23btm1zi0C3bdu2bXuPQJIkSZIk8ZFAkiRJkiRZlEAlSZIkSeKWQCVJkiRJjplAt23btm1/nEBJkiRJkiagQCVJkiRJKqJASZIkSZIupEBu27Zt21imQAAAAAAAqqhAbtu2bdtIq0BJkiRJkkyuQG7btm3b2LBA27Zt27bcskCSJEmSJDi1QJIkSZIktbdAt23btm1NukAAAAAAADW9QJIkSZKkL8BAt23btu2FwUBJkiRJEizDQCVJkiRJ7cRAJUmSJEn8xkAAAAAAABrJQAAAAAAAOctAJUmSJEmYzUDbtm3btj/QQJIkSZKkttFAt23bti1T00CSJEmSZN/UQJIkSZLkddZASZIkSdIm2ECSJEmSJNXZQJIkSZJkgNtASZIkSZJG3UBu27ZtWzDfQG7btm3bneBA27Zt2zao4UC3bdu27a/iQJIkSZKkweNAbtu2bbvn5EAlSZIkyf/lQLdt27aNA+dAt23btu0G6EC3bdu2zQfpQLdt27ZN1+lAt23btg176kAlSZIkSXrrQJIkSZLkiuxAt23bto1r7UBJkiRJklvuQJIkSZJkV+9Abtu2bVtV8ECSJEmSBP/wQG7btm2biPFA27Zt29YJ8kAlSZIkmajyQCVJkiRJOfNAkiRJkjTG80CSJEmS5EH0QEmSJEmy0PRAt23btm039UBJkiRJ4rP1QAAAAADwKfZASZIkSRKi9kAAAAAA0Bf3QNu2bdtmjfdAJUmSJKkA+EDbtm3bZob4QLdt27Z99fhAAAAAACBk+UAlSZIkmc/5QJIkSZIkPPpA27Zt26an+kAAAAAAsBL7QJIkSZJEcftASZIkSdLb+0AAAAAAIEn8QJIkSZIktPxAJUmSJGkg/UCSJEmSNI39QNu2bdum9/1AkiRJkgRt/kCSJEmSBNT+QLdt27btNP9At23btn2U/0AlSZIkefD/QEmSJEnaJABBkiRJkrxNAEElSZIkAXUAQdu2bdtOmgBBkiRJkhS/AEE=",
                    "dtype": "f8"
                  },
                  "yaxis": "y"
                },
                {
                  "name": "SIR",
                  "type": "scatter",
                  "x": [
                    "2020-03-24T00:00:00",
                    "2020-03-25T00:00:00",
                    "2020-03-26T00:00:00",
                    "2020-03-27T00:00:00",
                    "2020-03-28T00:00:00",
                    "2020-03-29T00:00:00",
                    "2020-03-30T00:00:00",
                    "2020-03-31T00:00:00",
                    "2020-04-01T00:00:00",
                    "2020-04-02T00:00:00",
                    "2020-04-03T00:00:00",
                    "2020-04-04T00:00:00",
                    "2020-04-05T00:00:00",
                    "2020-04-06T00:00:00",
                    "2020-04-07T00:00:00",
                    "2020-04-08T00:00:00",
                    "2020-04-09T00:00:00",
                    "2020-04-10T00:00:00",
                    "2020-04-11T00:00:00",
                    "2020-04-12T00:00:00",
                    "2020-04-13T00:00:00",
                    "2020-04-14T00:00:00",
                    "2020-04-15T00:00:00",
                    "2020-04-16T00:00:00",
                    "2020-04-17T00:00:00",
                    "2020-04-18T00:00:00",
                    "2020-04-19T00:00:00",
                    "2020-04-20T00:00:00",
                    "2020-04-21T00:00:00",
                    "2020-04-22T00:00:00",
                    "2020-04-23T00:00:00",
                    "2020-04-24T00:00:00",
                    "2020-04-25T00:00:00",
                    "2020-04-26T00:00:00",
                    "2020-04-27T00:00:00",
                    "2020-04-28T00:00:00",
                    "2020-04-29T00:00:00",
                    "2020-04-30T00:00:00",
                    "2020-05-01T00:00:00",
                    "2020-05-02T00:00:00",
                    "2020-05-03T00:00:00",
                    "2020-05-04T00:00:00",
                    "2020-05-05T00:00:00",
                    "2020-05-06T00:00:00",
                    "2020-05-07T00:00:00",
                    "2020-05-08T00:00:00",
                    "2020-05-09T00:00:00",
                    "2020-05-10T00:00:00",
                    "2020-05-11T00:00:00",
                    "2020-05-12T00:00:00",
                    "2020-05-13T00:00:00",
                    "2020-05-14T00:00:00",
                    "2020-05-15T00:00:00",
                    "2020-05-16T00:00:00",
                    "2020-05-17T00:00:00",
                    "2020-05-18T00:00:00",
                    "2020-05-19T00:00:00",
                    "2020-05-20T00:00:00",
                    "2020-05-21T00:00:00",
                    "2020-05-22T00:00:00",
                    "2020-05-23T00:00:00",
                    "2020-05-24T00:00:00",
                    "2020-05-25T00:00:00",
                    "2020-05-26T00:00:00",
                    "2020-05-27T00:00:00",
                    "2020-05-28T00:00:00",
                    "2020-05-29T00:00:00",
                    "2020-05-30T00:00:00",
                    "2020-05-31T00:00:00",
                    "2020-06-01T00:00:00",
                    "2020-06-02T00:00:00",
                    "2020-06-03T00:00:00",
                    "2020-06-04T00:00:00",
                    "2020-06-05T00:00:00",
                    "2020-06-06T00:00:00",
                    "2020-06-07T00:00:00",
                    "2020-06-08T00:00:00",
                    "2020-06-09T00:00:00",
                    "2020-06-10T00:00:00",
                    "2020-06-11T00:00:00",
                    "2020-06-12T00:00:00",
                    "2020-06-13T00:00:00",
                    "2020-06-14T00:00:00",
                    "2020-06-15T00:00:00",
                    "2020-06-16T00:00:00",
                    "2020-06-17T00:00:00",
                    "2020-06-18T00:00:00",
                    "2020-06-19T00:00:00",
                    "2020-06-20T00:00:00",
                    "2020-06-21T00:00:00",
                    "2020-06-22T00:00:00",
                    "2020-06-23T00:00:00",
                    "2020-06-24T00:00:00",
                    "2020-06-25T00:00:00",
                    "2020-06-26T00:00:00",
                    "2020-06-27T00:00:00",
                    "2020-06-28T00:00:00",
                    "2020-06-29T00:00:00",
                    "2020-06-30T00:00:00",
                    "2020-07-01T00:00:00",
                    "2020-07-02T00:00:00",
                    "2020-07-03T00:00:00",
                    "2020-07-04T00:00:00",
                    "2020-07-05T00:00:00",
                    "2020-07-06T00:00:00",
                    "2020-07-07T00:00:00",
                    "2020-07-08T00:00:00",
                    "2020-07-09T00:00:00",
                    "2020-07-10T00:00:00",
                    "2020-07-11T00:00:00",
                    "2020-07-12T00:00:00",
                    "2020-07-13T00:00:00",
                    "2020-07-14T00:00:00",
                    "2020-07-15T00:00:00",
                    "2020-07-16T00:00:00",
                    "2020-07-17T00:00:00",
                    "2020-07-18T00:00:00",
                    "2020-07-19T00:00:00",
                    "2020-07-20T00:00:00",
                    "2020-07-21T00:00:00",
                    "2020-07-22T00:00:00",
                    "2020-07-23T00:00:00",
                    "2020-07-24T00:00:00",
                    "2020-07-25T00:00:00",
                    "2020-07-26T00:00:00",
                    "2020-07-27T00:00:00",
                    "2020-07-28T00:00:00",
                    "2020-07-29T00:00:00",
                    "2020-07-30T00:00:00",
                    "2020-07-31T00:00:00"
                  ],
                  "y": {
                    "bdata": "AAAAAAAAAAAAAAAAAAAAAK/Nc9omMMI/lDii5D5N2z/6lGkJCVbrP8tmp2Et0vY/a1TVXuAnAUCoZT8EVRYIQMvvdUj1HBBARZ5MJI/MFED6906ovh0aQE2+v69rCiBAV0Fdz19bI0CG94GVewQnQGzAjWDPCCtApxtMRsBrL0DFmaxnhhgyQHx7vB1prjRAH/WLLMl5N0BAk7H9HH06QLhp2w0Uuz1AhuwkbU2bQEDdN3iZb3lCQGC//nyqeURAfoU+rd2dRkDgO2xAEehIQMQ5jvB4WktA3b8ajHf3TUByGK9d0WBQQBazXpHj3VFAxntidXZ0U0ClSvVbLiZVQMgOeo7S9FZAwu4RSlDiWECI3koGvvBaQHjKVA1fIl1ANdn3bad5X0A4hTQooPxgQAcQC1wGUmJA1IbMXpe+Y0BBmJymBkRlQI1Y3Dst5GZAxTFVMg2haECiL5p71XxqQLHu/BvmeWxAbFN4zNSabkD3N4oKOXFwQLrKQ3bnqXFAEdSddSH5ckCn6rOQuWB0QCi50NCs4nVAzniT6SaBd0Ak0JzQhj55QMhAkc9jHXtART6AHZMgfUATQx8OLkt/QIvuZHNM0IBAsVduNUUSgkAdvmUZim2DQHpZofFV5IRAAizerRp5hkAlEBf7hi6IQPTb7HmMB4pA2JPmmmYHjEDkTiExojGOQBsBseYSRZBAgNlsep2KkUD87SIkzOuSQDecr1g2a5RAoFTY1rULlkC0s3BnbdCXQEPUjkTQvJlAldg5NKrUm0B70sFiKByeQAMtI4TxS6BAS5ba8XOmoUDdkcfJYiCjQAYY6OjLvKRABGoVSgp/pkC7PgcGzWqoQLygI70ehKpAoeb7X23PrECYgdlEklGvQM4kPTjtB7FAFZDddgeIskCJU4iBPiy0QEBhdQL/97VAsMqJOP/ut0BbATX0QRW6QFzk3sAYb7xARcT66CQBv0CE9ct4K+jAQAeWtAv2cMJACEunobQdxECWjDRsSfHFQNtxlFWw7sdATUXjsPYYykB4exA7MHPMQECpcglpAM9AzHe8Bcrh0EABIufrul/SQLStvM5F+9NAVYwFIXe11UDyK5n8GI/XQMg8oXyhiNlA/eA8LSCi20BDrwpUK9vdQLyQlwpnGeBAtAy4WrxT4UAGd4Y1epviQEHNniQu7+NA3ckUZQ5N5UCf0C6j/bLmQL6/bCCTHuhA4g34aSeN6UDYvUxj5fvqQJ6CSfveZ+xA7826diTO7UDzRRvj3CvvQFeSIQcvP/BAQdLGK6Hh8EBQInVsPXzxQDCe/V4uDvJA7xMXjNSW8kCJDTCDxxXzQF1Gi0TUivNAD64HZPn180DGf4FrYVf0QJ1UpxRcr/RAtpyX8Fb+9EA=",
                    "dtype": "f8"
                  }
                }
              ],
              "layout": {
                "legend": {
                  "tracegroupgap": 0
                },
                "template": {
                  "data": {
                    "bar": [
                      {
                        "error_x": {
                          "color": "#2a3f5f"
                        },
                        "error_y": {
                          "color": "#2a3f5f"
                        },
                        "marker": {
                          "line": {
                            "color": "#E5ECF6",
                            "width": 0.5
                          },
                          "pattern": {
                            "fillmode": "overlay",
                            "size": 10,
                            "solidity": 0.2
                          }
                        },
                        "type": "bar"
                      }
                    ],
                    "barpolar": [
                      {
                        "marker": {
                          "line": {
                            "color": "#E5ECF6",
                            "width": 0.5
                          },
                          "pattern": {
                            "fillmode": "overlay",
                            "size": 10,
                            "solidity": 0.2
                          }
                        },
                        "type": "barpolar"
                      }
                    ],
                    "carpet": [
                      {
                        "aaxis": {
                          "endlinecolor": "#2a3f5f",
                          "gridcolor": "white",
                          "linecolor": "white",
                          "minorgridcolor": "white",
                          "startlinecolor": "#2a3f5f"
                        },
                        "baxis": {
                          "endlinecolor": "#2a3f5f",
                          "gridcolor": "white",
                          "linecolor": "white",
                          "minorgridcolor": "white",
                          "startlinecolor": "#2a3f5f"
                        },
                        "type": "carpet"
                      }
                    ],
                    "choropleth": [
                      {
                        "colorbar": {
                          "outlinewidth": 0,
                          "ticks": ""
                        },
                        "type": "choropleth"
                      }
                    ],
                    "contour": [
                      {
                        "colorbar": {
                          "outlinewidth": 0,
                          "ticks": ""
                        },
                        "colorscale": [
                          [
                            0,
                            "#0d0887"
                          ],
                          [
                            0.1111111111111111,
                            "#46039f"
                          ],
                          [
                            0.2222222222222222,
                            "#7201a8"
                          ],
                          [
                            0.3333333333333333,
                            "#9c179e"
                          ],
                          [
                            0.4444444444444444,
                            "#bd3786"
                          ],
                          [
                            0.5555555555555556,
                            "#d8576b"
                          ],
                          [
                            0.6666666666666666,
                            "#ed7953"
                          ],
                          [
                            0.7777777777777778,
                            "#fb9f3a"
                          ],
                          [
                            0.8888888888888888,
                            "#fdca26"
                          ],
                          [
                            1,
                            "#f0f921"
                          ]
                        ],
                        "type": "contour"
                      }
                    ],
                    "contourcarpet": [
                      {
                        "colorbar": {
                          "outlinewidth": 0,
                          "ticks": ""
                        },
                        "type": "contourcarpet"
                      }
                    ],
                    "heatmap": [
                      {
                        "colorbar": {
                          "outlinewidth": 0,
                          "ticks": ""
                        },
                        "colorscale": [
                          [
                            0,
                            "#0d0887"
                          ],
                          [
                            0.1111111111111111,
                            "#46039f"
                          ],
                          [
                            0.2222222222222222,
                            "#7201a8"
                          ],
                          [
                            0.3333333333333333,
                            "#9c179e"
                          ],
                          [
                            0.4444444444444444,
                            "#bd3786"
                          ],
                          [
                            0.5555555555555556,
                            "#d8576b"
                          ],
                          [
                            0.6666666666666666,
                            "#ed7953"
                          ],
                          [
                            0.7777777777777778,
                            "#fb9f3a"
                          ],
                          [
                            0.8888888888888888,
                            "#fdca26"
                          ],
                          [
                            1,
                            "#f0f921"
                          ]
                        ],
                        "type": "heatmap"
                      }
                    ],
                    "histogram": [
                      {
                        "marker": {
                          "pattern": {
                            "fillmode": "overlay",
                            "size": 10,
                            "solidity": 0.2
                          }
                        },
                        "type": "histogram"
                      }
                    ],
                    "histogram2d": [
                      {
                        "colorbar": {
                          "outlinewidth": 0,
                          "ticks": ""
                        },
                        "colorscale": [
                          [
                            0,
                            "#0d0887"
                          ],
                          [
                            0.1111111111111111,
                            "#46039f"
                          ],
                          [
                            0.2222222222222222,
                            "#7201a8"
                          ],
                          [
                            0.3333333333333333,
                            "#9c179e"
                          ],
                          [
                            0.4444444444444444,
                            "#bd3786"
                          ],
                          [
                            0.5555555555555556,
                            "#d8576b"
                          ],
                          [
                            0.6666666666666666,
                            "#ed7953"
                          ],
                          [
                            0.7777777777777778,
                            "#fb9f3a"
                          ],
                          [
                            0.8888888888888888,
                            "#fdca26"
                          ],
                          [
                            1,
                            "#f0f921"
                          ]
                        ],
                        "type": "histogram2d"
                      }
                    ],
                    "histogram2dcontour": [
                      {
                        "colorbar": {
                          "outlinewidth": 0,
                          "ticks": ""
                        },
                        "colorscale": [
                          [
                            0,
                            "#0d0887"
                          ],
                          [
                            0.1111111111111111,
                            "#46039f"
                          ],
                          [
                            0.2222222222222222,
                            "#7201a8"
                          ],
                          [
                            0.3333333333333333,
                            "#9c179e"
                          ],
                          [
                            0.4444444444444444,
                            "#bd3786"
                          ],
                          [
                            0.5555555555555556,
                            "#d8576b"
                          ],
                          [
                            0.6666666666666666,
                            "#ed7953"
                          ],
                          [
                            0.7777777777777778,
                            "#fb9f3a"
                          ],
                          [
                            0.8888888888888888,
                            "#fdca26"
                          ],
                          [
                            1,
                            "#f0f921"
                          ]
                        ],
                        "type": "histogram2dcontour"
                      }
                    ],
                    "mesh3d": [
                      {
                        "colorbar": {
                          "outlinewidth": 0,
                          "ticks": ""
                        },
                        "type": "mesh3d"
                      }
                    ],
                    "parcoords": [
                      {
                        "line": {
                          "colorbar": {
                            "outlinewidth": 0,
                            "ticks": ""
                          }
                        },
                        "type": "parcoords"
                      }
                    ],
                    "pie": [
                      {
                        "automargin": true,
                        "type": "pie"
                      }
                    ],
                    "scatter": [
                      {
                        "fillpattern": {
                          "fillmode": "overlay",
                          "size": 10,
                          "solidity": 0.2
                        },
                        "type": "scatter"
                      }
                    ],
                    "scatter3d": [
                      {
                        "line": {
                          "colorbar": {
                            "outlinewidth": 0,
                            "ticks": ""
                          }
                        },
                        "marker": {
                          "colorbar": {
                            "outlinewidth": 0,
                            "ticks": ""
                          }
                        },
                        "type": "scatter3d"
                      }
                    ],
                    "scattercarpet": [
                      {
                        "marker": {
                          "colorbar": {
                            "outlinewidth": 0,
                            "ticks": ""
                          }
                        },
                        "type": "scattercarpet"
                      }
                    ],
                    "scattergeo": [
                      {
                        "marker": {
                          "colorbar": {
                            "outlinewidth": 0,
                            "ticks": ""
                          }
                        },
                        "type": "scattergeo"
                      }
                    ],
                    "scattergl": [
                      {
                        "marker": {
                          "colorbar": {
                            "outlinewidth": 0,
                            "ticks": ""
                          }
                        },
                        "type": "scattergl"
                      }
                    ],
                    "scattermap": [
                      {
                        "marker": {
                          "colorbar": {
                            "outlinewidth": 0,
                            "ticks": ""
                          }
                        },
                        "type": "scattermap"
                      }
                    ],
                    "scattermapbox": [
                      {
                        "marker": {
                          "colorbar": {
                            "outlinewidth": 0,
                            "ticks": ""
                          }
                        },
                        "type": "scattermapbox"
                      }
                    ],
                    "scatterpolar": [
                      {
                        "marker": {
                          "colorbar": {
                            "outlinewidth": 0,
                            "ticks": ""
                          }
                        },
                        "type": "scatterpolar"
                      }
                    ],
                    "scatterpolargl": [
                      {
                        "marker": {
                          "colorbar": {
                            "outlinewidth": 0,
                            "ticks": ""
                          }
                        },
                        "type": "scatterpolargl"
                      }
                    ],
                    "scatterternary": [
                      {
                        "marker": {
                          "colorbar": {
                            "outlinewidth": 0,
                            "ticks": ""
                          }
                        },
                        "type": "scatterternary"
                      }
                    ],
                    "surface": [
                      {
                        "colorbar": {
                          "outlinewidth": 0,
                          "ticks": ""
                        },
                        "colorscale": [
                          [
                            0,
                            "#0d0887"
                          ],
                          [
                            0.1111111111111111,
                            "#46039f"
                          ],
                          [
                            0.2222222222222222,
                            "#7201a8"
                          ],
                          [
                            0.3333333333333333,
                            "#9c179e"
                          ],
                          [
                            0.4444444444444444,
                            "#bd3786"
                          ],
                          [
                            0.5555555555555556,
                            "#d8576b"
                          ],
                          [
                            0.6666666666666666,
                            "#ed7953"
                          ],
                          [
                            0.7777777777777778,
                            "#fb9f3a"
                          ],
                          [
                            0.8888888888888888,
                            "#fdca26"
                          ],
                          [
                            1,
                            "#f0f921"
                          ]
                        ],
                        "type": "surface"
                      }
                    ],
                    "table": [
                      {
                        "cells": {
                          "fill": {
                            "color": "#EBF0F8"
                          },
                          "line": {
                            "color": "white"
                          }
                        },
                        "header": {
                          "fill": {
                            "color": "#C8D4E3"
                          },
                          "line": {
                            "color": "white"
                          }
                        },
                        "type": "table"
                      }
                    ]
                  },
                  "layout": {
                    "annotationdefaults": {
                      "arrowcolor": "#2a3f5f",
                      "arrowhead": 0,
                      "arrowwidth": 1
                    },
                    "autotypenumbers": "strict",
                    "coloraxis": {
                      "colorbar": {
                        "outlinewidth": 0,
                        "ticks": ""
                      }
                    },
                    "colorscale": {
                      "diverging": [
                        [
                          0,
                          "#8e0152"
                        ],
                        [
                          0.1,
                          "#c51b7d"
                        ],
                        [
                          0.2,
                          "#de77ae"
                        ],
                        [
                          0.3,
                          "#f1b6da"
                        ],
                        [
                          0.4,
                          "#fde0ef"
                        ],
                        [
                          0.5,
                          "#f7f7f7"
                        ],
                        [
                          0.6,
                          "#e6f5d0"
                        ],
                        [
                          0.7,
                          "#b8e186"
                        ],
                        [
                          0.8,
                          "#7fbc41"
                        ],
                        [
                          0.9,
                          "#4d9221"
                        ],
                        [
                          1,
                          "#276419"
                        ]
                      ],
                      "sequential": [
                        [
                          0,
                          "#0d0887"
                        ],
                        [
                          0.1111111111111111,
                          "#46039f"
                        ],
                        [
                          0.2222222222222222,
                          "#7201a8"
                        ],
                        [
                          0.3333333333333333,
                          "#9c179e"
                        ],
                        [
                          0.4444444444444444,
                          "#bd3786"
                        ],
                        [
                          0.5555555555555556,
                          "#d8576b"
                        ],
                        [
                          0.6666666666666666,
                          "#ed7953"
                        ],
                        [
                          0.7777777777777778,
                          "#fb9f3a"
                        ],
                        [
                          0.8888888888888888,
                          "#fdca26"
                        ],
                        [
                          1,
                          "#f0f921"
                        ]
                      ],
                      "sequentialminus": [
                        [
                          0,
                          "#0d0887"
                        ],
                        [
                          0.1111111111111111,
                          "#46039f"
                        ],
                        [
                          0.2222222222222222,
                          "#7201a8"
                        ],
                        [
                          0.3333333333333333,
                          "#9c179e"
                        ],
                        [
                          0.4444444444444444,
                          "#bd3786"
                        ],
                        [
                          0.5555555555555556,
                          "#d8576b"
                        ],
                        [
                          0.6666666666666666,
                          "#ed7953"
                        ],
                        [
                          0.7777777777777778,
                          "#fb9f3a"
                        ],
                        [
                          0.8888888888888888,
                          "#fdca26"
                        ],
                        [
                          1,
                          "#f0f921"
                        ]
                      ]
                    },
                    "colorway": [
                      "#636efa",
                      "#EF553B",
                      "#00cc96",
                      "#ab63fa",
                      "#FFA15A",
                      "#19d3f3",
                      "#FF6692",
                      "#B6E880",
                      "#FF97FF",
                      "#FECB52"
                    ],
                    "font": {
                      "color": "#2a3f5f"
                    },
                    "geo": {
                      "bgcolor": "white",
                      "lakecolor": "white",
                      "landcolor": "#E5ECF6",
                      "showlakes": true,
                      "showland": true,
                      "subunitcolor": "white"
                    },
                    "hoverlabel": {
                      "align": "left"
                    },
                    "hovermode": "closest",
                    "mapbox": {
                      "style": "light"
                    },
                    "paper_bgcolor": "white",
                    "plot_bgcolor": "#E5ECF6",
                    "polar": {
                      "angularaxis": {
                        "gridcolor": "white",
                        "linecolor": "white",
                        "ticks": ""
                      },
                      "bgcolor": "#E5ECF6",
                      "radialaxis": {
                        "gridcolor": "white",
                        "linecolor": "white",
                        "ticks": ""
                      }
                    },
                    "scene": {
                      "xaxis": {
                        "backgroundcolor": "#E5ECF6",
                        "gridcolor": "white",
                        "gridwidth": 2,
                        "linecolor": "white",
                        "showbackground": true,
                        "ticks": "",
                        "zerolinecolor": "white"
                      },
                      "yaxis": {
                        "backgroundcolor": "#E5ECF6",
                        "gridcolor": "white",
                        "gridwidth": 2,
                        "linecolor": "white",
                        "showbackground": true,
                        "ticks": "",
                        "zerolinecolor": "white"
                      },
                      "zaxis": {
                        "backgroundcolor": "#E5ECF6",
                        "gridcolor": "white",
                        "gridwidth": 2,
                        "linecolor": "white",
                        "showbackground": true,
                        "ticks": "",
                        "zerolinecolor": "white"
                      }
                    },
                    "shapedefaults": {
                      "line": {
                        "color": "#2a3f5f"
                      }
                    },
                    "ternary": {
                      "aaxis": {
                        "gridcolor": "white",
                        "linecolor": "white",
                        "ticks": ""
                      },
                      "baxis": {
                        "gridcolor": "white",
                        "linecolor": "white",
                        "ticks": ""
                      },
                      "bgcolor": "#E5ECF6",
                      "caxis": {
                        "gridcolor": "white",
                        "linecolor": "white",
                        "ticks": ""
                      }
                    },
                    "title": {
                      "x": 0.05
                    },
                    "xaxis": {
                      "automargin": true,
                      "gridcolor": "white",
                      "linecolor": "white",
                      "ticks": "",
                      "title": {
                        "standoff": 15
                      },
                      "zerolinecolor": "white",
                      "zerolinewidth": 2
                    },
                    "yaxis": {
                      "automargin": true,
                      "gridcolor": "white",
                      "linecolor": "white",
                      "ticks": "",
                      "title": {
                        "standoff": 15
                      },
                      "zerolinecolor": "white",
                      "zerolinewidth": 2
                    }
                  }
                },
                "title": {
                  "text": "SIR Model x True recovered"
                },
                "xaxis": {
                  "anchor": "y",
                  "domain": [
                    0,
                    1
                  ],
                  "title": {
                    "text": "x"
                  }
                },
                "yaxis": {
                  "anchor": "x",
                  "domain": [
                    0,
                    1
                  ],
                  "title": {
                    "text": "y"
                  }
                }
              }
            }
          },
          "metadata": {},
          "output_type": "display_data"
        }
      ],
      "source": [
        "y_col = 'recovered' #@param [\"suspected\", \"infected\", \"recovered\"]\n",
        "\n",
        "y_col_real = {\n",
        "    \"suspected\": \"suspected\",\n",
        "    \"infected\": \"newCases\",\n",
        "    \"recovered\": \"recovered\"\n",
        "}\n",
        "y_col_sir = {\n",
        "    \"suspected\": model.S,\n",
        "    \"infected\": (-model.dS),\n",
        "    \"recovered\": model.R\n",
        "}\n",
        "fig = px.line(x=moving_average_df['date'][:FIRST_PEAK_DAY_CUT], y=moving_average_df[y_col_real[y_col]][:FIRST_PEAK_DAY_CUT], title=f'SIR Model x True {y_col}')\n",
        "fig.add_scatter(x=moving_average_df['date'][:FIRST_PEAK_DAY_CUT], y=np.array(y_col_sir[y_col][:FIRST_PEAK_DAY_CUT])*model.N)\n",
        "\n",
        "fig.data[0].name = \"Real Data\"\n",
        "fig.data[0].showlegend = True\n",
        "fig.data[1].name = \"SIR\"\n",
        "fig.show()"
      ]
    }
  ],
  "metadata": {
    "colab": {
      "collapsed_sections": [],
      "name": "MAP3208 - EP.ipynb",
      "provenance": []
    },
    "kernelspec": {
      "display_name": "3.10.13",
      "language": "python",
      "name": "python3"
    },
    "language_info": {
      "codemirror_mode": {
        "name": "ipython",
        "version": 3
      },
      "file_extension": ".py",
      "mimetype": "text/x-python",
      "name": "python",
      "nbconvert_exporter": "python",
      "pygments_lexer": "ipython3",
      "version": "3.10.13"
    }
  },
  "nbformat": 4,
  "nbformat_minor": 0
}
