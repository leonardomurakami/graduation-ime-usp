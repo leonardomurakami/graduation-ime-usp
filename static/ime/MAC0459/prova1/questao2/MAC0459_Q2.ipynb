{
 "cells": [
  {
   "cell_type": "code",
   "execution_count": 94,
   "metadata": {
    "id": "KVcxGSnihETE"
   },
   "outputs": [],
   "source": [
    "import pandas as pd\n",
    "import numpy as np\n",
    "\n",
    "from sklearn.pipeline import Pipeline\n",
    "from sklearn.compose import ColumnTransformer\n",
    "from sklearn.metrics import mean_squared_error\n",
    "from sklearn.tree import DecisionTreeRegressor\n",
    "from sklearn.preprocessing import OrdinalEncoder\n",
    "from sklearn.ensemble import RandomForestRegressor\n",
    "from sklearn.model_selection import train_test_split, RandomizedSearchCV"
   ]
  },
  {
   "cell_type": "code",
   "execution_count": 78,
   "metadata": {
    "id": "gLtYNFtGh94i"
   },
   "outputs": [],
   "source": [
    "WINE_DATASET_LOCATION = './winemag-data-130k-v2.csv'\n",
    "df = pd.read_csv(WINE_DATASET_LOCATION, index_col=0)"
   ]
  },
  {
   "cell_type": "markdown",
   "metadata": {
    "id": "B3UAfbShiDKn"
   },
   "source": [
    "# Brief Analysis"
   ]
  },
  {
   "cell_type": "code",
   "execution_count": 79,
   "metadata": {
    "colab": {
     "base_uri": "https://localhost:8080/",
     "height": 687
    },
    "id": "o5DaPO_xh_23",
    "outputId": "894b16eb-41fa-4068-c5e4-fb7f685faebf"
   },
   "outputs": [
    {
     "data": {
      "text/html": [
       "\n",
       "  <div id=\"df-c536a688-dff5-446c-87a0-776a9ce03a40\">\n",
       "    <div class=\"colab-df-container\">\n",
       "      <div>\n",
       "<style scoped>\n",
       "    .dataframe tbody tr th:only-of-type {\n",
       "        vertical-align: middle;\n",
       "    }\n",
       "\n",
       "    .dataframe tbody tr th {\n",
       "        vertical-align: top;\n",
       "    }\n",
       "\n",
       "    .dataframe thead th {\n",
       "        text-align: right;\n",
       "    }\n",
       "</style>\n",
       "<table border=\"1\" class=\"dataframe\">\n",
       "  <thead>\n",
       "    <tr style=\"text-align: right;\">\n",
       "      <th></th>\n",
       "      <th>country</th>\n",
       "      <th>description</th>\n",
       "      <th>designation</th>\n",
       "      <th>points</th>\n",
       "      <th>price</th>\n",
       "      <th>province</th>\n",
       "      <th>region_1</th>\n",
       "      <th>region_2</th>\n",
       "      <th>taster_name</th>\n",
       "      <th>taster_twitter_handle</th>\n",
       "      <th>title</th>\n",
       "      <th>variety</th>\n",
       "      <th>winery</th>\n",
       "    </tr>\n",
       "  </thead>\n",
       "  <tbody>\n",
       "    <tr>\n",
       "      <th>0</th>\n",
       "      <td>Italy</td>\n",
       "      <td>Aromas include tropical fruit, broom, brimston...</td>\n",
       "      <td>Vulkà Bianco</td>\n",
       "      <td>87</td>\n",
       "      <td>NaN</td>\n",
       "      <td>Sicily &amp; Sardinia</td>\n",
       "      <td>Etna</td>\n",
       "      <td>NaN</td>\n",
       "      <td>Kerin O’Keefe</td>\n",
       "      <td>@kerinokeefe</td>\n",
       "      <td>Nicosia 2013 Vulkà Bianco  (Etna)</td>\n",
       "      <td>White Blend</td>\n",
       "      <td>Nicosia</td>\n",
       "    </tr>\n",
       "    <tr>\n",
       "      <th>1</th>\n",
       "      <td>Portugal</td>\n",
       "      <td>This is ripe and fruity, a wine that is smooth...</td>\n",
       "      <td>Avidagos</td>\n",
       "      <td>87</td>\n",
       "      <td>15.0</td>\n",
       "      <td>Douro</td>\n",
       "      <td>NaN</td>\n",
       "      <td>NaN</td>\n",
       "      <td>Roger Voss</td>\n",
       "      <td>@vossroger</td>\n",
       "      <td>Quinta dos Avidagos 2011 Avidagos Red (Douro)</td>\n",
       "      <td>Portuguese Red</td>\n",
       "      <td>Quinta dos Avidagos</td>\n",
       "    </tr>\n",
       "    <tr>\n",
       "      <th>2</th>\n",
       "      <td>US</td>\n",
       "      <td>Tart and snappy, the flavors of lime flesh and...</td>\n",
       "      <td>NaN</td>\n",
       "      <td>87</td>\n",
       "      <td>14.0</td>\n",
       "      <td>Oregon</td>\n",
       "      <td>Willamette Valley</td>\n",
       "      <td>Willamette Valley</td>\n",
       "      <td>Paul Gregutt</td>\n",
       "      <td>@paulgwine</td>\n",
       "      <td>Rainstorm 2013 Pinot Gris (Willamette Valley)</td>\n",
       "      <td>Pinot Gris</td>\n",
       "      <td>Rainstorm</td>\n",
       "    </tr>\n",
       "    <tr>\n",
       "      <th>3</th>\n",
       "      <td>US</td>\n",
       "      <td>Pineapple rind, lemon pith and orange blossom ...</td>\n",
       "      <td>Reserve Late Harvest</td>\n",
       "      <td>87</td>\n",
       "      <td>13.0</td>\n",
       "      <td>Michigan</td>\n",
       "      <td>Lake Michigan Shore</td>\n",
       "      <td>NaN</td>\n",
       "      <td>Alexander Peartree</td>\n",
       "      <td>NaN</td>\n",
       "      <td>St. Julian 2013 Reserve Late Harvest Riesling ...</td>\n",
       "      <td>Riesling</td>\n",
       "      <td>St. Julian</td>\n",
       "    </tr>\n",
       "    <tr>\n",
       "      <th>4</th>\n",
       "      <td>US</td>\n",
       "      <td>Much like the regular bottling from 2012, this...</td>\n",
       "      <td>Vintner's Reserve Wild Child Block</td>\n",
       "      <td>87</td>\n",
       "      <td>65.0</td>\n",
       "      <td>Oregon</td>\n",
       "      <td>Willamette Valley</td>\n",
       "      <td>Willamette Valley</td>\n",
       "      <td>Paul Gregutt</td>\n",
       "      <td>@paulgwine</td>\n",
       "      <td>Sweet Cheeks 2012 Vintner's Reserve Wild Child...</td>\n",
       "      <td>Pinot Noir</td>\n",
       "      <td>Sweet Cheeks</td>\n",
       "    </tr>\n",
       "  </tbody>\n",
       "</table>\n",
       "</div>\n",
       "      <button class=\"colab-df-convert\" onclick=\"convertToInteractive('df-c536a688-dff5-446c-87a0-776a9ce03a40')\"\n",
       "              title=\"Convert this dataframe to an interactive table.\"\n",
       "              style=\"display:none;\">\n",
       "        \n",
       "  <svg xmlns=\"http://www.w3.org/2000/svg\" height=\"24px\"viewBox=\"0 0 24 24\"\n",
       "       width=\"24px\">\n",
       "    <path d=\"M0 0h24v24H0V0z\" fill=\"none\"/>\n",
       "    <path d=\"M18.56 5.44l.94 2.06.94-2.06 2.06-.94-2.06-.94-.94-2.06-.94 2.06-2.06.94zm-11 1L8.5 8.5l.94-2.06 2.06-.94-2.06-.94L8.5 2.5l-.94 2.06-2.06.94zm10 10l.94 2.06.94-2.06 2.06-.94-2.06-.94-.94-2.06-.94 2.06-2.06.94z\"/><path d=\"M17.41 7.96l-1.37-1.37c-.4-.4-.92-.59-1.43-.59-.52 0-1.04.2-1.43.59L10.3 9.45l-7.72 7.72c-.78.78-.78 2.05 0 2.83L4 21.41c.39.39.9.59 1.41.59.51 0 1.02-.2 1.41-.59l7.78-7.78 2.81-2.81c.8-.78.8-2.07 0-2.86zM5.41 20L4 18.59l7.72-7.72 1.47 1.35L5.41 20z\"/>\n",
       "  </svg>\n",
       "      </button>\n",
       "      \n",
       "  <style>\n",
       "    .colab-df-container {\n",
       "      display:flex;\n",
       "      flex-wrap:wrap;\n",
       "      gap: 12px;\n",
       "    }\n",
       "\n",
       "    .colab-df-convert {\n",
       "      background-color: #E8F0FE;\n",
       "      border: none;\n",
       "      border-radius: 50%;\n",
       "      cursor: pointer;\n",
       "      display: none;\n",
       "      fill: #1967D2;\n",
       "      height: 32px;\n",
       "      padding: 0 0 0 0;\n",
       "      width: 32px;\n",
       "    }\n",
       "\n",
       "    .colab-df-convert:hover {\n",
       "      background-color: #E2EBFA;\n",
       "      box-shadow: 0px 1px 2px rgba(60, 64, 67, 0.3), 0px 1px 3px 1px rgba(60, 64, 67, 0.15);\n",
       "      fill: #174EA6;\n",
       "    }\n",
       "\n",
       "    [theme=dark] .colab-df-convert {\n",
       "      background-color: #3B4455;\n",
       "      fill: #D2E3FC;\n",
       "    }\n",
       "\n",
       "    [theme=dark] .colab-df-convert:hover {\n",
       "      background-color: #434B5C;\n",
       "      box-shadow: 0px 1px 3px 1px rgba(0, 0, 0, 0.15);\n",
       "      filter: drop-shadow(0px 1px 2px rgba(0, 0, 0, 0.3));\n",
       "      fill: #FFFFFF;\n",
       "    }\n",
       "  </style>\n",
       "\n",
       "      <script>\n",
       "        const buttonEl =\n",
       "          document.querySelector('#df-c536a688-dff5-446c-87a0-776a9ce03a40 button.colab-df-convert');\n",
       "        buttonEl.style.display =\n",
       "          google.colab.kernel.accessAllowed ? 'block' : 'none';\n",
       "\n",
       "        async function convertToInteractive(key) {\n",
       "          const element = document.querySelector('#df-c536a688-dff5-446c-87a0-776a9ce03a40');\n",
       "          const dataTable =\n",
       "            await google.colab.kernel.invokeFunction('convertToInteractive',\n",
       "                                                     [key], {});\n",
       "          if (!dataTable) return;\n",
       "\n",
       "          const docLinkHtml = 'Like what you see? Visit the ' +\n",
       "            '<a target=\"_blank\" href=https://colab.research.google.com/notebooks/data_table.ipynb>data table notebook</a>'\n",
       "            + ' to learn more about interactive tables.';\n",
       "          element.innerHTML = '';\n",
       "          dataTable['output_type'] = 'display_data';\n",
       "          await google.colab.output.renderOutput(dataTable, element);\n",
       "          const docLink = document.createElement('div');\n",
       "          docLink.innerHTML = docLinkHtml;\n",
       "          element.appendChild(docLink);\n",
       "        }\n",
       "      </script>\n",
       "    </div>\n",
       "  </div>\n",
       "  "
      ],
      "text/plain": [
       "    country  ...               winery\n",
       "0     Italy  ...              Nicosia\n",
       "1  Portugal  ...  Quinta dos Avidagos\n",
       "2        US  ...            Rainstorm\n",
       "3        US  ...           St. Julian\n",
       "4        US  ...         Sweet Cheeks\n",
       "\n",
       "[5 rows x 13 columns]"
      ]
     },
     "execution_count": 79,
     "metadata": {},
     "output_type": "execute_result"
    }
   ],
   "source": [
    "df.head(5)"
   ]
  },
  {
   "cell_type": "markdown",
   "metadata": {
    "id": "jNj5UYPJiIfg"
   },
   "source": [
    "Taking a quick glance at the dataset, we can quickly get our possible target for our machine learning project.\n",
    "\n",
    "Let's try to predict the score of a wine by it's features!\n",
    "\n",
    "Since SKLearn can't work with strings in categorical features, we will need at least a bit of preprocessing, to avoid creating too many columns we will be utilizing the ordinal encoder from scikit-learn itself."
   ]
  },
  {
   "cell_type": "markdown",
   "metadata": {
    "id": "PCiYcJFZnhMD"
   },
   "source": [
    "Since the taster itself may induce some bias towards some wines, we will be including it as a feature for testing."
   ]
  },
  {
   "cell_type": "code",
   "execution_count": 80,
   "metadata": {
    "id": "J7K-41A7uJlq"
   },
   "outputs": [],
   "source": [
    "#simple data cleaning\n",
    "df = df.dropna(subset=['price']).fillna(\"-1\")"
   ]
  },
  {
   "cell_type": "markdown",
   "metadata": {
    "id": "rELPZEWndADn"
   },
   "source": [
    "Our pipeline will be very similar from the Decision Tree to the Random Forest. We will be using regressors for both, since it can be described as a regression problem. Another possible approach (which I have already taken on another time and do not wish to re-do because I have already done it) is to group the scores by a certain range and do a classification problem instead of a regression.\n",
    "\n",
    "Our pipeline will be the following:"
   ]
  },
  {
   "cell_type": "code",
   "execution_count": 171,
   "metadata": {
    "id": "hEawyifoov3k"
   },
   "outputs": [],
   "source": [
    "ord_encoder_columns = [\n",
    "  'country',\n",
    "  'designation',\n",
    "  'region_1',\n",
    "  'region_2',\n",
    "  'taster_name',\n",
    "  'variety',\n",
    "  'winery'\n",
    "]\n",
    "\n",
    "transforming_pipeline = ColumnTransformer([\n",
    "  ('ordinal_encoder', OrdinalEncoder(\n",
    "      handle_unknown='use_encoded_value',\n",
    "      unknown_value=-1\n",
    "  ), ord_encoder_columns),\n",
    "])\n",
    "\n",
    "rf_pipeline = Pipeline([\n",
    "  ('encoding', transforming_pipeline),\n",
    "  ('model', RandomForestRegressor())\n",
    "])\n",
    "\n",
    "dt_pipeline = Pipeline([\n",
    "  ('encoding', transforming_pipeline),\n",
    "  ('model', DecisionTreeRegressor())\n",
    "])"
   ]
  },
  {
   "cell_type": "markdown",
   "metadata": {
    "id": "PQiF8iiYfSF-"
   },
   "source": [
    "First we pass all our categorical columns to an Ordinal Encoder, such that categorical values (strings in the table, such as countries) become numbers which are accepted by both models.\n",
    "\n",
    "If we do not know the encoding for a category (such as, a category only seen in the test group and not seen in the training subset) we will attribute it the value -1 so that it will not raise an error and will still be able to be scored."
   ]
  },
  {
   "cell_type": "code",
   "execution_count": 172,
   "metadata": {
    "id": "Yosy1-jnusFG"
   },
   "outputs": [],
   "source": [
    "train, test = train_test_split(df, test_size=0.1, shuffle=True)"
   ]
  },
  {
   "cell_type": "markdown",
   "metadata": {
    "id": "0Avl7zMqf3XK"
   },
   "source": [
    "We then create a train and test split of 10% of the data to the train. Since the hyperoptimization runs a cross validation algorithm we do not need to create a validation set ourselves."
   ]
  },
  {
   "cell_type": "code",
   "execution_count": 173,
   "metadata": {
    "colab": {
     "base_uri": "https://localhost:8080/"
    },
    "id": "53YX5IcBvISw",
    "outputId": "b18ecb04-4501-4b65-9191-8ee4604326b9"
   },
   "outputs": [
    {
     "name": "stdout",
     "output_type": "stream",
     "text": [
      "Train set shape: (108877, 13)\n",
      "Test set shape: (12098, 13)\n"
     ]
    }
   ],
   "source": [
    "print(f\"Train set shape: {train.shape}\")\n",
    "#print(f\"Validation set shape: {val.shape}\")\n",
    "print(f\"Test set shape: {test.shape}\")"
   ]
  },
  {
   "cell_type": "code",
   "execution_count": 175,
   "metadata": {
    "id": "OTsr2kHktBN8"
   },
   "outputs": [],
   "source": [
    "FEATURES = [\n",
    "  'country',\n",
    "  'designation',\n",
    "  'region_1',\n",
    "  'region_2',\n",
    "  'taster_name',\n",
    "  'variety',\n",
    "  'winery',\n",
    "  'price'\n",
    "]\n",
    "TARGET = 'points'\n",
    "\n",
    "X_train, X_test = train[FEATURES], test[FEATURES] \n",
    "y_train, y_test = train[TARGET], test[TARGET]"
   ]
  },
  {
   "cell_type": "markdown",
   "metadata": {
    "id": "fO_AFFqvgEqL"
   },
   "source": [
    "This split leaves us with about 110k occurences in the train dataset and 12k wines in the test set"
   ]
  },
  {
   "cell_type": "markdown",
   "metadata": {
    "id": "jC2_woL-gO-v"
   },
   "source": [
    "We then instantiate a random grid to search best params on the random forest and the decision tree, we will be using the RandomizedSearch algorithm from the scikit-learn library to find the best params for both of our models."
   ]
  },
  {
   "cell_type": "code",
   "execution_count": 215,
   "metadata": {
    "id": "GfPag0vOvvvD"
   },
   "outputs": [],
   "source": [
    "int_vec = np.vectorize(int)\n",
    "rf_random_grid = {\n",
    "  'model__n_estimators': int_vec(np.linspace(50, 100, 100)),\n",
    "  'model__max_features': [\"auto\", \"sqrt\", \"log2\"],\n",
    "  'model__max_depth': int_vec(np.linspace(3, 15, 10)),\n",
    "  'model__min_samples_split': int_vec(np.linspace(2, 30, 10)),\n",
    "  'model__min_samples_leaf': int_vec(np.linspace(1, 10, 10)),\n",
    "  'model__bootstrap': [True, False]\n",
    "}\n",
    "\n",
    "dt_random_grid = {\n",
    "  'model__max_features': [\"auto\", \"sqrt\", \"log2\"],\n",
    "  'model__max_depth': int_vec(np.linspace(3, 30, 20)),\n",
    "  'model__min_samples_split': int_vec(np.linspace(2, 30, 10)),\n",
    "  'model__min_samples_leaf': int_vec(np.linspace(1, 10, 10))\n",
    "}"
   ]
  },
  {
   "cell_type": "markdown",
   "metadata": {
    "id": "ya3nug_xgqDY"
   },
   "source": [
    "Since the RandomizedSearch utilizes an increasing metric as it's best score (and I did not read enough of it's documentation on how to flip it) we will be using the inverted mse score to fine-tune our algorithm, the formula below is contained in the function.\n",
    "\n",
    "This metric increases to a max of 1 as the MSE decreases and get closer to 0 as the MSE increases"
   ]
  },
  {
   "cell_type": "code",
   "execution_count": 216,
   "metadata": {
    "colab": {
     "base_uri": "https://localhost:8080/"
    },
    "id": "3GnvA09jxDqe",
    "outputId": "4268cb95-3476-4361-9536-1f25dfe1f073"
   },
   "outputs": [
    {
     "data": {
      "text/plain": [
       "RandomizedSearchCV(estimator=Pipeline(steps=[('encoding',\n",
       "                                              ColumnTransformer(transformers=[('ordinal_encoder',\n",
       "                                                                               OrdinalEncoder(handle_unknown='use_encoded_value',\n",
       "                                                                                              unknown_value=-1),\n",
       "                                                                               ['country',\n",
       "                                                                                'designation',\n",
       "                                                                                'region_1',\n",
       "                                                                                'region_2',\n",
       "                                                                                'taster_name',\n",
       "                                                                                'variety',\n",
       "                                                                                'winery'])])),\n",
       "                                             ('model',\n",
       "                                              DecisionTreeRegressor())]),\n",
       "                   n_iter=15, n_jobs=1,\n",
       "                   param_distributions={'model__max_depth': array([ 3,  4,  5,  7,  8, 10, 11, 12, 14, 15, 17, 18, 20, 21, 22, 24, 25,\n",
       "       27, 28, 30]),\n",
       "                                        'model__max_features': ['auto', 'sqrt',\n",
       "                                                                'log2'],\n",
       "                                        'model__min_samples_leaf': array([ 1,  2,  3,  4,  5,  6,  7,  8,  9, 10]),\n",
       "                                        'model__min_samples_split': array([ 2,  5,  8, 11, 14, 17, 20, 23, 26, 30])},\n",
       "                   scoring=<function mse_score_hyperopt at 0x7fcd03acddd0>)"
      ]
     },
     "execution_count": 216,
     "metadata": {},
     "output_type": "execute_result"
    }
   ],
   "source": [
    "def mse_score_hyperopt(scorer, X, y):\n",
    "  return 1/(mean_squared_error(y, scorer.predict(X))+1)\n",
    "\n",
    "gridsearch_rf = RandomizedSearchCV(\n",
    "    rf_pipeline,\n",
    "    rf_random_grid,\n",
    "    n_iter=15,\n",
    "    scoring=mse_score_hyperopt,\n",
    "    n_jobs=1\n",
    ")\n",
    "\n",
    "gridsearch_dt = RandomizedSearchCV(\n",
    "    dt_pipeline,\n",
    "    dt_random_grid,\n",
    "    n_iter=15,\n",
    "    scoring=mse_score_hyperopt,\n",
    "    n_jobs=1\n",
    ")\n",
    "\n",
    "gridsearch_rf.fit(X_train, y_train)\n",
    "gridsearch_dt.fit(X_train, y_train)"
   ]
  },
  {
   "cell_type": "markdown",
   "metadata": {
    "id": "lTbytxQUiJmf"
   },
   "source": [
    "Since we are creating some very dense forests (n_estimators) with big trees (max_depth) we will run the algorithm for few rounds, it was also noticeable during the creation of this code that the score changes very little."
   ]
  },
  {
   "cell_type": "code",
   "execution_count": 217,
   "metadata": {
    "colab": {
     "base_uri": "https://localhost:8080/"
    },
    "id": "n3SHJGKwTX4m",
    "outputId": "a9da7e10-3095-4777-fa0d-7f06c0d3bab5"
   },
   "outputs": [
    {
     "data": {
      "text/plain": [
       "{'model__bootstrap': True,\n",
       " 'model__max_depth': 15,\n",
       " 'model__max_features': 'log2',\n",
       " 'model__min_samples_leaf': 3,\n",
       " 'model__min_samples_split': 5,\n",
       " 'model__n_estimators': 74}"
      ]
     },
     "execution_count": 217,
     "metadata": {},
     "output_type": "execute_result"
    }
   ],
   "source": [
    "gridsearch_rf.best_params_"
   ]
  },
  {
   "cell_type": "code",
   "execution_count": 218,
   "metadata": {
    "colab": {
     "base_uri": "https://localhost:8080/"
    },
    "id": "lJpcuampjGYn",
    "outputId": "5da7df32-b7f2-4327-9fae-999110e4ec3c"
   },
   "outputs": [
    {
     "data": {
      "text/plain": [
       "{'model__max_depth': 14,\n",
       " 'model__max_features': 'auto',\n",
       " 'model__min_samples_leaf': 6,\n",
       " 'model__min_samples_split': 14}"
      ]
     },
     "execution_count": 218,
     "metadata": {},
     "output_type": "execute_result"
    }
   ],
   "source": [
    "gridsearch_dt.best_params_"
   ]
  },
  {
   "cell_type": "code",
   "execution_count": 219,
   "metadata": {
    "colab": {
     "base_uri": "https://localhost:8080/"
    },
    "id": "edZtTqnvSlt4",
    "outputId": "3ac61020-b74c-49ba-e319-75b867aff9ab"
   },
   "outputs": [
    {
     "data": {
      "text/plain": [
       "Pipeline(steps=[('encoding',\n",
       "                 ColumnTransformer(transformers=[('ordinal_encoder',\n",
       "                                                  OrdinalEncoder(handle_unknown='use_encoded_value',\n",
       "                                                                 unknown_value=-1),\n",
       "                                                  ['country', 'designation',\n",
       "                                                   'region_1', 'region_2',\n",
       "                                                   'taster_name', 'variety',\n",
       "                                                   'winery'])])),\n",
       "                ('model',\n",
       "                 DecisionTreeRegressor(max_depth=14, max_features='auto',\n",
       "                                       min_samples_leaf=6,\n",
       "                                       min_samples_split=14))])"
      ]
     },
     "execution_count": 219,
     "metadata": {},
     "output_type": "execute_result"
    }
   ],
   "source": [
    "rf_pipeline.set_params(**gridsearch_rf.best_params_)\n",
    "dt_pipeline.set_params(**gridsearch_dt.best_params_)"
   ]
  },
  {
   "cell_type": "code",
   "execution_count": 220,
   "metadata": {
    "colab": {
     "base_uri": "https://localhost:8080/"
    },
    "id": "hHrRLDQXmLZO",
    "outputId": "8ee538d0-ded0-466c-e889-2fe382692062"
   },
   "outputs": [
    {
     "data": {
      "text/plain": [
       "Pipeline(steps=[('encoding',\n",
       "                 ColumnTransformer(transformers=[('ordinal_encoder',\n",
       "                                                  OrdinalEncoder(handle_unknown='use_encoded_value',\n",
       "                                                                 unknown_value=-1),\n",
       "                                                  ['country', 'designation',\n",
       "                                                   'region_1', 'region_2',\n",
       "                                                   'taster_name', 'variety',\n",
       "                                                   'winery'])])),\n",
       "                ('model',\n",
       "                 DecisionTreeRegressor(max_depth=14, max_features='auto',\n",
       "                                       min_samples_leaf=6,\n",
       "                                       min_samples_split=14))])"
      ]
     },
     "execution_count": 220,
     "metadata": {},
     "output_type": "execute_result"
    }
   ],
   "source": [
    "rf_pipeline.fit(X_train, y_train)\n",
    "dt_pipeline.fit(X_train, y_train)"
   ]
  },
  {
   "cell_type": "code",
   "execution_count": 221,
   "metadata": {
    "colab": {
     "base_uri": "https://localhost:8080/"
    },
    "id": "5evC1Y6utPMT",
    "outputId": "c4439f73-b493-4fa2-e325-edbd30fe9fa0"
   },
   "outputs": [
    {
     "data": {
      "text/plain": [
       "array([91.79166667, 88.08783784, 87.06896552, ..., 86.21428571,\n",
       "       86.64      , 89.26315789])"
      ]
     },
     "execution_count": 221,
     "metadata": {},
     "output_type": "execute_result"
    }
   ],
   "source": [
    "rf_pipeline.predict(X_test)\n",
    "dt_pipeline.predict(X_test)"
   ]
  },
  {
   "cell_type": "code",
   "execution_count": 230,
   "metadata": {
    "id": "h3-2ttILui08"
   },
   "outputs": [],
   "source": [
    "X_test['predicted_points_rf'] = rf_pipeline.predict(X_test)\n",
    "X_test['predicted_points_dt'] = dt_pipeline.predict(X_test)\n",
    "X_test['points'] = y_test\n"
   ]
  },
  {
   "cell_type": "code",
   "execution_count": 231,
   "metadata": {
    "colab": {
     "base_uri": "https://localhost:8080/",
     "height": 499
    },
    "id": "y8qluZ0laVZJ",
    "outputId": "e9957e8b-3eb1-4fab-9914-2be1ce9ec759"
   },
   "outputs": [
    {
     "data": {
      "image/png": "[encoded data removed]",
      "text/plain": [
       "<Figure size 864x576 with 1 Axes>"
      ]
     },
     "metadata": {
      "needs_background": "light"
     },
     "output_type": "display_data"
    }
   ],
   "source": [
    "import matplotlib.pyplot as plt\n",
    "\n",
    "plt.figure(figsize=(12,8))\n",
    "plt.title(\"Prediction Distribution x Real Data Distribution - Random Forest\")\n",
    "plt.hist(X_test['predicted_points_rf'], color='green', alpha=0.5, label='Model Prediction', bins=15)\n",
    "plt.hist(X_test['points'], color='orange', alpha=0.7, label='True Data', bins=15)\n",
    "plt.legend()\n",
    "plt.show()"
   ]
  },
  {
   "cell_type": "code",
   "execution_count": 232,
   "metadata": {
    "colab": {
     "base_uri": "https://localhost:8080/",
     "height": 499
    },
    "id": "18GCSlSojRWv",
    "outputId": "f1b9471d-b7f3-4b51-9f2e-99de90b1cfed"
   },
   "outputs": [
    {
     "data": {
      "image/png": "[encoded data removed]",
      "text/plain": [
       "<Figure size 864x576 with 1 Axes>"
      ]
     },
     "metadata": {
      "needs_background": "light"
     },
     "output_type": "display_data"
    }
   ],
   "source": [
    "import matplotlib.pyplot as plt\n",
    "\n",
    "plt.figure(figsize=(12,8))\n",
    "plt.title(\"Prediction Distribution x Real Data Distribution - Decision Tree\")\n",
    "plt.hist(X_test['predicted_points_dt'], color='green', alpha=0.5, label='Model Prediction', bins=15)\n",
    "plt.hist(X_test['points'], color='orange', alpha=0.7, label='True Data', bins=15)\n",
    "plt.legend()\n",
    "plt.show()"
   ]
  },
  {
   "cell_type": "code",
   "execution_count": 245,
   "metadata": {
    "id": "WgRGQZC2eXbS"
   },
   "outputs": [],
   "source": [
    "X_test.loc[:, 'error_rf'] = X_test['predicted_points_rf']-X_test['points']\n",
    "X_test.loc[:, 'absolute_error_rf'] = np.abs(X_test['error_rf'])\n",
    "\n",
    "X_test.loc[:, 'error_dt'] = X_test['predicted_points_dt']-X_test['points']\n",
    "X_test.loc[:, 'absolute_error_dt'] = np.abs(X_test['error_dt'])"
   ]
  },
  {
   "cell_type": "code",
   "execution_count": 256,
   "metadata": {
    "colab": {
     "base_uri": "https://localhost:8080/",
     "height": 499
    },
    "id": "469AtLiGjbH2",
    "outputId": "fe934106-8d02-4a7f-bdbe-632d0224241c"
   },
   "outputs": [
    {
     "data": {
      "image/png": "[encoded data removed]",
      "text/plain": [
       "<Figure size 864x576 with 1 Axes>"
      ]
     },
     "metadata": {
      "needs_background": "light"
     },
     "output_type": "display_data"
    }
   ],
   "source": [
    "plt.figure(figsize=(12,8))\n",
    "plt.title(\"Error Distribution - Decision Tree\")\n",
    "plt.hist(X_test['error_dt'], color='red', alpha=0.5, label='Random Forest', bins=100, density=True)\n",
    "plt.hist(X_test['error_rf'], color='green', alpha=0.5, label='Decision Tree', bins=100, density=True)\n",
    "plt.legend()\n",
    "plt.show()"
   ]
  },
  {
   "cell_type": "code",
   "execution_count": 248,
   "metadata": {
    "colab": {
     "base_uri": "https://localhost:8080/"
    },
    "id": "VeR325HBb-7x",
    "outputId": "e7fa3d81-48f9-46e6-bee5-ab0e976f607e"
   },
   "outputs": [
    {
     "data": {
      "text/plain": [
       "count    12098.000000\n",
       "mean         1.978997\n",
       "std          1.516004\n",
       "min          0.000072\n",
       "25%          0.782275\n",
       "50%          1.676183\n",
       "75%          2.840945\n",
       "max         10.855068\n",
       "Name: absolute_error_rf, dtype: float64"
      ]
     },
     "execution_count": 248,
     "metadata": {},
     "output_type": "execute_result"
    }
   ],
   "source": [
    "X_test['absolute_error_rf'].describe()"
   ]
  },
  {
   "cell_type": "code",
   "execution_count": 249,
   "metadata": {
    "colab": {
     "base_uri": "https://localhost:8080/"
    },
    "id": "N69rONjqjiwQ",
    "outputId": "681a8188-30c0-4e72-8d80-0f2f0b2fb5c4"
   },
   "outputs": [
    {
     "data": {
      "text/plain": [
       "count    12098.000000\n",
       "mean         2.049980\n",
       "std          1.622230\n",
       "min          0.000000\n",
       "25%          0.802817\n",
       "50%          1.692308\n",
       "75%          2.927896\n",
       "max         12.500000\n",
       "Name: absolute_error_dt, dtype: float64"
      ]
     },
     "execution_count": 249,
     "metadata": {},
     "output_type": "execute_result"
    }
   ],
   "source": [
    "X_test['absolute_error_dt'].describe()"
   ]
  },
  {
   "cell_type": "markdown",
   "metadata": {
    "id": "s796Aw-gcAys"
   },
   "source": [
    "## Random Forest\n",
    "As we can see on the graph above, we have an error centered in 0 and that presents to us a Gaussian/Normal distribution. Such that it is possible to say that our random forest model was capable of reasonably understanding the wine critics behavior. It is also worth noting that the error has an maximum value of 10 (be it positive or negative)\n",
    "\n",
    "Albeit being an error of 10% of the max value of the scale it is also worth noting that the critics have not given a score below 80, as seen in the Prediction x Real Data distribution histogram above, so our error becomes much larger in comparison to the real data that is observed, since, if we consider the true range to be of 80-100, it is kinda bad to be unaccurate by at most 10.\n",
    "\n",
    "That said, since we have a simple categorical treatment, do not use the description field (since it would require much more work), it is an acceptable error to miss on average about 2 points on each review\n",
    "\n",
    "## Decision Tree\n",
    "The same points said before to the random forest model also apply to the decision tree model, even though it got a relatively close score, this could be due to the simplicity of the task (or the under-engineering of the task). If we had a more complex dataset (column wise) it could have not performed as well.\n",
    "\n",
    "This is not to say the decision tree should be discarded altogether, it has an amazing efficiency even on larger datasets, since we are only building a single tree (instead of a forest), so it should be capable of dealing with larger data (row wise) with relatively ease. For example, the decision tree kept the same hyperparameter optimizing algorithm of the Random Forest, which ran in 11 minutes, running in under 2 minutes.\n"
   ]
  }
 ],
 "metadata": {
  "colab": {
   "collapsed_sections": [],
   "name": "MAC0459 - Q2.ipynb",
   "provenance": []
  },
  "kernelspec": {
   "display_name": "Python 3 (ipykernel)",
   "language": "python",
   "name": "python3"
  },
  "language_info": {
   "codemirror_mode": {
    "name": "ipython",
    "version": 3
   },
   "file_extension": ".py",
   "mimetype": "text/x-python",
   "name": "python",
   "nbconvert_exporter": "python",
   "pygments_lexer": "ipython3",
   "version": "3.9.7"
  }
 },
 "nbformat": 4,
 "nbformat_minor": 1
}
